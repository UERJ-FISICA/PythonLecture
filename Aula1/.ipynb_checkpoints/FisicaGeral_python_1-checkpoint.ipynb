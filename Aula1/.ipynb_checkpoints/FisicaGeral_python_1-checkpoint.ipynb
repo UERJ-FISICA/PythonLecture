{
 "cells": [
  {
   "cell_type": "markdown",
   "metadata": {
    "slideshow": {
     "slide_type": "slide"
    }
   },
   "source": [
    "# Python"
   ]
  },
  {
   "cell_type": "markdown",
   "metadata": {
    "slideshow": {
     "slide_type": "subslide"
    }
   },
   "source": [
    "Python é uma linguagem de programação de propósito geral.\n",
    "\n",
    "É uma das linguagens de programação mais usadas no mundo atualmente. É intuitiva e de rápida aprendizagem.\n",
    "![title](pics/antigravity_cartoon.png)\n",
    "\n",
    "Você também pode usar python no seu celular ou tablet através de aplicativos:\n",
    "   + QPython3\n",
    "   + Kivy"
   ]
  },
  {
   "cell_type": "markdown",
   "metadata": {
    "slideshow": {
     "slide_type": "slide"
    }
   },
   "source": [
    "Nessa aula, aprenderemos a:\n",
    "   + escrever um script simples em python fazendo o uso de funções, listas, dicionários, etc.\n",
    "   + usar ferramentas para fazer um histograma (Matplolib)\n",
    "\n",
    "Depois de assistir a essa aula, você pode aprender sozinhx a: \n",
    "   + procurar por informação sobre Python\n",
    "   + organizar seus programas em Classes\n",
    "   + escrever Módulos de python\n",
    "   + fazer tudo o que quiser com Python e não querer usar mais nada! (ou talvez algumas linguagens complementares)"
   ]
  },
  {
   "cell_type": "markdown",
   "metadata": {
    "slideshow": {
     "slide_type": "slide"
    }
   },
   "source": [
    "## O Zen do Python"
   ]
  },
  {
   "cell_type": "code",
   "execution_count": 1,
   "metadata": {
    "slideshow": {
     "slide_type": "subslide"
    }
   },
   "outputs": [
    {
     "name": "stdout",
     "output_type": "stream",
     "text": [
      "The Zen of Python, by Tim Peters\n",
      "\n",
      "Beautiful is better than ugly.\n",
      "Explicit is better than implicit.\n",
      "Simple is better than complex.\n",
      "Complex is better than complicated.\n",
      "Flat is better than nested.\n",
      "Sparse is better than dense.\n",
      "Readability counts.\n",
      "Special cases aren't special enough to break the rules.\n",
      "Although practicality beats purity.\n",
      "Errors should never pass silently.\n",
      "Unless explicitly silenced.\n",
      "In the face of ambiguity, refuse the temptation to guess.\n",
      "There should be one-- and preferably only one --obvious way to do it.\n",
      "Although that way may not be obvious at first unless you're Dutch.\n",
      "Now is better than never.\n",
      "Although never is often better than *right* now.\n",
      "If the implementation is hard to explain, it's a bad idea.\n",
      "If the implementation is easy to explain, it may be a good idea.\n",
      "Namespaces are one honking great idea -- let's do more of those!\n"
     ]
    }
   ],
   "source": [
    "import this"
   ]
  },
  {
   "cell_type": "markdown",
   "metadata": {
    "slideshow": {
     "slide_type": "slide"
    }
   },
   "source": [
    "## O que é Python?"
   ]
  },
  {
   "cell_type": "markdown",
   "metadata": {
    "slideshow": {
     "slide_type": "subslide"
    }
   },
   "source": [
    "![title](pics/animals_hero_burmesepython.jpg)"
   ]
  },
  {
   "cell_type": "markdown",
   "metadata": {
    "slideshow": {
     "slide_type": "subslide"
    }
   },
   "source": [
    "![title](pics/monty-python-wallpapers.jpg)"
   ]
  },
  {
   "cell_type": "markdown",
   "metadata": {
    "slideshow": {
     "slide_type": "slide"
    }
   },
   "source": [
    "   <ul>\n",
    "   <li> <b>Python</b>: Linguagem de programação de alto nível. \n",
    "   <li> Com regras de <b>sintaxe</b> para escrever o que é considerado um <b>código de Python válido</b>.\n",
    "   </ul>\n",
    "   <ul>\n",
    "   <li> <b>Interpretador</b> de Python: https://www.python.org/\n",
    "       <ul>\n",
    "       <li> lê o código fonte (escrito em Python) e executa as instruções\n",
    "       </ul>\n",
    "   </ul>\n",
    "   <ul>\n",
    "   <li> Python para iniciantes sem experiência prévia em programação:\n",
    "       <ul>\n",
    "       <li> https://automatetheboringstuff.com/\n",
    "       <li> http://openbookproject.net/thinkcs/python/english3e/\n",
    "       </ul>\n",
    "   </ul>"
   ]
  },
  {
   "cell_type": "markdown",
   "metadata": {
    "slideshow": {
     "slide_type": "slide"
    }
   },
   "source": [
    "## Como instalar Python?\n",
    "\n",
    "   * Recomendação: instalar Anaconda https://docs.anaconda.com/anaconda/install/"
   ]
  },
  {
   "cell_type": "markdown",
   "metadata": {
    "slideshow": {
     "slide_type": "slide"
    }
   },
   "source": [
    "## Interpretador de Python\n",
    "\n",
    "   * modo imediato (prompt)\n",
    "   * modo script"
   ]
  },
  {
   "cell_type": "markdown",
   "metadata": {
    "slideshow": {
     "slide_type": "slide"
    }
   },
   "source": [
    "## Interpretador de Python (Prompt)\n",
    "\n",
    "   * abrir um terminal de Linux (com Python previamente instalado)\n",
    "   * python\n",
    "   * para sair: ctrl + D\n",
    "   * Para Windows, você pode usar o PyScripter para acessar o prompt ou rodar um script.\n",
    "   \n",
    "   ![title](pics/terminal.png)\n",
    "   \n",
    "   "
   ]
  },
  {
   "cell_type": "code",
   "execution_count": 1,
   "metadata": {
    "slideshow": {
     "slide_type": "slide"
    }
   },
   "outputs": [
    {
     "data": {
      "text/plain": [
       "4"
      ]
     },
     "execution_count": 1,
     "metadata": {},
     "output_type": "execute_result"
    }
   ],
   "source": [
    "2+2"
   ]
  },
  {
   "cell_type": "code",
   "execution_count": 4,
   "metadata": {
    "slideshow": {
     "slide_type": "slide"
    }
   },
   "outputs": [
    {
     "name": "stdout",
     "output_type": "stream",
     "text": [
      "Mundo, mundo, vasto mundo\n"
     ]
    }
   ],
   "source": [
    "print(\"Mundo, mundo, vasto mundo\")"
   ]
  },
  {
   "cell_type": "markdown",
   "metadata": {
    "slideshow": {
     "slide_type": "slide"
    }
   },
   "source": [
    "## Tipo de dados de Python\n",
    "   \n",
    "   <ul>\n",
    "   <li> <b> valor </b>: algo fundamental manipulado pelo programa\n",
    "       <ul>\n",
    "       <li> letra\n",
    "       <li> número\n",
    "       </ul>\n",
    "   <li> <b> tipo de dados </b>: classificação dos valores \n",
    "       <ul>\n",
    "       <li> letra: <i>string</i>\n",
    "       <li> número: <i>inteiro, float, bool</i>\n",
    "       </ul>\n",
    "   </ul>"
   ]
  },
  {
   "cell_type": "markdown",
   "metadata": {
    "slideshow": {
     "slide_type": "slide"
    }
   },
   "source": [
    "## Tipos de dados de Python\n",
    "\n",
    "   * tuplas\n",
    "   * listas\n",
    "   * dicionários\n",
    "   * tipos de dados <i>built-in</i>: https://docs.python.org/3/library/stdtypes.html\n",
    "   * tipos de dados especializados: https://docs.python.org/3/library/datatypes.html"
   ]
  },
  {
   "cell_type": "code",
   "execution_count": null,
   "metadata": {
    "slideshow": {
     "slide_type": "subslide"
    }
   },
   "outputs": [],
   "source": [
    "# a tupla é ordenada. Sintaxe: valores entre parênteses, separados por vírgulas\n",
    "tupla = (1, 8, 10) \n",
    "print(\"isto é uma tupla: \", tupla)"
   ]
  },
  {
   "cell_type": "code",
   "execution_count": null,
   "metadata": {
    "slideshow": {
     "slide_type": "subslide"
    }
   },
   "outputs": [],
   "source": [
    "# a lista NÃO É ORDENADA. Sintaxe: valores entre colchetes, separados por vírgulas\n",
    "lista = [1, 8, 10]\n",
    "print(\"isto é uma lista: \", lista)"
   ]
  },
  {
   "cell_type": "code",
   "execution_count": null,
   "metadata": {
    "slideshow": {
     "slide_type": "subslide"
    }
   },
   "outputs": [],
   "source": [
    "# loop for: para cada item da lista, fazer o comando dentro do loop.\n",
    "# a indentação é a estrutura absolutamente fundamental em python!\n",
    "for item in lista:\n",
    "    print(\"este é um item da lista: {item_lista}\".format(item_lista=item))"
   ]
  },
  {
   "cell_type": "code",
   "execution_count": null,
   "metadata": {},
   "outputs": [],
   "source": [
    "for number in range(10):\n",
    "    print(number)"
   ]
  },
  {
   "cell_type": "code",
   "execution_count": null,
   "metadata": {},
   "outputs": [],
   "source": [
    "soma = 0\n",
    "for numero in range(10):\n",
    "    soma += numero\n",
    "    print(soma)"
   ]
  },
  {
   "cell_type": "code",
   "execution_count": null,
   "metadata": {
    "slideshow": {
     "slide_type": "subslide"
    }
   },
   "outputs": [],
   "source": [
    "dicionario = {'inteiro': 8, 'float': float(3.8), 'boolean': bool(1)} \n",
    "print(\"isto é um dicionário: \", dicionario)\n",
    "print(\"essas são as chaves do dicionario: \", dicionario.keys())"
   ]
  },
  {
   "cell_type": "code",
   "execution_count": null,
   "metadata": {
    "slideshow": {
     "slide_type": "subslide"
    }
   },
   "outputs": [],
   "source": [
    "for keys in dicionario.keys():\n",
    "    print(\"este é o valor da chave '{0}': {1}\".format(keys, dicionario[keys]))"
   ]
  },
  {
   "cell_type": "markdown",
   "metadata": {
    "slideshow": {
     "slide_type": "slide"
    }
   },
   "source": [
    "## Interpretador de Python (Modo Script)\n",
    "\n",
    "   * Em Linux, escolha um editor de texto de sua preferência para editar o seu script (em Windows, você pode usar o <b>PyScripter</b>):\n",
    "      * emacs \n",
    "      * gedit\n",
    "      * atom\n",
    "      * sublime\n",
    "      * vi\n",
    "      \n",
    " "
   ]
  },
  {
   "cell_type": "code",
   "execution_count": null,
   "metadata": {
    "slideshow": {
     "slide_type": "slide"
    }
   },
   "outputs": [],
   "source": [
    "%run -i '../Examples/pyscript.py'"
   ]
  },
  {
   "cell_type": "code",
   "execution_count": null,
   "metadata": {
    "slideshow": {
     "slide_type": "slide"
    }
   },
   "outputs": [],
   "source": [
    "#!/usr/bin/env python \n",
    "\n",
    "\"\"\"Os comentários em bloco ficam entre 3 aspas\n",
    "   Assim é possível comentar em bloco\n",
    "   A sintaxe usada acima: #!/usr/bin/env python é para indicar qual interpretador de Python o sistema deve usar. É específica do sistema Unix.\n",
    "   Em Unix, um arquivo executável que começa com #! indica qual o interpretador deve ser utilizado. \n",
    "\"\"\"\n",
    "\n",
    "# com o import, explicitamos os módulos de Python que serão usados nesse programa  \n",
    "import os  # esse módulo é usado para acessar funcionalidades do sistema opracional (em geral, oferece portabilidade, i.e, estabilidade entre os diferentes sistemas operacionais)\n",
    "import sys # para interagir com o interpretador\n",
    "import statistics, math #bibliotecas usadas para o calculo de medias e desvio padrao populacional e amostral\n",
    "# bibliotecas para fazer histograma\n",
    "import matplotlib.pyplot as plt\n",
    "import numpy as np\n",
    "from matplotlib import colors\n",
    "\n",
    "def main(arguments):\n",
    "    \n",
    "    \n",
    "    # Nome do arquivo de entrada\n",
    "    input_file = '/Users/helenamalbouisson/cernbox/Work/UERJ/Aulas/PYTHON/FisicaGeral_2017-2_2018-1/PythonLecture/Examples/dados_alunos.txt'\n",
    "    \n",
    "    # Abre o arquivo de entrada no modo de leitura\n",
    "    ifile = open(input_file, 'r')\n",
    "    \n",
    "    # Percorre o arquivo de entrada linha por linha e \n",
    "    # salva cada coluna do arquivo em listas\n",
    "    idade = []\n",
    "    altura = []\n",
    "    massa = []\n",
    "    for line in ifile:\n",
    "        columns = line.split()\n",
    "        idade.append(eval(columns[0]))\n",
    "        altura.append(eval(columns[1]))\n",
    "        massa.append(eval(columns[2]))\n",
    "    \n",
    "    # calcula a média de cada uma das colunas do arquivo de entrada:\n",
    "    # idade, altura e massa:\n",
    "    print ('media idade = ', media(idade), '   mean(idade): ', statistics.mean(idade), '\\n')\n",
    "    print ('desvio padrao idade: ', sstddev(idade), '  stats.stdev(idade): ', statistics.stdev(idade), '  statistics.pstdev(idade): ', statistics.pstdev(idade), '\\n')\n",
    "    print ('media altura = ', media(altura), '   mean(altura): ', statistics.mean(altura), '\\n')\n",
    "    print ('media massa = ', media(massa), '   mean(massa): ', statistics.mean(massa), '\\n')\n",
    "\n",
    "    # histogramas\n",
    "    fig, axs = plt.subplots(1, 3)\n",
    "    axs[0].hist(idade, bins=30, range=(16,46), color='red')\n",
    "    axs[0].set_title('idade')\n",
    "    axs[0].set_xlabel('idade (anos)')\n",
    "    axs[0].set_ylabel('frequencia/ano')\n",
    "\n",
    "    axs[1].hist(altura, bins=8, range=(1.6,2.0), color='green')\n",
    "    axs[1].set_title('altura')\n",
    "    axs[1].set_xlabel('altura (m)')\n",
    "    axs[1].set_ylabel('frequencia/0.05 m')\n",
    "\n",
    "    axs[2].hist(massa, bins=8, range=(40,120), color='grey')\n",
    "    axs[2].set_title('massa')\n",
    "    axs[2].set_xlabel('massa (Kg)')\n",
    "    axs[2].set_ylabel('frequencia/10 Kg')\n",
    "\n",
    "    plt.show()\n",
    "\n",
    "    #plot_hist(idade, 30, (16,46), 'red')\n",
    "    #plot_hist(altura, 40, (1.6,2.0), 'green')\n",
    "    #plot_hist(massa, 80, (40, 120), 'grey')\n",
    "\n",
    "def media(input_list):\n",
    "    # essa funcao calcula a media dos itens da lista input_list\n",
    "    ##sum_num = 0\n",
    "    ##for i in input_list:\n",
    "        ##sum_num = sum_num + i\n",
    "    #return sum_num/len(input_list)\n",
    "    return sum(input_list)/len(input_list)\n",
    "\n",
    "\n",
    "def sstddev(input_list):\n",
    "    # cacula o desvio padrão amostral\n",
    "    # usa a biblioteca statistics do python\n",
    "    # https://docs.python.org/3/library/statistics.html\n",
    "    \n",
    "    N = len(input_list)\n",
    "    m = statistics.mean(input_list)\n",
    "    variance = 0\n",
    "    for i in input_list:\n",
    "        variance = variance + pow((i - m), 2)\n",
    "    \n",
    "    variance = variance/N\n",
    "    sample_stddev = math.sqrt((N/(N - 1))*variance)\n",
    "\n",
    "    return sample_stddev\n",
    "\n",
    "def plot_hist(input_list, n_bins, hist_range, cor):\n",
    "    # essa função pega como input uma lista \n",
    "    # e faz um histograma usando bibliotecas do\n",
    "    # matplotlib: https://matplotlib.org/api/_as_gen/matplotlib.pyplot.hist.html\n",
    "    # outras opções de módulos que tb fazem histogramas são:\n",
    "    # plotly, rootpy.\n",
    "\n",
    "    fig, ax = plt.subplots()\n",
    "    ax.hist(input_list, bins=n_bins, range=hist_range, color=cor)\n",
    "    plt.show()\n",
    "\n",
    "    ##n_bins = [16 + i for i in range(30)]\n",
    "    ##fig, ax = plt.subplots()\n",
    "    ##ax.hist(idade, bins=n_bins, color='red')\n",
    "    ##plt.show()\n",
    "\n",
    "if __name__ == '__main__':\n",
    "    sys.exit(main(sys.argv[1:]))"
   ]
  },
  {
   "cell_type": "code",
   "execution_count": null,
   "metadata": {},
   "outputs": [],
   "source": []
  }
 ],
 "metadata": {
  "celltoolbar": "Slideshow",
  "kernelspec": {
   "display_name": "Python 3",
   "language": "python",
   "name": "python3"
  },
  "language_info": {
   "codemirror_mode": {
    "name": "ipython",
    "version": 3
   },
   "file_extension": ".py",
   "mimetype": "text/x-python",
   "name": "python",
   "nbconvert_exporter": "python",
   "pygments_lexer": "ipython3",
   "version": "3.6.4"
  }
 },
 "nbformat": 4,
 "nbformat_minor": 2
}
