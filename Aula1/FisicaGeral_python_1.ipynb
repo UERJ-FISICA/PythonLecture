{
 "cells": [
  {
   "cell_type": "markdown",
   "metadata": {
    "slideshow": {
     "slide_type": "slide"
    }
   },
   "source": [
    "# Python"
   ]
  },
  {
   "cell_type": "markdown",
   "metadata": {
    "slideshow": {
     "slide_type": "subslide"
    }
   },
   "source": [
    "Python é uma linguagem de programação de propósito geral.\n",
    "\n",
    "Python é uma das linguagens de programação mais usada no mundo atualmente. É intuitiva e de rápida aprendizagem.\n",
    "\n",
    "Você também pode rodar python no seu celular ou tablet através de aplicativos:\n",
    "   + QPython3\n",
    "   + Kivy"
   ]
  },
  {
   "cell_type": "markdown",
   "metadata": {
    "slideshow": {
     "slide_type": "slide"
    }
   },
   "source": [
    "Nesse módulo, aprenderemos a:\n",
    "   + escrever um script simples em python fazendo o uso de funções, listas, dicionários, etc.\n",
    "   + usar ferramentas para fazer um histograma (Matplolib)\n",
    "\n",
    "Depois de fazer essa aula, você pode aprender sozinhx a: \n",
    "   + procurar por informação sobre python\n",
    "   + organizar seus programas em Classes\n",
    "   + escrever Módulos de python\n",
    "   + fazer tudo o que quiser com Python e não querer usar mais nada! (ou talvez algumas linguagens complementares)"
   ]
  },
  {
   "cell_type": "markdown",
   "metadata": {
    "slideshow": {
     "slide_type": "slide"
    }
   },
   "source": [
    "## O Zen do Python"
   ]
  },
  {
   "cell_type": "code",
   "execution_count": 1,
   "metadata": {
    "slideshow": {
     "slide_type": "subslide"
    }
   },
   "outputs": [
    {
     "name": "stdout",
     "output_type": "stream",
     "text": [
      "The Zen of Python, by Tim Peters\n",
      "\n",
      "Beautiful is better than ugly.\n",
      "Explicit is better than implicit.\n",
      "Simple is better than complex.\n",
      "Complex is better than complicated.\n",
      "Flat is better than nested.\n",
      "Sparse is better than dense.\n",
      "Readability counts.\n",
      "Special cases aren't special enough to break the rules.\n",
      "Although practicality beats purity.\n",
      "Errors should never pass silently.\n",
      "Unless explicitly silenced.\n",
      "In the face of ambiguity, refuse the temptation to guess.\n",
      "There should be one-- and preferably only one --obvious way to do it.\n",
      "Although that way may not be obvious at first unless you're Dutch.\n",
      "Now is better than never.\n",
      "Although never is often better than *right* now.\n",
      "If the implementation is hard to explain, it's a bad idea.\n",
      "If the implementation is easy to explain, it may be a good idea.\n",
      "Namespaces are one honking great idea -- let's do more of those!\n"
     ]
    }
   ],
   "source": [
    "import this"
   ]
  },
  {
   "cell_type": "markdown",
   "metadata": {
    "collapsed": true,
    "slideshow": {
     "slide_type": "slide"
    }
   },
   "source": [
    "## O que é Python?"
   ]
  },
  {
   "cell_type": "markdown",
   "metadata": {
    "slideshow": {
     "slide_type": "subslide"
    }
   },
   "source": [
    "![title](pics/animals_hero_burmesepython.jpg)"
   ]
  },
  {
   "cell_type": "markdown",
   "metadata": {
    "slideshow": {
     "slide_type": "subslide"
    }
   },
   "source": [
    "![title](pics/monty-python-wallpapers.jpg)"
   ]
  },
  {
   "attachments": {},
   "cell_type": "markdown",
   "metadata": {
    "slideshow": {
     "slide_type": "slide"
    }
   },
   "source": [
    "   <ul>\n",
    "   <li> <b>Python</b>: Linguagem de programação de alto nível. \n",
    "   <li> Com regras de <b>sintaxe</b> para escrever o que é considerado um <b>código de Python válido</b>.\n",
    "   </ul>\n",
    "   <ul>\n",
    "   <li> <b>Interpretador</b> de Python: https://www.python.org/\n",
    "       <ul>\n",
    "       <li> lê o código fonte (escrito em Python) e executa as instruções\n",
    "       </ul>\n",
    "   </ul>\n",
    "   <ul>\n",
    "   <li> Python para iniciantes sem experiência prévia em programação:\n",
    "       <ul>\n",
    "       <li> https://automatetheboringstuff.com/\n",
    "       <li> http://openbookproject.net/thinkcs/python/english3e/\n",
    "       </ul>\n",
    "   </ul>"
   ]
  },
  {
   "cell_type": "markdown",
   "metadata": {
    "slideshow": {
     "slide_type": "slide"
    }
   },
   "source": [
    "## Como instalar Python?\n",
    "\n",
    "   * Recomendação: instalar Anaconda https://docs.anaconda.com/anaconda/install/"
   ]
  },
  {
   "cell_type": "markdown",
   "metadata": {
    "slideshow": {
     "slide_type": "slide"
    }
   },
   "source": [
    "## Interpretador de Python\n",
    "\n",
    "   * modo imediato (prompt)\n",
    "   * modo script"
   ]
  },
  {
   "cell_type": "markdown",
   "metadata": {
    "slideshow": {
     "slide_type": "slide"
    }
   },
   "source": [
    "## Interpretador de Python (Prompt)\n",
    "\n",
    "   * abrir um terminal de Linux (com Python previamente instalado)\n",
    "   * python\n",
    "   * para sair: ctrl + D\n",
    "   * Para Windows, você pode usar o PyScripter para acessar o prompt ou rodar um script.\n",
    "   \n",
    "   ![title](pics/terminal.png)\n",
    "   \n",
    "   "
   ]
  },
  {
   "cell_type": "code",
   "execution_count": 2,
   "metadata": {
    "slideshow": {
     "slide_type": "slide"
    }
   },
   "outputs": [
    {
     "data": {
      "text/plain": [
       "4"
      ]
     },
     "execution_count": 2,
     "metadata": {},
     "output_type": "execute_result"
    }
   ],
   "source": [
    "2+2"
   ]
  },
  {
   "cell_type": "code",
   "execution_count": 3,
   "metadata": {
    "slideshow": {
     "slide_type": "slide"
    }
   },
   "outputs": [
    {
     "name": "stdout",
     "output_type": "stream",
     "text": [
      "Mundo, mundo, vasto mundo\n"
     ]
    }
   ],
   "source": [
    "print(\"Mundo, mundo, vasto mundo\")"
   ]
  },
  {
   "cell_type": "markdown",
   "metadata": {
    "slideshow": {
     "slide_type": "slide"
    }
   },
   "source": [
    "## Tipo de dados de Python\n",
    "   \n",
    "   <ul>\n",
    "   <li> <b> valor </b>: algo fundamental manipulado pelo programa\n",
    "       <ul>\n",
    "       <li> letra\n",
    "       <li> número\n",
    "       </ul>\n",
    "   <li> <b> tipo de dados </b>: classificação dos valores \n",
    "       <ul>\n",
    "       <li> letra: <i>string</i>\n",
    "       <li> número: <i>inteiro, float, bool</i>\n",
    "       </ul>\n",
    "   </ul>"
   ]
  },
  {
   "cell_type": "markdown",
   "metadata": {
    "slideshow": {
     "slide_type": "slide"
    }
   },
   "source": [
    "## Tipos de dados de Python\n",
    "\n",
    "   * tuplas\n",
    "   * listas\n",
    "   * dicionários\n",
    "   * tipos de dados built-in: https://docs.python.org/3/library/stdtypes.html\n",
    "   * tipos de dados especializados: https://docs.python.org/3/library/datatypes.html"
   ]
  },
  {
   "cell_type": "code",
   "execution_count": 4,
   "metadata": {
    "slideshow": {
     "slide_type": "subslide"
    }
   },
   "outputs": [
    {
     "name": "stdout",
     "output_type": "stream",
     "text": [
      "isto é uma tupla:  (1, 8, 10)\n"
     ]
    }
   ],
   "source": [
    "tupla = (1, 8, 10) # a tupla é ordenada. A sintaxe são valores entre parênteses, separados por vírgulas\n",
    "print(\"isto é uma tupla: \", tupla)"
   ]
  },
  {
   "cell_type": "code",
   "execution_count": 5,
   "metadata": {
    "slideshow": {
     "slide_type": "subslide"
    }
   },
   "outputs": [
    {
     "name": "stdout",
     "output_type": "stream",
     "text": [
      "isto é uma lista:  [1, 8, 10]\n"
     ]
    }
   ],
   "source": [
    "lista = [1, 8, 10] # a lista NÃO É ORDENADA. A sintaxe são valores entre colchetes, separados por vírgulas\n",
    "print(\"isto é uma lista: \", lista)"
   ]
  },
  {
   "cell_type": "code",
   "execution_count": 6,
   "metadata": {
    "slideshow": {
     "slide_type": "subslide"
    }
   },
   "outputs": [
    {
     "name": "stdout",
     "output_type": "stream",
     "text": [
      "este é um item da lista: 1\n",
      "este é um item da lista: 8\n",
      "este é um item da lista: 10\n"
     ]
    }
   ],
   "source": [
    "for item in lista:\n",
    "    print(\"este é um item da lista: {item_lista}\".format(item_lista=item))"
   ]
  },
  {
   "cell_type": "code",
   "execution_count": 7,
   "metadata": {},
   "outputs": [
    {
     "name": "stdout",
     "output_type": "stream",
     "text": [
      "isto é um dicionário:  {'inteiro': 8, 'float': 3.8, 'boolean': True}\n",
      "essas são as chaves do dicionario:  dict_keys(['inteiro', 'float', 'boolean'])\n"
     ]
    }
   ],
   "source": [
    "dicionario = {'inteiro': 8, 'float': float(3.8), 'boolean': bool(1)} \n",
    "print(\"isto é um dicionário: \", dicionario)\n",
    "print(\"essas são as chaves do dicionario: \", dicionario.keys())"
   ]
  },
  {
   "cell_type": "code",
   "execution_count": 8,
   "metadata": {},
   "outputs": [
    {
     "name": "stdout",
     "output_type": "stream",
     "text": [
      "este é o valor da chave 'inteiro': 8\n",
      "este é o valor da chave 'float': 3.8\n",
      "este é o valor da chave 'boolean': True\n"
     ]
    }
   ],
   "source": [
    "for keys in dicionario.keys():\n",
    "    print(\"este é o valor da chave '{0}': {1}\".format(keys, dicionario[keys]))"
   ]
  },
  {
   "cell_type": "markdown",
   "metadata": {
    "slideshow": {
     "slide_type": "subslide"
    }
   },
   "source": [
    "## Interpretador de Python (Modo Script)\n",
    "\n",
    "   * Em Linux, escolha um editor de texto de sua preferência para editar o seu script (em Windows, você pode usar o <b>PyScripter</b>):\n",
    "      * emacs \n",
    "      * gedit\n",
    "      * atom\n",
    "      * sublime\n",
    "      * vi\n",
    "      \n",
    " "
   ]
  },
  {
   "cell_type": "code",
   "execution_count": null,
   "metadata": {},
   "outputs": [],
   "source": []
  }
 ],
 "metadata": {
  "celltoolbar": "Slideshow",
  "kernelspec": {
   "display_name": "Python 3",
   "language": "python",
   "name": "python3"
  },
  "language_info": {
   "codemirror_mode": {
    "name": "ipython",
    "version": 3
   },
   "file_extension": ".py",
   "mimetype": "text/x-python",
   "name": "python",
   "nbconvert_exporter": "python",
   "pygments_lexer": "ipython3",
   "version": "3.6.4"
  }
 },
 "nbformat": 4,
 "nbformat_minor": 2
}
