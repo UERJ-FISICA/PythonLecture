{
  "nbformat": 4,
  "nbformat_minor": 0,
  "metadata": {
    "kernelspec": {
      "display_name": "Python 3",
      "language": "python",
      "name": "python3"
    },
    "language_info": {
      "codemirror_mode": {
        "name": "ipython",
        "version": 3
      },
      "file_extension": ".py",
      "mimetype": "text/x-python",
      "name": "python",
      "nbconvert_exporter": "python",
      "pygments_lexer": "ipython3",
      "version": "3.6.4"
    },
    "colab": {
      "name": "aula5_tartarugas.ipynb",
      "provenance": [],
      "collapsed_sections": [],
      "include_colab_link": true
    }
  },
  "cells": [
    {
      "cell_type": "markdown",
      "metadata": {
        "id": "view-in-github",
        "colab_type": "text"
      },
      "source": [
        "<a href=\"https://colab.research.google.com/github/malbouis/PythonLecture/blob/master/aulas/aula5_tartarugas.ipynb\" target=\"_parent\"><img src=\"https://colab.research.google.com/assets/colab-badge.svg\" alt=\"Open In Colab\"/></a>"
      ]
    },
    {
      "cell_type": "markdown",
      "metadata": {
        "id": "aWqaS17IKyX4"
      },
      "source": [
        "# Tartarugas!\n",
        "\n",
        "AVISO: essa aula foi feita em sua quase totalidade como tradução do capítulo 3 do livro texto: http://openbookproject.net/thinkcs/python/english3e/index.html\n",
        "\n",
        "Referência: http://greenteapress.com/thinkpython2/html/thinkpython2005.html#sec42"
      ]
    },
    {
      "cell_type": "markdown",
      "metadata": {
        "id": "QRczpCqhKyX5"
      },
      "source": [
        "Existem **muitos** módulos em Python que fornecem recursos muito poderosos que podemos usar. \n",
        "   * Alguns enviam e-mails ou buscam páginas da web;\n",
        "   * outros fazem histogramas\n",
        "   * ou cálculo matricial\n",
        "   * ou gráficos\n",
        "   * ou até mesmo jogos, entre vários outros.\n",
        "   \n",
        "O módulo que veremos neste capítulo nos permite criar **tartarugas** e fazê-las desenhar formas e padrões.\n",
        "\n",
        "A maior parte do Python aqui abordado será explorada com mais profundidade posteriormente."
      ]
    },
    {
      "cell_type": "markdown",
      "metadata": {
        "id": "q0qIvsWmKyX6"
      },
      "source": [
        "## Nosso primeiro programa de tartaruga\n",
        "\n",
        "Criaremos em Python uma nova tartaruga e vamos **desenhar um retângulo**. \n",
        "\n",
        "Nossa tartaruguinha se chamará joana.\n",
        "\n",
        "**Observação:**\n",
        "\n",
        "* Originalmente em Python, o módulo de tartarugas se chama ```turtle```: https://docs.python.org/3/library/turtle.html].\n",
        "\n",
        "* Para usá-lo no Colab, há uma adaptação da classe para o Colab: https://github.com/tolgaatam/ColabTurtle/blob/master/ColabTurtle/Turtle.py"
      ]
    },
    {
      "cell_type": "code",
      "metadata": {
        "id": "pNr_5Ik2LUGY",
        "outputId": "39ebcc04-c9dc-49cd-d641-5fb34dd3d87d",
        "colab": {
          "base_uri": "https://localhost:8080/"
        }
      },
      "source": [
        "# declarações para instalar e importar o módulo Turtle no âmbito do Google Colab\n",
        "!pip3 install ColabTurtle\n",
        "#import ColabTurtle"
      ],
      "execution_count": 1,
      "outputs": [
        {
          "output_type": "stream",
          "text": [
            "Collecting ColabTurtle\n",
            "  Downloading https://files.pythonhosted.org/packages/49/01/6da7091c2c6c917cce99c000b89acb6aa27b66ef6eafc0c0ccf59b98694f/ColabTurtle-2.0.0.tar.gz\n",
            "Building wheels for collected packages: ColabTurtle\n",
            "  Building wheel for ColabTurtle (setup.py) ... \u001b[?25l\u001b[?25hdone\n",
            "  Created wheel for ColabTurtle: filename=ColabTurtle-2.0.0-cp36-none-any.whl size=4032 sha256=5c7f304de4a537319c6f6e2b22260f001651cfd1528f605f07155646b316f8c2\n",
            "  Stored in directory: /root/.cache/pip/wheels/a8/29/ec/ad346f0042ae467cc74f4378916348faf975b07890651dcae7\n",
            "Successfully built ColabTurtle\n",
            "Installing collected packages: ColabTurtle\n",
            "Successfully installed ColabTurtle-2.0.0\n"
          ],
          "name": "stdout"
        }
      ]
    },
    {
      "cell_type": "code",
      "metadata": {
        "id": "GjI31DhOKyX7",
        "outputId": "64b9d66c-cbc0-40ba-c69a-da8ca008e79e",
        "colab": {
          "base_uri": "https://localhost:8080/",
          "height": 521
        }
      },
      "source": [
        "#import ColabTurtle.Turtle as joana\n",
        "import ColabTurtle.Turtle\n",
        "joana = ColabTurtle.Turtle\n",
        "joana.initializeTurtle()   # inicialização. Necessária toda vez que uma nova tartaruga for criada.\n",
        "joana.forward(150)          # diz para joana andar para frente por 50 unidades\n",
        "joana.left(90)             # diz para joana virar de 90 graus\n",
        "joana.forward(130)          # Completa o segundo lado do retângulo"
      ],
      "execution_count": 2,
      "outputs": [
        {
          "output_type": "display_data",
          "data": {
            "text/html": [
              "\n",
              "      <svg width=\"800\" height=\"500\">\n",
              "        <rect width=\"100%\" height=\"100%\" fill=\"black\"/>\n",
              "        <line x1=\"400\" y1=\"250\" x2=\"400.0\" y2=\"100.0\" stroke-linecap=\"round\" style=\"stroke:white;stroke-width:4\"/><line x1=\"400.0\" y1=\"100.0\" x2=\"270.0\" y2=\"100.00000000000001\" stroke-linecap=\"round\" style=\"stroke:white;stroke-width:4\"/>\n",
              "        \n",
              "      <g visibility=visible transform=\"rotate(90,270.0,100.00000000000001) translate(270.0, 100.00000000000001)\">\n",
              "        <circle stroke=\"white\" stroke-width=\"3\" fill=\"transparent\" r=\"12\" cx=\"0\" cy=\"0\"/>\n",
              "        <polygon points=\"0,19 3,16 -3,16\" style=\"fill:white;stroke:white;stroke-width:2\"/>\n",
              "      </g>\n",
              "    \n",
              "      </svg>\n",
              "    "
            ],
            "text/plain": [
              "<IPython.core.display.HTML object>"
            ]
          },
          "metadata": {
            "tags": []
          }
        }
      ]
    },
    {
      "cell_type": "markdown",
      "metadata": {
        "id": "EVQJgTuiKyYA"
      },
      "source": [
        "O que acontece ao rodar o programa acima?"
      ]
    },
    {
      "cell_type": "markdown",
      "metadata": {
        "id": "Vtx-nOEdKyYC"
      },
      "source": [
        "### Observações sobre o código acima\n",
        "\n",
        "* ***import ColabTurtle***: carregar um módulo chamado tartaruga. \n",
        "   * Esse módulo nos traz um novo **tipo** que podemos usar: **o tipo ColabTurtle**. \n",
        "   * A notação de ponto ***ColabTurtle.Turtle*** significa “O tipo de tartaruga que é definido dentro do módulo de tartaruga”.\n",
        "\n",
        "\n",
        "* ***joana = ColabTurtle.Turtle***: cria uma tartaruga. A variável ****joana*** é declarada para se referir a esta tartaruga.\n",
        "\n",
        "* ***joana.initializeTurtle()***: método que constrói e inicializa todas as variáveis necessárias quando criamos uma tartaruga (o objeto tartaruga, do tipo ColabTurtle), como posição inicial, orientação da seta...\n",
        "\n",
        "* Essas três primeiras linhas se encarregaram das **definições**. Estamos prontos para fazer com que nossa tartaruga desenhe na tela.\n",
        "\n",
        "\n",
        "* **Invocar ou ativar os métodos do objeto joana**: fazer joana se mover e a girar. \n",
        "   * joana.forward(50)\n",
        "   * joana.left(90) \n",
        "\n",
        "\n",
        "* **Um objeto pode ter vários métodos** - coisas que ele pode fazer - **e também pode ter atributos**  \n",
        "   * cada tartaruga tem um atributo de **cor**: A invocação do método ```joana.color (\"red\")``` tornará joana vermelha (red) e o desenho será vermelho também.\n",
        "\n",
        "* **Estado** atual da tartaruga: é o **conjunto de atributos atuais**, e também posição, rotação, etc, ...\n",
        "\n",
        "* Existe um grande número de **métodos que nos permitem modificar a tartaruga**. \n",
        "\n"
      ]
    },
    {
      "cell_type": "code",
      "metadata": {
        "id": "CPtIqm_gKyYD",
        "outputId": "bc69639e-c758-4013-b3cc-d05d75683630",
        "colab": {
          "base_uri": "https://localhost:8080/",
          "height": 521
        }
      },
      "source": [
        "teca = ColabTurtle.Turtle     # Cria uma tartaruga, atribui a teca\n",
        "teca.initializeTurtle()\n",
        "teca.color(\"blue\")            # o método color diz à Teca para mudar sua cor (atributo)\n",
        "teca.width(15)                 # o método width faz Teca ajustar a largura da caneta (atributo)\n",
        "\n",
        "teca.forward(50)\n",
        "teca.left(120)\n",
        "teca.forward(50)"
      ],
      "execution_count": null,
      "outputs": [
        {
          "output_type": "display_data",
          "data": {
            "text/html": [
              "\n",
              "      <svg width=\"800\" height=\"500\">\n",
              "        <rect width=\"100%\" height=\"100%\" fill=\"black\"/>\n",
              "        <line x1=\"400\" y1=\"250\" x2=\"400.0\" y2=\"200.0\" stroke-linecap=\"round\" style=\"stroke:blue;stroke-width:15\"/><line x1=\"400.0\" y1=\"200.0\" x2=\"356.69872981077805\" y2=\"225.0\" stroke-linecap=\"round\" style=\"stroke:blue;stroke-width:15\"/>\n",
              "        \n",
              "      <g visibility=visible transform=\"rotate(60,356.69872981077805,225.0) translate(356.69872981077805, 225.0)\">\n",
              "        <circle stroke=\"blue\" stroke-width=\"3\" fill=\"transparent\" r=\"12\" cx=\"0\" cy=\"0\"/>\n",
              "        <polygon points=\"0,19 3,16 -3,16\" style=\"fill:blue;stroke:blue;stroke-width:2\"/>\n",
              "      </g>\n",
              "    \n",
              "      </svg>\n",
              "    "
            ],
            "text/plain": [
              "<IPython.core.display.HTML object>"
            ]
          },
          "metadata": {
            "tags": []
          }
        }
      ]
    },
    {
      "cell_type": "markdown",
      "metadata": {
        "id": "CHBmuB4BKyYI"
      },
      "source": [
        "## Instâncias - uma manada de tartarugas\n",
        "\n",
        "Assim como podemos ter muitos inteiros diferentes em um programa, podemos ter muitas tartarugas. \n",
        "\n",
        "* **Cada tartaruga é chamada de uma *instância*** . \n",
        "   * Cada instância tem seus próprios **atributos** e **métodos**"
      ]
    },
    {
      "cell_type": "code",
      "metadata": {
        "id": "923t3tgbKyYJ",
        "outputId": "48173541-e001-4749-ddb8-7bd4a86c568f",
        "colab": {
          "base_uri": "https://localhost:8080/",
          "height": 1000
        }
      },
      "source": [
        "teca = ColabTurtle.Turtle      # Criar a instância Teca\n",
        "teca.initializeTurtle()        # configurar os atributos de Teca\n",
        "teca.color(\"yellow\")\n",
        "teca.width(5)\n",
        "#teca.window_size = (400,250)\n",
        "\n",
        "# Fazer Teca desenhar um triângulo equilátero:\n",
        "teca.forward(80)             \n",
        "teca.left(120)\n",
        "teca.forward(80)\n",
        "teca.left(120)\n",
        "teca.forward(80)\n",
        "teca.left(120)               # Completar o triângulo\n",
        "\n",
        "teca.right(180)              # Fazer Teca dar meia volta\n",
        "teca.forward(80)             # Movê-la para longe da origem\n",
        "\n",
        "# Criar uma nova instância de Tartaruga:\n",
        "joana = ColabTurtle.Turtle\n",
        "joana.initializeTurtle()     # configurar os atributos de Joana\n",
        "joana.color('purple')        # Criar a instância Joana\n",
        "\n",
        "# Fazer Joana desenhar um quadrado:\n",
        "joana.forward(50)            \n",
        "joana.left(90)\n",
        "joana.forward(50)\n",
        "joana.left(90)\n",
        "joana.forward(50)\n",
        "joana.left(90)\n",
        "joana.forward(50)\n",
        "joana.left(90)"
      ],
      "execution_count": null,
      "outputs": [
        {
          "output_type": "display_data",
          "data": {
            "text/html": [
              "\n",
              "      <svg width=\"800\" height=\"500\">\n",
              "        <rect width=\"100%\" height=\"100%\" fill=\"black\"/>\n",
              "        <line x1=\"400\" y1=\"250\" x2=\"400.0\" y2=\"170.0\" stroke-linecap=\"round\" style=\"stroke:yellow;stroke-width:5\"/><line x1=\"400.0\" y1=\"170.0\" x2=\"330.7179676972449\" y2=\"210.0\" stroke-linecap=\"round\" style=\"stroke:yellow;stroke-width:5\"/><line x1=\"330.7179676972449\" y1=\"210.0\" x2=\"400.0\" y2=\"250.0\" stroke-linecap=\"round\" style=\"stroke:yellow;stroke-width:5\"/><line x1=\"400.0\" y1=\"250.0\" x2=\"400.0\" y2=\"330.0\" stroke-linecap=\"round\" style=\"stroke:yellow;stroke-width:5\"/>\n",
              "        \n",
              "      <g visibility=visible transform=\"rotate(0,400.0,330.0) translate(400.0, 330.0)\">\n",
              "        <circle stroke=\"yellow\" stroke-width=\"3\" fill=\"transparent\" r=\"12\" cx=\"0\" cy=\"0\"/>\n",
              "        <polygon points=\"0,19 3,16 -3,16\" style=\"fill:yellow;stroke:yellow;stroke-width:2\"/>\n",
              "      </g>\n",
              "    \n",
              "      </svg>\n",
              "    "
            ],
            "text/plain": [
              "<IPython.core.display.HTML object>"
            ]
          },
          "metadata": {
            "tags": []
          }
        },
        {
          "output_type": "display_data",
          "data": {
            "text/html": [
              "\n",
              "      <svg width=\"800\" height=\"500\">\n",
              "        <rect width=\"100%\" height=\"100%\" fill=\"black\"/>\n",
              "        <line x1=\"400\" y1=\"250\" x2=\"400.0\" y2=\"200.0\" stroke-linecap=\"round\" style=\"stroke:purple;stroke-width:4\"/><line x1=\"400.0\" y1=\"200.0\" x2=\"350.0\" y2=\"200.0\" stroke-linecap=\"round\" style=\"stroke:purple;stroke-width:4\"/><line x1=\"350.0\" y1=\"200.0\" x2=\"350.0\" y2=\"250.0\" stroke-linecap=\"round\" style=\"stroke:purple;stroke-width:4\"/><line x1=\"350.0\" y1=\"250.0\" x2=\"400.0\" y2=\"250.0\" stroke-linecap=\"round\" style=\"stroke:purple;stroke-width:4\"/>\n",
              "        \n",
              "      <g visibility=visible transform=\"rotate(180,400.0,250.0) translate(400.0, 250.0)\">\n",
              "        <circle stroke=\"purple\" stroke-width=\"3\" fill=\"transparent\" r=\"12\" cx=\"0\" cy=\"0\"/>\n",
              "        <polygon points=\"0,19 3,16 -3,16\" style=\"fill:purple;stroke:purple;stroke-width:2\"/>\n",
              "      </g>\n",
              "    \n",
              "      </svg>\n",
              "    "
            ],
            "text/plain": [
              "<IPython.core.display.HTML object>"
            ]
          },
          "metadata": {
            "tags": []
          }
        }
      ]
    },
    {
      "cell_type": "markdown",
      "metadata": {
        "id": "e2iemuZvKyYM"
      },
      "source": [
        "### O que faz o código acima?\n",
        "Tente você mesmo!\n",
        "\n",
        "\n",
        "Ok, duas tartarugas podem não ser suficientes para um rebanho. \n",
        "\n",
        "Mas a ideia importante é que o módulo de tartaruga nos proporciona uma espécie de fábrica que nos permite criar tantas tartarugas quanto precisamos. \n",
        "\n",
        "\n",
        "***Cada instância tem seu próprio estado e comportamento.***"
      ]
    },
    {
      "cell_type": "markdown",
      "metadata": {
        "id": "Z8pxPQeEKyYN"
      },
      "source": [
        "## O *loop* for\n",
        "\n",
        "Quando desenhamos o quadrado, tivemos que repetir explicitamente os passos de se mover e girar ***quatro vezes***. Se estivéssemos desenhando um hexágono ou um polígono com 42 lados, teria sido pior.\n",
        "\n",
        "\n",
        "\n",
        "Portanto, um bloco de construção básico de todos os programas é poder **repetir alguns códigos repetidas vezes.**\n",
        "\n",
        "\n",
        "\n",
        "O ***loop*** de Python resolve isso. \n",
        "\n",
        "Digamos que temos alguns amigos e gostaríamos de enviar a eles um e-mail convidando-os para a nossa festa. Ainda não sabemos como enviar e-mails, então, por enquanto, apenas imprimiremos uma mensagem para cada amigo:"
      ]
    },
    {
      "cell_type": "code",
      "metadata": {
        "id": "dcDAUr29KyYN",
        "outputId": "726a416f-294b-4217-e932-7b42226b0930",
        "colab": {
          "base_uri": "https://localhost:8080/",
          "height": 136
        }
      },
      "source": [
        "for f in [\"José\",\"Zoe\",\"Bruno\",\"Angélica\",\"Zacarias\",\"Thandi\",\"Paris\"]:\n",
        "    convite = \"Oi \" + f + \".  Você está convidadx para minha festa no Sábado!\"\n",
        "    print(convite)"
      ],
      "execution_count": null,
      "outputs": [
        {
          "output_type": "stream",
          "text": [
            "Oi José.  Você está convidadx para minha festa no Sábado!\n",
            "Oi Zoe.  Você está convidadx para minha festa no Sábado!\n",
            "Oi Bruno.  Você está convidadx para minha festa no Sábado!\n",
            "Oi Angélica.  Você está convidadx para minha festa no Sábado!\n",
            "Oi Zacarias.  Você está convidadx para minha festa no Sábado!\n",
            "Oi Thandi.  Você está convidadx para minha festa no Sábado!\n",
            "Oi Paris.  Você está convidadx para minha festa no Sábado!\n"
          ],
          "name": "stdout"
        }
      ]
    },
    {
      "cell_type": "markdown",
      "metadata": {
        "id": "VfHGLMGjKyYU"
      },
      "source": [
        "* A variável ***f*** na instrução for na linha 1 é chamada de **variável de loop**. Pode ser qualquer nome de variável.\n",
        "\n",
        "\n",
        "* As linhas 2 e 3 são o **corpo do loop**. O corpo do loop é sempre ***indentado***. O recuo determina exatamente quais instruções estão “no corpo do loop”.\n",
        "\n",
        "\n",
        "* Em cada **iteração** (ou passagem do loop):\n",
        "   * uma verificação é feita para ver se ainda há mais itens a serem processados. \n",
        "   \n",
        "   * Caso não haja nenhum item a se processado, o loop terminou. Isso é chamado de **condição de terminação do loop**. \n",
        "   \n",
        "   * A execução do programa continua na próxima instrução após o corpo do loop.\n",
        "   \n",
        "   * Se ainda houver itens a serem processados, a variável de loop será atualizada para se referir ao próximo item da lista. Isto significa, neste caso, que o corpo do loop é executado aqui 7 vezes, e cada vez f se referirá a um amigo diferente.\n",
        "   \n",
        "   * No final de cada execução do corpo do loop, o Python retorna à instrução for, para ver se há mais itens a serem manipulados e para atribuir o próximo a f."
      ]
    },
    {
      "cell_type": "markdown",
      "metadata": {
        "id": "ggPSduhtKyYU"
      },
      "source": [
        "## Fluxo de Execução do loop for\n",
        "\n",
        "Conforme um programa é executado, o interpretador sempre registra qual declaração está prestes a ser executada. Chamamos isso de **fluxo de controle**, do **fluxo de execução do programa**.\n",
        "\n",
        "O **fluxo de controle** é geralmente fácil de visualizar e entender se desenharmos um **fluxograma**. Isso mostra as etapas exatas e a lógica de como a instrução ***for*** é executada.\n",
        "\n",
        "![title](https://github.com/malbouis/Python_intro/blob/master/aulas_2019/pics/fluxograma.png?raw=1)"
      ]
    },
    {
      "cell_type": "markdown",
      "metadata": {
        "id": "KdiRCVwWKyYV"
      },
      "source": [
        "## O loop simplifica nosso programa de tartarugas\n",
        "\n",
        "Podemos usar apenas 3 linhas ao invés de oito, para desenhar o quadrado de ***joana***"
      ]
    },
    {
      "cell_type": "code",
      "metadata": {
        "id": "3s4WgBZHKyYW",
        "outputId": "452fa2a1-c59f-44ce-a71c-cba467f4bd6a",
        "colab": {
          "base_uri": "https://localhost:8080/",
          "height": 521
        }
      },
      "source": [
        "joana = ColabTurtle.Turtle\n",
        "joana.initializeTurtle()\n",
        "for i in [0,1,2,3]:\n",
        "    joana.forward(50)\n",
        "    joana.left(90)"
      ],
      "execution_count": null,
      "outputs": [
        {
          "output_type": "display_data",
          "data": {
            "text/html": [
              "\n",
              "      <svg width=\"800\" height=\"500\">\n",
              "        <rect width=\"100%\" height=\"100%\" fill=\"black\"/>\n",
              "        <line x1=\"400\" y1=\"250\" x2=\"400.0\" y2=\"200.0\" stroke-linecap=\"round\" style=\"stroke:white;stroke-width:4\"/><line x1=\"400.0\" y1=\"200.0\" x2=\"350.0\" y2=\"200.0\" stroke-linecap=\"round\" style=\"stroke:white;stroke-width:4\"/><line x1=\"350.0\" y1=\"200.0\" x2=\"350.0\" y2=\"250.0\" stroke-linecap=\"round\" style=\"stroke:white;stroke-width:4\"/><line x1=\"350.0\" y1=\"250.0\" x2=\"400.0\" y2=\"250.0\" stroke-linecap=\"round\" style=\"stroke:white;stroke-width:4\"/>\n",
              "        \n",
              "      <g visibility=visible transform=\"rotate(180,400.0,250.0) translate(400.0, 250.0)\">\n",
              "        <circle stroke=\"white\" stroke-width=\"3\" fill=\"transparent\" r=\"12\" cx=\"0\" cy=\"0\"/>\n",
              "        <polygon points=\"0,19 3,16 -3,16\" style=\"fill:white;stroke:white;stroke-width:2\"/>\n",
              "      </g>\n",
              "    \n",
              "      </svg>\n",
              "    "
            ],
            "text/plain": [
              "<IPython.core.display.HTML object>"
            ]
          },
          "metadata": {
            "tags": []
          }
        }
      ]
    },
    {
      "cell_type": "markdown",
      "metadata": {
        "id": "rS_8l3dQKyYZ"
      },
      "source": [
        "O importante aqui é **encontrar um padrão de repetição de declarações** e reorganizar o programa levando esses padrões em consideração.\n",
        "\n",
        "\n",
        "Podemos reescrever as linhas acima, usando uma função *built-in* do python, chamada ```range```. \n",
        "\n",
        "\n",
        "Em, python, começamos toda indexação em 0 (zero)."
      ]
    },
    {
      "cell_type": "code",
      "metadata": {
        "id": "dnSY8Q5kKyYa",
        "outputId": "33af5fbb-dbe1-46cf-deb4-e33539e2c569",
        "colab": {
          "base_uri": "https://localhost:8080/",
          "height": 521
        }
      },
      "source": [
        "joana = ColabTurtle.Turtle\n",
        "joana.initializeTurtle()\n",
        "for i in range(4):\n",
        "    joana.forward(50)\n",
        "    joana.left(90)"
      ],
      "execution_count": null,
      "outputs": [
        {
          "output_type": "display_data",
          "data": {
            "text/html": [
              "\n",
              "      <svg width=\"800\" height=\"500\">\n",
              "        <rect width=\"100%\" height=\"100%\" fill=\"black\"/>\n",
              "        <line x1=\"400\" y1=\"250\" x2=\"400.0\" y2=\"200.0\" stroke-linecap=\"round\" style=\"stroke:white;stroke-width:4\"/><line x1=\"400.0\" y1=\"200.0\" x2=\"350.0\" y2=\"200.0\" stroke-linecap=\"round\" style=\"stroke:white;stroke-width:4\"/><line x1=\"350.0\" y1=\"200.0\" x2=\"350.0\" y2=\"250.0\" stroke-linecap=\"round\" style=\"stroke:white;stroke-width:4\"/><line x1=\"350.0\" y1=\"250.0\" x2=\"400.0\" y2=\"250.0\" stroke-linecap=\"round\" style=\"stroke:white;stroke-width:4\"/>\n",
              "        \n",
              "      <g visibility=visible transform=\"rotate(180,400.0,250.0) translate(400.0, 250.0)\">\n",
              "        <circle stroke=\"white\" stroke-width=\"3\" fill=\"transparent\" r=\"12\" cx=\"0\" cy=\"0\"/>\n",
              "        <polygon points=\"0,19 3,16 -3,16\" style=\"fill:white;stroke:white;stroke-width:2\"/>\n",
              "      </g>\n",
              "    \n",
              "      </svg>\n",
              "    "
            ],
            "text/plain": [
              "<IPython.core.display.HTML object>"
            ]
          },
          "metadata": {
            "tags": []
          }
        }
      ]
    },
    {
      "cell_type": "markdown",
      "metadata": {
        "id": "dRnIYqn5KyYe"
      },
      "source": [
        "#### Caso queira desenhar cada lado do quadrado com uma cor:"
      ]
    },
    {
      "cell_type": "code",
      "metadata": {
        "id": "FSjncN6xKyYf",
        "outputId": "b273db4b-a555-4cfd-a279-bbc1de2c9734",
        "colab": {
          "base_uri": "https://localhost:8080/",
          "height": 521
        }
      },
      "source": [
        "joana = ColabTurtle.Turtle\n",
        "joana.initializeTurtle()\n",
        "cores = [\"yellow\", \"red\", \"purple\", \"blue\"] # VALID_COLORS = ('white', 'yellow', 'orange', 'red', 'green', 'blue', 'purple', 'grey', 'black')\n",
        "for i in cores:\n",
        "    joana.color(i)\n",
        "    joana.forward(70)\n",
        "    joana.left(90)"
      ],
      "execution_count": null,
      "outputs": [
        {
          "output_type": "display_data",
          "data": {
            "text/html": [
              "\n",
              "      <svg width=\"800\" height=\"500\">\n",
              "        <rect width=\"100%\" height=\"100%\" fill=\"black\"/>\n",
              "        <line x1=\"400\" y1=\"250\" x2=\"400.0\" y2=\"180.0\" stroke-linecap=\"round\" style=\"stroke:yellow;stroke-width:4\"/><line x1=\"400.0\" y1=\"180.0\" x2=\"330.0\" y2=\"180.0\" stroke-linecap=\"round\" style=\"stroke:red;stroke-width:4\"/><line x1=\"330.0\" y1=\"180.0\" x2=\"330.0\" y2=\"250.0\" stroke-linecap=\"round\" style=\"stroke:purple;stroke-width:4\"/><line x1=\"330.0\" y1=\"250.0\" x2=\"400.0\" y2=\"250.0\" stroke-linecap=\"round\" style=\"stroke:blue;stroke-width:4\"/>\n",
              "        \n",
              "      <g visibility=visible transform=\"rotate(180,400.0,250.0) translate(400.0, 250.0)\">\n",
              "        <circle stroke=\"blue\" stroke-width=\"3\" fill=\"transparent\" r=\"12\" cx=\"0\" cy=\"0\"/>\n",
              "        <polygon points=\"0,19 3,16 -3,16\" style=\"fill:blue;stroke:blue;stroke-width:2\"/>\n",
              "      </g>\n",
              "    \n",
              "      </svg>\n",
              "    "
            ],
            "text/plain": [
              "<IPython.core.display.HTML object>"
            ]
          },
          "metadata": {
            "tags": []
          }
        }
      ]
    },
    {
      "cell_type": "markdown",
      "metadata": {
        "id": "ED-KXBaRKyYi"
      },
      "source": [
        "### Exercícios:\n",
        "1. [**Não é possível fazer no Google Colab. Pule para o exercício 2**] Modifique o programa da tartaruga (primeiro exemplo) para que, antes de criar a janela, ele solicite que o usuário insira a cor de fundo desejada. Ele deve armazenar as respostas do usuário em uma variável e modificar a cor da janela de acordo com os desejos do usuário. \n",
        "   * ***Dicas***: faça uso da função ***input***, built-in do python\n",
        "   * você pode encontrar uma lista de nomes de cores permitidos em http://www.tcl.tk/man/tcl8.4/TkCmd/colors.htm. Inclui alguns bem incomuns, como “peach puff” e “HotPink” ”***\n",
        "   \n",
        "1. Faça modificações similares para permitir que o usuário mude a cor da tartaruga durante a execução do programa.\n",
        "   1. Faça o mesmo para a largura da caneta da tartaruga. *Dica: seu diálogo com o usuário retornará uma string, mas o método ```pensize``` ( ```width``` no Google Colab) espera que seu argumento seja um **int**. Então, você precisará converter a **string** em um **int** antes de passá-la para **pensize**.*   \n",
        "   \n",
        "1. Investiguem os métodos e atributos do módulo ```turtle```  (```ColabTurtle``` no Google Colab);\n",
        "\n",
        "1. Desenhe um quadrado, usando a forma de tartaruga, ao invés da flecha, para desenhar (caso esteja no Google Colab, não precisa mudar a forma).\n",
        "   1. mude a velocidade com que a tartaruga faz o desenho.\n",
        "   \n",
        "1. Sabendo que o ângulo interno da ponta de uma estrela de 5 pontas é de 36 graus, desenhe uma estrela.\n",
        "![title](https://github.com/malbouis/Python_intro/blob/master/aulas_2019/pics/estrela.png?raw=1)\n",
        "\n",
        "1. Sabendo o ângulo interno da ponta de uma estrela, desenhe quatro estrelas em uma janela, com uma certa distância entre elas. Dica: use a função penup() e pendown() do módulo ```turtle```."
      ]
    },
    {
      "cell_type": "markdown",
      "metadata": {
        "id": "DZXmIVJAKyYj"
      },
      "source": [
        "### Exercícios em preparação para os próximos capítulos\n",
        "\n",
        "1. Escreva uma função chamada `square`, que toma um parâmetro `t`, que é uma `ColabTurtle`. Essa função deve usar o `ColabTurtle` para desenhar um quadrado. Escreva uma chamada de função que passe `joana` como argumento para `square` e rode o programa novamente. \n",
        "\n",
        "1. Adicione um outro parâmetro, chamado `length`, à função `square`. Modifique o corpo da função de tal forma que o comprimento dos lados do quadrado seja `length` e então modifique a chamada da função para que seja passado o segundo argumento. Rode o programa novamente. Teste o seu programa com diversos valores para `length`.\n",
        "\n",
        "1. Faça uma cópia da função `square` e mude o nome para `polygon`. Adicione um outro parâmetro chamado `n` e modifique o corpo da função para que ela desenhe um polígono regular de `n` lados. Dica: Os ângulos externos de um polígono regular de `n` lados são de `360/n` graus.  \n",
        "\n",
        "1. Escreva uma função chamada `circle` que toma como argumento uma `Turtle`, `t`, e um raio, `r`, e desenha um círculo aproximado ao chamar a função `polygon` com `length` e número `n` de lados apropriados. Teste sua função com um intervalo de valores de `r`. Dica: Determine a circunferência do círculo e se certifique que `comprimento * n = circunferência`.\n",
        "\n",
        "1. Faça uma versão mais geral da função `circle`, chamada `arc`, que toma um parâmetro adicional, `angle`, que determina qual a fração do circulo a ser desenhada. `angle` está em unidades de graus, logo quando `angle=360`, a função `arc` deve desenhar um cículo completo.\n"
      ]
    },
    {
      "cell_type": "markdown",
      "metadata": {
        "id": "U2ZwwCUHKyYk"
      },
      "source": [
        "## Encapsulamento \n",
        "O primeiro exercício pede que você coloque seu código de desenho de um quadrado em uma definição de função, p.ex.  ```square (t)```,  e então chame a função, passando a tartaruga como um parâmetro.  Uma possível solução :\n"
      ]
    },
    {
      "cell_type": "code",
      "metadata": {
        "id": "ylGo4t_mKyYk"
      },
      "source": [
        "def square(t):\n",
        "  for i in range(4):\n",
        "        t.forward(100)\n",
        "        t.left(90)        "
      ],
      "execution_count": null,
      "outputs": []
    },
    {
      "cell_type": "markdown",
      "metadata": {
        "id": "G00txOeoKyYo"
      },
      "source": [
        "Se chamarmos ```square(joana)``` as instruções internas da função são executadas pela tartaruga joana, mas também poderiam ser executadas por qualquer objeto tartaruga, a idéia de escrever a função é justamente que ```t``` pode ser qualquer tartaruga.  Então podemos criar uma segunda tartaruga e passá-la como argumento para a função ```square``` :"
      ]
    },
    {
      "cell_type": "code",
      "metadata": {
        "id": "-iJw6WNIKyYq",
        "outputId": "a94670b3-93d6-49ee-c824-dadfa4ceb05b",
        "colab": {
          "base_uri": "https://localhost:8080/",
          "height": 521
        }
      },
      "source": [
        "import ColabTurtle\n",
        "alice = ColabTurtle.Turtle\n",
        "alice.initializeTurtle()\n",
        "square (alice)"
      ],
      "execution_count": null,
      "outputs": [
        {
          "output_type": "display_data",
          "data": {
            "text/html": [
              "\n",
              "      <svg width=\"800\" height=\"500\">\n",
              "        <rect width=\"100%\" height=\"100%\" fill=\"black\"/>\n",
              "        <line x1=\"400\" y1=\"250\" x2=\"400.0\" y2=\"150.0\" stroke-linecap=\"round\" style=\"stroke:white;stroke-width:4\"/><line x1=\"400.0\" y1=\"150.0\" x2=\"300.0\" y2=\"150.0\" stroke-linecap=\"round\" style=\"stroke:white;stroke-width:4\"/><line x1=\"300.0\" y1=\"150.0\" x2=\"300.0\" y2=\"250.0\" stroke-linecap=\"round\" style=\"stroke:white;stroke-width:4\"/><line x1=\"300.0\" y1=\"250.0\" x2=\"400.0\" y2=\"250.0\" stroke-linecap=\"round\" style=\"stroke:white;stroke-width:4\"/>\n",
              "        \n",
              "      <g visibility=visible transform=\"rotate(180,400.0,250.0) translate(400.0, 250.0)\">\n",
              "        <circle stroke=\"white\" stroke-width=\"3\" fill=\"transparent\" r=\"12\" cx=\"0\" cy=\"0\"/>\n",
              "        <polygon points=\"0,19 3,16 -3,16\" style=\"fill:white;stroke:white;stroke-width:2\"/>\n",
              "      </g>\n",
              "    \n",
              "      </svg>\n",
              "    "
            ],
            "text/plain": [
              "<IPython.core.display.HTML object>"
            ]
          },
          "metadata": {
            "tags": []
          }
        }
      ]
    },
    {
      "cell_type": "markdown",
      "metadata": {
        "id": "r3oUUZLkKyY0"
      },
      "source": [
        "Envolver um pedaço de código em uma função é chamado de __encapsulamento__. Um dos benefícios do encapsulamento é que ele anexa um nome ao código, que serve como um tipo de documentação. Outra vantagem é que, se você reutilizar o código, é mais conciso chamar uma função duas vezes do que copiar e colar o corpo!"
      ]
    },
    {
      "cell_type": "markdown",
      "metadata": {
        "id": "BlElmskDKyY1"
      },
      "source": [
        "## Generalização\n",
        "O próximo passo é adicionar um parâmetro de comprimento à função ```square```. Uma possibilidade:"
      ]
    },
    {
      "cell_type": "code",
      "metadata": {
        "id": "YeFQAfaEKyY2",
        "outputId": "ad481ba0-dd6a-4f94-d772-488e1dfd0140",
        "colab": {
          "base_uri": "https://localhost:8080/",
          "height": 521
        }
      },
      "source": [
        "def square(t,length):\n",
        "    for i in range(4):\n",
        "        t.forward(length)\n",
        "        t.left(90)\n",
        "\n",
        "alice.initializeTurtle()\n",
        "square(alice,150)"
      ],
      "execution_count": null,
      "outputs": [
        {
          "output_type": "display_data",
          "data": {
            "text/html": [
              "\n",
              "      <svg width=\"800\" height=\"500\">\n",
              "        <rect width=\"100%\" height=\"100%\" fill=\"black\"/>\n",
              "        <line x1=\"400\" y1=\"250\" x2=\"400.0\" y2=\"100.0\" stroke-linecap=\"round\" style=\"stroke:white;stroke-width:4\"/><line x1=\"400.0\" y1=\"100.0\" x2=\"250.0\" y2=\"100.00000000000001\" stroke-linecap=\"round\" style=\"stroke:white;stroke-width:4\"/><line x1=\"250.0\" y1=\"100.00000000000001\" x2=\"250.0\" y2=\"250.0\" stroke-linecap=\"round\" style=\"stroke:white;stroke-width:4\"/><line x1=\"250.0\" y1=\"250.0\" x2=\"400.0\" y2=\"250.0\" stroke-linecap=\"round\" style=\"stroke:white;stroke-width:4\"/>\n",
              "        \n",
              "      <g visibility=visible transform=\"rotate(180,400.0,250.0) translate(400.0, 250.0)\">\n",
              "        <circle stroke=\"white\" stroke-width=\"3\" fill=\"transparent\" r=\"12\" cx=\"0\" cy=\"0\"/>\n",
              "        <polygon points=\"0,19 3,16 -3,16\" style=\"fill:white;stroke:white;stroke-width:2\"/>\n",
              "      </g>\n",
              "    \n",
              "      </svg>\n",
              "    "
            ],
            "text/plain": [
              "<IPython.core.display.HTML object>"
            ]
          },
          "metadata": {
            "tags": []
          }
        }
      ]
    },
    {
      "cell_type": "markdown",
      "metadata": {
        "id": "8MmLoqUDKyY5"
      },
      "source": [
        "Adicionar um (ou mais) parâmetro(s) a uma função é chamado de __generalização__, pois torna a função mais geral: \n",
        "* na versão anterior, o quadrado é sempre do mesmo tamanho; \n",
        "* nesta versão pode ser de qualquer tamanho.\n",
        "\n",
        "O próximo passo é também uma generalização: \n",
        "* Em vez de desenhar só quadrados, a função ```polygon``` desenha polígonos regulares com qualquer número de lados. \n",
        "\n",
        "Aqui está uma solução:"
      ]
    },
    {
      "cell_type": "code",
      "metadata": {
        "id": "6UUiyQiAKyY6",
        "outputId": "8c9003b5-ae1b-4ccf-fe27-4ca68b20e9e0",
        "colab": {
          "base_uri": "https://localhost:8080/",
          "height": 521
        }
      },
      "source": [
        "def polygon(t,length,n):\n",
        "    alfa = 360/n\n",
        "    for i in range(n):\n",
        "        t.forward(length)\n",
        "        t.left(alfa)\n",
        "#desenhar um hexagono regular com lado de comprimento 70\n",
        "alice.initializeTurtle()\n",
        "#polygon(alice, 70, 6)\n",
        "#polygon(alice, 30, 20)\n",
        "alice.speed(10)\n",
        "polygon(alice,10,100)"
      ],
      "execution_count": null,
      "outputs": [
        {
          "output_type": "display_data",
          "data": {
            "text/html": [
              "\n",
              "      <svg width=\"800\" height=\"500\">\n",
              "        <rect width=\"100%\" height=\"100%\" fill=\"black\"/>\n",
              "        <line x1=\"400\" y1=\"250\" x2=\"400.0\" y2=\"240.0\" stroke-linecap=\"round\" style=\"stroke:white;stroke-width:4\"/><line x1=\"400.0\" y1=\"240.0\" x2=\"399.3720948047069\" y2=\"230.01973271571728\" stroke-linecap=\"round\" style=\"stroke:white;stroke-width:4\"/><line x1=\"399.3720948047069\" y1=\"230.01973271571728\" x2=\"398.1187624690638\" y2=\"220.0985857025725\" stroke-linecap=\"round\" style=\"stroke:white;stroke-width:4\"/><line x1=\"398.1187624690638\" y1=\"220.0985857025725\" x2=\"396.2449493232066\" y2=\"210.27571319528562\" stroke-linecap=\"round\" style=\"stroke:white;stroke-width:4\"/><line x1=\"396.2449493232066\" y1=\"210.27571319528562\" x2=\"393.758050451558\" y2=\"200.5898815839993\" stroke-linecap=\"round\" style=\"stroke:white;stroke-width:4\"/><line x1=\"393.758050451558\" y1=\"200.5898815839993\" x2=\"390.66788050780855\" y2=\"191.07931642104776\" stroke-linecap=\"round\" style=\"stroke:white;stroke-width:4\"/><line x1=\"390.66788050780855\" y1=\"191.07931642104776\" x2=\"386.98663498096175\" y2=\"181.78155156216525\" stroke-linecap=\"round\" style=\"stroke:white;stroke-width:4\"/><line x1=\"386.98663498096175\" y1=\"181.78155156216525\" x2=\"382.728842065311\" y2=\"172.73328103750507\" stroke-linecap=\"round\" style=\"stroke:white;stroke-width:4\"/><line x1=\"382.728842065311\" y1=\"172.73328103750507\" x2=\"377.9113053242939\" y2=\"163.97021423706644\" stroke-linecap=\"round\" style=\"stroke:white;stroke-width:4\"/><line x1=\"377.9113053242939\" y1=\"163.97021423706644\" x2=\"372.5530373745039\" y2=\"155.5269349820463\" stroke-linecap=\"round\" style=\"stroke:white;stroke-width:4\"/><line x1=\"372.5530373745039\" y1=\"155.5269349820463\" x2=\"366.67518485157916\" y2=\"147.4367650382968\" stroke-linecap=\"round\" style=\"stroke:white;stroke-width:4\"/><line x1=\"366.67518485157916\" y1=\"147.4367650382968\" x2=\"360.30094495409224\" y2=\"139.73163261053892\" stroke-linecap=\"round\" style=\"stroke:white;stroke-width:4\"/><line x1=\"360.30094495409224\" y1=\"139.73163261053892\" x2=\"353.4554738948054\" y2=\"132.4419463363248\" stroke-linecap=\"round\" style=\"stroke:white;stroke-width:4\"/><line x1=\"353.4554738948054\" y1=\"132.4419463363248\" x2=\"346.1657876205913\" y2=\"125.59647527703792\" stroke-linecap=\"round\" style=\"stroke:white;stroke-width:4\"/><line x1=\"346.1657876205913\" y1=\"125.59647527703792\" x2=\"338.46065519283337\" y2=\"119.22223537955102\" stroke-linecap=\"round\" style=\"stroke:white;stroke-width:4\"/><line x1=\"338.46065519283337\" y1=\"119.22223537955102\" x2=\"330.3704852490839\" y2=\"113.3443828566263\" stroke-linecap=\"round\" style=\"stroke:white;stroke-width:4\"/><line x1=\"330.3704852490839\" y1=\"113.3443828566263\" x2=\"321.92720599406374\" y2=\"107.98611490683633\" stroke-linecap=\"round\" style=\"stroke:white;stroke-width:4\"/><line x1=\"321.92720599406374\" y1=\"107.98611490683633\" x2=\"313.1641391936251\" y2=\"103.16857816581918\" stroke-linecap=\"round\" style=\"stroke:white;stroke-width:4\"/><line x1=\"313.1641391936251\" y1=\"103.16857816581918\" x2=\"304.1158686689649\" y2=\"98.91078525016846\" stroke-linecap=\"round\" style=\"stroke:white;stroke-width:4\"/><line x1=\"304.1158686689649\" y1=\"98.91078525016846\" x2=\"294.8181038100824\" y2=\"95.22953972332168\" stroke-linecap=\"round\" style=\"stroke:white;stroke-width:4\"/><line x1=\"294.8181038100824\" y1=\"95.22953972332168\" x2=\"285.30753864713085\" y2=\"92.1393697795722\" stroke-linecap=\"round\" style=\"stroke:white;stroke-width:4\"/><line x1=\"285.30753864713085\" y1=\"92.1393697795722\" x2=\"275.62170703584457\" y2=\"89.65247090792366\" stroke-linecap=\"round\" style=\"stroke:white;stroke-width:4\"/><line x1=\"275.62170703584457\" y1=\"89.65247090792366\" x2=\"265.7988345285577\" y2=\"87.7786577620664\" stroke-linecap=\"round\" style=\"stroke:white;stroke-width:4\"/><line x1=\"265.7988345285577\" y1=\"87.7786577620664\" x2=\"255.8776875154129\" y2=\"86.52532542642335\" stroke-linecap=\"round\" style=\"stroke:white;stroke-width:4\"/><line x1=\"255.8776875154129\" y1=\"86.52532542642335\" x2=\"245.89742023113018\" y2=\"85.89742023113021\" stroke-linecap=\"round\" style=\"stroke:white;stroke-width:4\"/><line x1=\"245.89742023113018\" y1=\"85.89742023113021\" x2=\"235.89742023113018\" y2=\"85.8974202311302\" stroke-linecap=\"round\" style=\"stroke:white;stroke-width:4\"/><line x1=\"235.89742023113018\" y1=\"85.8974202311302\" x2=\"225.91715294684747\" y2=\"86.52532542642332\" stroke-linecap=\"round\" style=\"stroke:white;stroke-width:4\"/><line x1=\"225.91715294684747\" y1=\"86.52532542642332\" x2=\"215.9960059337027\" y2=\"87.77865776206636\" stroke-linecap=\"round\" style=\"stroke:white;stroke-width:4\"/><line x1=\"215.9960059337027\" y1=\"87.77865776206636\" x2=\"206.1731334264158\" y2=\"89.65247090792359\" stroke-linecap=\"round\" style=\"stroke:white;stroke-width:4\"/><line x1=\"206.1731334264158\" y1=\"89.65247090792359\" x2=\"196.48730181512948\" y2=\"92.13936977957212\" stroke-linecap=\"round\" style=\"stroke:white;stroke-width:4\"/><line x1=\"196.48730181512948\" y1=\"92.13936977957212\" x2=\"186.97673665217795\" y2=\"95.22953972332158\" stroke-linecap=\"round\" style=\"stroke:white;stroke-width:4\"/><line x1=\"186.97673665217795\" y1=\"95.22953972332158\" x2=\"177.67897179329543\" y2=\"98.91078525016835\" stroke-linecap=\"round\" style=\"stroke:white;stroke-width:4\"/><line x1=\"177.67897179329543\" y1=\"98.91078525016835\" x2=\"168.63070126863522\" y2=\"103.16857816581906\" stroke-linecap=\"round\" style=\"stroke:white;stroke-width:4\"/><line x1=\"168.63070126863522\" y1=\"103.16857816581906\" x2=\"159.86763446819657\" y2=\"107.98611490683619\" stroke-linecap=\"round\" style=\"stroke:white;stroke-width:4\"/><line x1=\"159.86763446819657\" y1=\"107.98611490683619\" x2=\"151.4243552131764\" y2=\"113.34438285662614\" stroke-linecap=\"round\" style=\"stroke:white;stroke-width:4\"/><line x1=\"151.4243552131764\" y1=\"113.34438285662614\" x2=\"143.3341852694269\" y2=\"119.22223537955085\" stroke-linecap=\"round\" style=\"stroke:white;stroke-width:4\"/><line x1=\"143.3341852694269\" y1=\"119.22223537955085\" x2=\"135.629052841669\" y2=\"125.59647527703774\" stroke-linecap=\"round\" style=\"stroke:white;stroke-width:4\"/><line x1=\"135.629052841669\" y1=\"125.59647527703774\" x2=\"128.33936656745487\" y2=\"132.4419463363246\" stroke-linecap=\"round\" style=\"stroke:white;stroke-width:4\"/><line x1=\"128.33936656745487\" y1=\"132.4419463363246\" x2=\"121.49389550816797\" y2=\"139.7316326105387\" stroke-linecap=\"round\" style=\"stroke:white;stroke-width:4\"/><line x1=\"121.49389550816797\" y1=\"139.7316326105387\" x2=\"115.11965561068105\" y2=\"147.43676503829658\" stroke-linecap=\"round\" style=\"stroke:white;stroke-width:4\"/><line x1=\"115.11965561068105\" y1=\"147.43676503829658\" x2=\"109.2418030877563\" y2=\"155.52693498204604\" stroke-linecap=\"round\" style=\"stroke:white;stroke-width:4\"/><line x1=\"109.2418030877563\" y1=\"155.52693498204604\" x2=\"103.8835351379663\" y2=\"163.9702142370662\" stroke-linecap=\"round\" style=\"stroke:white;stroke-width:4\"/><line x1=\"103.8835351379663\" y1=\"163.9702142370662\" x2=\"99.06599839694913\" y2=\"172.7332810375048\" stroke-linecap=\"round\" style=\"stroke:white;stroke-width:4\"/><line x1=\"99.06599839694913\" y1=\"172.7332810375048\" x2=\"94.80820548129837\" y2=\"181.781551562165\" stroke-linecap=\"round\" style=\"stroke:white;stroke-width:4\"/><line x1=\"94.80820548129837\" y1=\"181.781551562165\" x2=\"91.12695995445156\" y2=\"191.0793164210475\" stroke-linecap=\"round\" style=\"stroke:white;stroke-width:4\"/><line x1=\"91.12695995445156\" y1=\"191.0793164210475\" x2=\"88.03679001070206\" y2=\"200.58988158399904\" stroke-linecap=\"round\" style=\"stroke:white;stroke-width:4\"/><line x1=\"88.03679001070206\" y1=\"200.58988158399904\" x2=\"85.54989113905349\" y2=\"210.27571319528533\" stroke-linecap=\"round\" style=\"stroke:white;stroke-width:4\"/><line x1=\"85.54989113905349\" y1=\"210.27571319528533\" x2=\"83.6760779931962\" y2=\"220.09858570257222\" stroke-linecap=\"round\" style=\"stroke:white;stroke-width:4\"/><line x1=\"83.6760779931962\" y1=\"220.09858570257222\" x2=\"82.42274565755312\" y2=\"230.019732715717\" stroke-linecap=\"round\" style=\"stroke:white;stroke-width:4\"/><line x1=\"82.42274565755312\" y1=\"230.019732715717\" x2=\"81.79484046225996\" y2=\"239.99999999999972\" stroke-linecap=\"round\" style=\"stroke:white;stroke-width:4\"/><line x1=\"81.79484046225996\" y1=\"239.99999999999972\" x2=\"81.79484046225993\" y2=\"249.99999999999972\" stroke-linecap=\"round\" style=\"stroke:white;stroke-width:4\"/><line x1=\"81.79484046225993\" y1=\"249.99999999999972\" x2=\"82.42274565755302\" y2=\"259.98026728428243\" stroke-linecap=\"round\" style=\"stroke:white;stroke-width:4\"/><line x1=\"82.42274565755302\" y1=\"259.98026728428243\" x2=\"83.67607799319603\" y2=\"269.9014142974272\" stroke-linecap=\"round\" style=\"stroke:white;stroke-width:4\"/><line x1=\"83.67607799319603\" y1=\"269.9014142974272\" x2=\"85.54989113905324\" y2=\"279.7242868047141\" stroke-linecap=\"round\" style=\"stroke:white;stroke-width:4\"/><line x1=\"85.54989113905324\" y1=\"279.7242868047141\" x2=\"88.03679001070175\" y2=\"289.41011841600044\" stroke-linecap=\"round\" style=\"stroke:white;stroke-width:4\"/><line x1=\"88.03679001070175\" y1=\"289.41011841600044\" x2=\"91.12695995445118\" y2=\"298.920683578952\" stroke-linecap=\"round\" style=\"stroke:white;stroke-width:4\"/><line x1=\"91.12695995445118\" y1=\"298.920683578952\" x2=\"94.80820548129792\" y2=\"308.2184484378345\" stroke-linecap=\"round\" style=\"stroke:white;stroke-width:4\"/><line x1=\"94.80820548129792\" y1=\"308.2184484378345\" x2=\"99.0659983969486\" y2=\"317.26671896249474\" stroke-linecap=\"round\" style=\"stroke:white;stroke-width:4\"/><line x1=\"99.0659983969486\" y1=\"317.26671896249474\" x2=\"103.88353513796572\" y2=\"326.0297857629334\" stroke-linecap=\"round\" style=\"stroke:white;stroke-width:4\"/><line x1=\"103.88353513796572\" y1=\"326.0297857629334\" x2=\"109.24180308775566\" y2=\"334.47306501795356\" stroke-linecap=\"round\" style=\"stroke:white;stroke-width:4\"/><line x1=\"109.24180308775566\" y1=\"334.47306501795356\" x2=\"115.11965561068035\" y2=\"342.5632349617031\" stroke-linecap=\"round\" style=\"stroke:white;stroke-width:4\"/><line x1=\"115.11965561068035\" y1=\"342.5632349617031\" x2=\"121.49389550816721\" y2=\"350.268367389461\" stroke-linecap=\"round\" style=\"stroke:white;stroke-width:4\"/><line x1=\"121.49389550816721\" y1=\"350.268367389461\" x2=\"128.33936656745408\" y2=\"357.55805366367514\" stroke-linecap=\"round\" style=\"stroke:white;stroke-width:4\"/><line x1=\"128.33936656745408\" y1=\"357.55805366367514\" x2=\"135.62905284166817\" y2=\"364.40352472296206\" stroke-linecap=\"round\" style=\"stroke:white;stroke-width:4\"/><line x1=\"135.62905284166817\" y1=\"364.40352472296206\" x2=\"143.33418526942603\" y2=\"370.777764620449\" stroke-linecap=\"round\" style=\"stroke:white;stroke-width:4\"/><line x1=\"143.33418526942603\" y1=\"370.777764620449\" x2=\"151.4243552131755\" y2=\"376.6556171433737\" stroke-linecap=\"round\" style=\"stroke:white;stroke-width:4\"/><line x1=\"151.4243552131755\" y1=\"376.6556171433737\" x2=\"159.8676344681956\" y2=\"382.0138850931637\" stroke-linecap=\"round\" style=\"stroke:white;stroke-width:4\"/><line x1=\"159.8676344681956\" y1=\"382.0138850931637\" x2=\"168.63070126863423\" y2=\"386.8314218341809\" stroke-linecap=\"round\" style=\"stroke:white;stroke-width:4\"/><line x1=\"168.63070126863423\" y1=\"386.8314218341809\" x2=\"177.6789717932944\" y2=\"391.0892147498317\" stroke-linecap=\"round\" style=\"stroke:white;stroke-width:4\"/><line x1=\"177.6789717932944\" y1=\"391.0892147498317\" x2=\"186.9767366521769\" y2=\"394.7704602766785\" stroke-linecap=\"round\" style=\"stroke:white;stroke-width:4\"/><line x1=\"186.9767366521769\" y1=\"394.7704602766785\" x2=\"196.48730181512843\" y2=\"397.860630220428\" stroke-linecap=\"round\" style=\"stroke:white;stroke-width:4\"/><line x1=\"196.48730181512843\" y1=\"397.860630220428\" x2=\"206.17313342641472\" y2=\"400.34752909207657\" stroke-linecap=\"round\" style=\"stroke:white;stroke-width:4\"/><line x1=\"206.17313342641472\" y1=\"400.34752909207657\" x2=\"215.9960059337016\" y2=\"402.22134223793387\" stroke-linecap=\"round\" style=\"stroke:white;stroke-width:4\"/><line x1=\"215.9960059337016\" y1=\"402.22134223793387\" x2=\"225.9171529468464\" y2=\"403.474674573577\" stroke-linecap=\"round\" style=\"stroke:white;stroke-width:4\"/><line x1=\"225.9171529468464\" y1=\"403.474674573577\" x2=\"235.8974202311291\" y2=\"404.10257976887016\" stroke-linecap=\"round\" style=\"stroke:white;stroke-width:4\"/><line x1=\"235.8974202311291\" y1=\"404.10257976887016\" x2=\"245.8974202311291\" y2=\"404.1025797688702\" stroke-linecap=\"round\" style=\"stroke:white;stroke-width:4\"/><line x1=\"245.8974202311291\" y1=\"404.1025797688702\" x2=\"255.87768751541182\" y2=\"403.4746745735771\" stroke-linecap=\"round\" style=\"stroke:white;stroke-width:4\"/><line x1=\"255.87768751541182\" y1=\"403.4746745735771\" x2=\"265.7988345285566\" y2=\"402.2213422379341\" stroke-linecap=\"round\" style=\"stroke:white;stroke-width:4\"/><line x1=\"265.7988345285566\" y1=\"402.2213422379341\" x2=\"275.6217070358435\" y2=\"400.34752909207685\" stroke-linecap=\"round\" style=\"stroke:white;stroke-width:4\"/><line x1=\"275.6217070358435\" y1=\"400.34752909207685\" x2=\"285.3075386471298\" y2=\"397.86063022042833\" stroke-linecap=\"round\" style=\"stroke:white;stroke-width:4\"/><line x1=\"285.3075386471298\" y1=\"397.86063022042833\" x2=\"294.8181038100813\" y2=\"394.7704602766789\" stroke-linecap=\"round\" style=\"stroke:white;stroke-width:4\"/><line x1=\"294.8181038100813\" y1=\"394.7704602766789\" x2=\"304.11586866896386\" y2=\"391.08921474983214\" stroke-linecap=\"round\" style=\"stroke:white;stroke-width:4\"/><line x1=\"304.11586866896386\" y1=\"391.08921474983214\" x2=\"313.16413919362407\" y2=\"386.8314218341814\" stroke-linecap=\"round\" style=\"stroke:white;stroke-width:4\"/><line x1=\"313.16413919362407\" y1=\"386.8314218341814\" x2=\"321.9272059940627\" y2=\"382.0138850931643\" stroke-linecap=\"round\" style=\"stroke:white;stroke-width:4\"/><line x1=\"321.9272059940627\" y1=\"382.0138850931643\" x2=\"330.3704852490829\" y2=\"376.6556171433743\" stroke-linecap=\"round\" style=\"stroke:white;stroke-width:4\"/><line x1=\"330.3704852490829\" y1=\"376.6556171433743\" x2=\"338.46065519283235\" y2=\"370.77776462044955\" stroke-linecap=\"round\" style=\"stroke:white;stroke-width:4\"/><line x1=\"338.46065519283235\" y1=\"370.77776462044955\" x2=\"346.1657876205902\" y2=\"364.40352472296263\" stroke-linecap=\"round\" style=\"stroke:white;stroke-width:4\"/><line x1=\"346.1657876205902\" y1=\"364.40352472296263\" x2=\"353.4554738948043\" y2=\"357.5580536636757\" stroke-linecap=\"round\" style=\"stroke:white;stroke-width:4\"/><line x1=\"353.4554738948043\" y1=\"357.5580536636757\" x2=\"360.30094495409116\" y2=\"350.26836738946156\" stroke-linecap=\"round\" style=\"stroke:white;stroke-width:4\"/><line x1=\"360.30094495409116\" y1=\"350.26836738946156\" x2=\"366.675184851578\" y2=\"342.56323496170364\" stroke-linecap=\"round\" style=\"stroke:white;stroke-width:4\"/><line x1=\"366.675184851578\" y1=\"342.56323496170364\" x2=\"372.55303737450276\" y2=\"334.4730650179542\" stroke-linecap=\"round\" style=\"stroke:white;stroke-width:4\"/><line x1=\"372.55303737450276\" y1=\"334.4730650179542\" x2=\"377.9113053242927\" y2=\"326.029785762934\" stroke-linecap=\"round\" style=\"stroke:white;stroke-width:4\"/><line x1=\"377.9113053242927\" y1=\"326.029785762934\" x2=\"382.72884206530983\" y2=\"317.26671896249536\" stroke-linecap=\"round\" style=\"stroke:white;stroke-width:4\"/><line x1=\"382.72884206530983\" y1=\"317.26671896249536\" x2=\"386.9866349809605\" y2=\"308.21844843783515\" stroke-linecap=\"round\" style=\"stroke:white;stroke-width:4\"/><line x1=\"386.9866349809605\" y1=\"308.21844843783515\" x2=\"390.66788050780724\" y2=\"298.9206835789526\" stroke-linecap=\"round\" style=\"stroke:white;stroke-width:4\"/><line x1=\"390.66788050780724\" y1=\"298.9206835789526\" x2=\"393.7580504515567\" y2=\"289.41011841600107\" stroke-linecap=\"round\" style=\"stroke:white;stroke-width:4\"/><line x1=\"393.7580504515567\" y1=\"289.41011841600107\" x2=\"396.2449493232052\" y2=\"279.7242868047147\" stroke-linecap=\"round\" style=\"stroke:white;stroke-width:4\"/><line x1=\"396.2449493232052\" y1=\"279.7242868047147\" x2=\"398.1187624690624\" y2=\"269.90141429742783\" stroke-linecap=\"round\" style=\"stroke:white;stroke-width:4\"/><line x1=\"398.1187624690624\" y1=\"269.90141429742783\" x2=\"399.3720948047054\" y2=\"259.98026728428306\" stroke-linecap=\"round\" style=\"stroke:white;stroke-width:4\"/><line x1=\"399.3720948047054\" y1=\"259.98026728428306\" x2=\"399.99999999999847\" y2=\"250.00000000000034\" stroke-linecap=\"round\" style=\"stroke:white;stroke-width:4\"/>\n",
              "        \n",
              "      <g visibility=visible transform=\"rotate(179.99999999999966,399.99999999999847,250.00000000000034) translate(399.99999999999847, 250.00000000000034)\">\n",
              "        <circle stroke=\"white\" stroke-width=\"3\" fill=\"transparent\" r=\"12\" cx=\"0\" cy=\"0\"/>\n",
              "        <polygon points=\"0,19 3,16 -3,16\" style=\"fill:white;stroke:white;stroke-width:2\"/>\n",
              "      </g>\n",
              "    \n",
              "      </svg>\n",
              "    "
            ],
            "text/plain": [
              "<IPython.core.display.HTML object>"
            ]
          },
          "metadata": {
            "tags": []
          }
        }
      ]
    },
    {
      "cell_type": "markdown",
      "metadata": {
        "id": "yOREP_wHKyY8"
      },
      "source": [
        "Quando uma função tem mais do que alguns argumentos numéricos, é fácil esquecer o que eles são, ou em que ordem eles devem estar. Nesse caso, é sempre uma boa idéia incluir os nomes dos parâmetros na lista de argumentos ao chamar a função:\n",
        "```\n",
        "polygon (bob, n = 7, length = 70)\n",
        "```\n",
        "\n",
        "Eles são chamados de argumentos de palavras-chave (___keyword___) porque incluem os nomes de parâmetros como “palavras-chave” (não confundir com palavras-chave do Python como ```while``` e ```def``` ).\n",
        "\n",
        "Essa sintaxe torna o programa mais legível. Também é um lembrete sobre como os argumentos e parâmetros funcionam: **quando você chama uma função, os argumentos são atribuídos aos parâmetros**."
      ]
    },
    {
      "cell_type": "markdown",
      "metadata": {
        "id": "6IDqjSAUKyY-"
      },
      "source": [
        "##  Design de interface\n",
        "O próximo passo é escrever um círculo , que usa um raio ```r``` como parâmetro. Aqui está uma solução simples que usa a função ```polygon``` para desenhar um polígono de 50 lados:"
      ]
    },
    {
      "cell_type": "code",
      "metadata": {
        "id": "IuKzJX9gKyY_"
      },
      "source": [
        "import math \n",
        "def circle(t, r): \n",
        "    circumference = 2 * math.pi * r  \n",
        "    n = 50 \n",
        "    length = int(circumference / n )        # circumference = n*length\n",
        "    polygon(t, length, n)"
      ],
      "execution_count": null,
      "outputs": []
    },
    {
      "cell_type": "code",
      "metadata": {
        "id": "Lmy-_e8bUPA4",
        "outputId": "a878f3aa-bb70-411c-e094-ec18b0ff1bd4",
        "colab": {
          "base_uri": "https://localhost:8080/",
          "height": 521
        }
      },
      "source": [
        "alice.initializeTurtle()\n",
        "alice.speed(10)\n",
        "circle(alice, 50)"
      ],
      "execution_count": null,
      "outputs": [
        {
          "output_type": "display_data",
          "data": {
            "text/html": [
              "\n",
              "      <svg width=\"800\" height=\"500\">\n",
              "        <rect width=\"100%\" height=\"100%\" fill=\"black\"/>\n",
              "        <line x1=\"400\" y1=\"250\" x2=\"400.0\" y2=\"244.0\" stroke-linecap=\"round\" style=\"stroke:white;stroke-width:4\"/><line x1=\"400.0\" y1=\"244.0\" x2=\"399.24800059861417\" y2=\"238.04731179211313\" stroke-linecap=\"round\" style=\"stroke:white;stroke-width:4\"/><line x1=\"399.24800059861417\" y1=\"238.04731179211313\" x2=\"397.755861275625\" y2=\"232.23581282534136\" stroke-linecap=\"round\" style=\"stroke:white;stroke-width:4\"/><line x1=\"397.755861275625\" y1=\"232.23581282534136\" x2=\"395.54711395951693\" y2=\"226.65715391001186\" stroke-linecap=\"round\" style=\"stroke:white;stroke-width:4\"/><line x1=\"395.54711395951693\" y1=\"226.65715391001186\" x2=\"392.65659191490664\" y2=\"221.39931382974868\" stroke-linecap=\"round\" style=\"stroke:white;stroke-width:4\"/><line x1=\"392.65659191490664\" y1=\"221.39931382974868\" x2=\"389.1298804011518\" y2=\"216.545211863499\" stroke-linecap=\"round\" style=\"stroke:white;stroke-width:4\"/><line x1=\"389.1298804011518\" y1=\"216.545211863499\" x2=\"385.0225977655797\" y2=\"212.1714000989705\" stroke-linecap=\"round\" style=\"stroke:white;stroke-width:4\"/><line x1=\"385.0225977655797\" y1=\"212.1714000989705\" x2=\"380.39951830892494\" y2=\"208.34685616047835\" stroke-linecap=\"round\" style=\"stroke:white;stroke-width:4\"/><line x1=\"380.39951830892494\" y1=\"208.34685616047835\" x2=\"375.3335507559129\" y2=\"205.13189539060437\" stroke-linecap=\"round\" style=\"stroke:white;stroke-width:4\"/><line x1=\"375.3335507559129\" y1=\"205.13189539060437\" x2=\"369.90458844111674\" y2=\"202.57721964121393\" stroke-linecap=\"round\" style=\"stroke:white;stroke-width:4\"/><line x1=\"369.90458844111674\" y1=\"202.57721964121393\" x2=\"364.1982493433458\" y2=\"200.72311767496424\" stroke-linecap=\"round\" style=\"stroke:white;stroke-width:4\"/><line x1=\"364.1982493433458\" y1=\"200.72311767496424\" x2=\"358.3045258389737\" y2=\"199.5988297874499\" stroke-linecap=\"round\" style=\"stroke:white;stroke-width:4\"/><line x1=\"358.3045258389737\" y1=\"199.5988297874499\" x2=\"352.31636546840406\" y2=\"199.222086670274\" stroke-linecap=\"round\" style=\"stroke:white;stroke-width:4\"/><line x1=\"352.31636546840406\" y1=\"199.222086670274\" x2=\"346.3282050978344\" y2=\"199.59882978744986\" stroke-linecap=\"round\" style=\"stroke:white;stroke-width:4\"/><line x1=\"346.3282050978344\" y1=\"199.59882978744986\" x2=\"340.4344815934623\" y2=\"200.7231176749642\" stroke-linecap=\"round\" style=\"stroke:white;stroke-width:4\"/><line x1=\"340.4344815934623\" y1=\"200.7231176749642\" x2=\"334.7281424956914\" y2=\"202.57721964121384\" stroke-linecap=\"round\" style=\"stroke:white;stroke-width:4\"/><line x1=\"334.7281424956914\" y1=\"202.57721964121384\" x2=\"329.29918018089523\" y2=\"205.13189539060426\" stroke-linecap=\"round\" style=\"stroke:white;stroke-width:4\"/><line x1=\"329.29918018089523\" y1=\"205.13189539060426\" x2=\"324.2332126278831\" y2=\"208.3468561604782\" stroke-linecap=\"round\" style=\"stroke:white;stroke-width:4\"/><line x1=\"324.2332126278831\" y1=\"208.3468561604782\" x2=\"319.61013317122837\" y2=\"212.17140009897034\" stroke-linecap=\"round\" style=\"stroke:white;stroke-width:4\"/><line x1=\"319.61013317122837\" y1=\"212.17140009897034\" x2=\"315.5028505356562\" y2=\"216.5452118634988\" stroke-linecap=\"round\" style=\"stroke:white;stroke-width:4\"/><line x1=\"315.5028505356562\" y1=\"216.5452118634988\" x2=\"311.97613902190136\" y2=\"221.39931382974845\" stroke-linecap=\"round\" style=\"stroke:white;stroke-width:4\"/><line x1=\"311.97613902190136\" y1=\"221.39931382974845\" x2=\"309.08561697729107\" y2=\"226.65715391001163\" stroke-linecap=\"round\" style=\"stroke:white;stroke-width:4\"/><line x1=\"309.08561697729107\" y1=\"226.65715391001163\" x2=\"306.876869661183\" y2=\"232.23581282534113\" stroke-linecap=\"round\" style=\"stroke:white;stroke-width:4\"/><line x1=\"306.876869661183\" y1=\"232.23581282534113\" x2=\"305.38473033819383\" y2=\"238.0473117921129\" stroke-linecap=\"round\" style=\"stroke:white;stroke-width:4\"/><line x1=\"305.38473033819383\" y1=\"238.0473117921129\" x2=\"304.632730936808\" y2=\"243.99999999999977\" stroke-linecap=\"round\" style=\"stroke:white;stroke-width:4\"/><line x1=\"304.632730936808\" y1=\"243.99999999999977\" x2=\"304.632730936808\" y2=\"249.99999999999977\" stroke-linecap=\"round\" style=\"stroke:white;stroke-width:4\"/><line x1=\"304.632730936808\" y1=\"249.99999999999977\" x2=\"305.38473033819383\" y2=\"255.95268820788664\" stroke-linecap=\"round\" style=\"stroke:white;stroke-width:4\"/><line x1=\"305.38473033819383\" y1=\"255.95268820788664\" x2=\"306.8768696611829\" y2=\"261.76418717465845\" stroke-linecap=\"round\" style=\"stroke:white;stroke-width:4\"/><line x1=\"306.8768696611829\" y1=\"261.76418717465845\" x2=\"309.08561697729095\" y2=\"267.342846089988\" stroke-linecap=\"round\" style=\"stroke:white;stroke-width:4\"/><line x1=\"309.08561697729095\" y1=\"267.342846089988\" x2=\"311.97613902190125\" y2=\"272.60068617025115\" stroke-linecap=\"round\" style=\"stroke:white;stroke-width:4\"/><line x1=\"311.97613902190125\" y1=\"272.60068617025115\" x2=\"315.5028505356561\" y2=\"277.45478813650084\" stroke-linecap=\"round\" style=\"stroke:white;stroke-width:4\"/><line x1=\"315.5028505356561\" y1=\"277.45478813650084\" x2=\"319.6101331712282\" y2=\"281.8285999010293\" stroke-linecap=\"round\" style=\"stroke:white;stroke-width:4\"/><line x1=\"319.6101331712282\" y1=\"281.8285999010293\" x2=\"324.23321262788295\" y2=\"285.6531438395214\" stroke-linecap=\"round\" style=\"stroke:white;stroke-width:4\"/><line x1=\"324.23321262788295\" y1=\"285.6531438395214\" x2=\"329.299180180895\" y2=\"288.8681046093954\" stroke-linecap=\"round\" style=\"stroke:white;stroke-width:4\"/><line x1=\"329.299180180895\" y1=\"288.8681046093954\" x2=\"334.72814249569115\" y2=\"291.4227803587859\" stroke-linecap=\"round\" style=\"stroke:white;stroke-width:4\"/><line x1=\"334.72814249569115\" y1=\"291.4227803587859\" x2=\"340.43448159346207\" y2=\"293.27688232503556\" stroke-linecap=\"round\" style=\"stroke:white;stroke-width:4\"/><line x1=\"340.43448159346207\" y1=\"293.27688232503556\" x2=\"346.3282050978342\" y2=\"294.4011702125499\" stroke-linecap=\"round\" style=\"stroke:white;stroke-width:4\"/><line x1=\"346.3282050978342\" y1=\"294.4011702125499\" x2=\"352.31636546840383\" y2=\"294.77791332972583\" stroke-linecap=\"round\" style=\"stroke:white;stroke-width:4\"/><line x1=\"352.31636546840383\" y1=\"294.77791332972583\" x2=\"358.30452583897346\" y2=\"294.40117021254997\" stroke-linecap=\"round\" style=\"stroke:white;stroke-width:4\"/><line x1=\"358.30452583897346\" y1=\"294.40117021254997\" x2=\"364.1982493433456\" y2=\"293.2768823250357\" stroke-linecap=\"round\" style=\"stroke:white;stroke-width:4\"/><line x1=\"364.1982493433456\" y1=\"293.2768823250357\" x2=\"369.9045884411165\" y2=\"291.422780358786\" stroke-linecap=\"round\" style=\"stroke:white;stroke-width:4\"/><line x1=\"369.9045884411165\" y1=\"291.422780358786\" x2=\"375.33355075591265\" y2=\"288.8681046093956\" stroke-linecap=\"round\" style=\"stroke:white;stroke-width:4\"/><line x1=\"375.33355075591265\" y1=\"288.8681046093956\" x2=\"380.39951830892477\" y2=\"285.6531438395216\" stroke-linecap=\"round\" style=\"stroke:white;stroke-width:4\"/><line x1=\"380.39951830892477\" y1=\"285.6531438395216\" x2=\"385.0225977655795\" y2=\"281.82859990102946\" stroke-linecap=\"round\" style=\"stroke:white;stroke-width:4\"/><line x1=\"385.0225977655795\" y1=\"281.82859990102946\" x2=\"389.1298804011517\" y2=\"277.454788136501\" stroke-linecap=\"round\" style=\"stroke:white;stroke-width:4\"/><line x1=\"389.1298804011517\" y1=\"277.454788136501\" x2=\"392.6565919149066\" y2=\"272.6006861702513\" stroke-linecap=\"round\" style=\"stroke:white;stroke-width:4\"/><line x1=\"392.6565919149066\" y1=\"272.6006861702513\" x2=\"395.5471139595169\" y2=\"267.34284608998814\" stroke-linecap=\"round\" style=\"stroke:white;stroke-width:4\"/><line x1=\"395.5471139595169\" y1=\"267.34284608998814\" x2=\"397.75586127562497\" y2=\"261.7641871746587\" stroke-linecap=\"round\" style=\"stroke:white;stroke-width:4\"/><line x1=\"397.75586127562497\" y1=\"261.7641871746587\" x2=\"399.2480005986141\" y2=\"255.9526882078869\" stroke-linecap=\"round\" style=\"stroke:white;stroke-width:4\"/><line x1=\"399.2480005986141\" y1=\"255.9526882078869\" x2=\"399.99999999999994\" y2=\"250.00000000000003\" stroke-linecap=\"round\" style=\"stroke:white;stroke-width:4\"/>\n",
              "        \n",
              "      <g visibility=visible transform=\"rotate(180.00000000000034,399.99999999999994,250.00000000000003) translate(399.99999999999994, 250.00000000000003)\">\n",
              "        <circle stroke=\"white\" stroke-width=\"3\" fill=\"transparent\" r=\"12\" cx=\"0\" cy=\"0\"/>\n",
              "        <polygon points=\"0,19 3,16 -3,16\" style=\"fill:white;stroke:white;stroke-width:2\"/>\n",
              "      </g>\n",
              "    \n",
              "      </svg>\n",
              "    "
            ],
            "text/plain": [
              "<IPython.core.display.HTML object>"
            ]
          },
          "metadata": {
            "tags": []
          }
        }
      ]
    },
    {
      "cell_type": "markdown",
      "metadata": {
        "id": "zyCR32tSKyZC"
      },
      "source": [
        "A primeira linha calcula a circunferência de um círculo com raio ```r``` usando a fórmula 2 $\\pi$ r . Como usamos math.pi , temos que importar matemática. Por convenção, as instruções de importação geralmente estão no início do script.\n",
        "\n",
        "```n``` é o número de segmentos de linha em nossa aproximação de um círculo, então ```length``` é o comprimento de cada segmento. Assim, a função ```polygon``` desenha um polígono de 50 lados que se aproxima de um círculo com raio r.\n",
        "\n",
        "Uma limitação dessa solução é que ```n``` é uma constante, o que significa que, para círculos muito grandes, os segmentos de linha são muito longos e, para círculos pequenos, perdemos tempo desenhando segmentos muito pequenos. Uma solução seria generalizar a função usando ```n``` como parâmetro. Isso daria ao usuário (quem chama a função) mais controle, mas a interface seria menos limpa.\n",
        "\n",
        "A __interface__ de uma função é um ___resumo___ de como ela é usada: \n",
        "* quais são os parâmetros? \n",
        "* O que a função faz? \n",
        "* E qual é o valor de retorno? \n",
        "\n",
        "Uma interface é dita “limpa” se permite que o chamador faça o que quiser sem lidar com detalhes desnecessários.\n",
        "\n",
        "Neste exemplo, ```r``` pertence à interface porque especifica o círculo a ser desenhado, mas ```n``` é menos apropriado porque se refere aos detalhes de como o círculo deve ser renderizado. Em vez de sobrecarregar a interface, é melhor escolher um valor apropriado de ```n``` dependendo da circunferência :"
      ]
    },
    {
      "cell_type": "code",
      "metadata": {
        "id": "IOhHK9TnKyZC"
      },
      "source": [
        "def circle(t, r): \n",
        "    circumference = 2 * math.pi * r \n",
        "    n = int(circumference / 3) + 3  # adicionar 3 garante que tenhamos pelo menos 3 lados. \n",
        "    length = int(circumference / n ) \n",
        "    polygon(t, length ,n)\n"
      ],
      "execution_count": null,
      "outputs": []
    },
    {
      "cell_type": "code",
      "metadata": {
        "id": "ELMQ3VOEUcZp",
        "outputId": "e64155f4-1e82-4da7-fb09-3cec5435e527",
        "colab": {
          "base_uri": "https://localhost:8080/",
          "height": 521
        }
      },
      "source": [
        "alice.initializeTurtle()\n",
        "alice.speed(10)\n",
        "circle(alice,80)"
      ],
      "execution_count": null,
      "outputs": [
        {
          "output_type": "display_data",
          "data": {
            "text/html": [
              "\n",
              "      <svg width=\"800\" height=\"500\">\n",
              "        <rect width=\"100%\" height=\"100%\" fill=\"black\"/>\n",
              "        <line x1=\"400\" y1=\"250\" x2=\"400.0\" y2=\"248.0\" stroke-linecap=\"round\" style=\"stroke:white;stroke-width:4\"/><line x1=\"400.0\" y1=\"248.0\" x2=\"399.9260970012217\" y2=\"246.00136587971394\" stroke-linecap=\"round\" style=\"stroke:white;stroke-width:4\"/><line x1=\"399.9260970012217\" y1=\"246.00136587971394\" x2=\"399.77839194627194\" y2=\"244.00682753294237\" stroke-linecap=\"round\" style=\"stroke:white;stroke-width:4\"/><line x1=\"399.77839194627194\" y1=\"244.00682753294237\" x2=\"399.5570865824889\" y2=\"242.01910925915183\" stroke-linecap=\"round\" style=\"stroke:white;stroke-width:4\"/><line x1=\"399.5570865824889\" y1=\"242.01910925915183\" x2=\"399.26248318637965\" y2=\"240.04092604240955\" stroke-linecap=\"round\" style=\"stroke:white;stroke-width:4\"/><line x1=\"399.26248318637965\" y1=\"240.04092604240955\" x2=\"398.8949841507465\" y2=\"238.07497984304175\" stroke-linecap=\"round\" style=\"stroke:white;stroke-width:4\"/><line x1=\"398.8949841507465\" y1=\"238.07497984304175\" x2=\"398.4550914350672\" y2=\"236.12395590708087\" stroke-linecap=\"round\" style=\"stroke:white;stroke-width:4\"/><line x1=\"398.4550914350672\" y1=\"236.12395590708087\" x2=\"397.9434058798783\" y2=\"234.1905190985425\" stroke-linecap=\"round\" style=\"stroke:white;stroke-width:4\"/><line x1=\"397.9434058798783\" y1=\"234.1905190985425\" x2=\"397.3606263860996\" y2=\"232.27731025954162\" stroke-linecap=\"round\" style=\"stroke:white;stroke-width:4\"/><line x1=\"397.3606263860996\" y1=\"232.27731025954162\" x2=\"396.70754896041944\" y2=\"230.38694260321998\" stroke-linecap=\"round\" style=\"stroke:white;stroke-width:4\"/><line x1=\"396.70754896041944\" y1=\"230.38694260321998\" x2=\"395.98506562804516\" y2=\"228.52199814441127\" stroke-linecap=\"round\" style=\"stroke:white;stroke-width:4\"/><line x1=\"395.98506562804516\" y1=\"228.52199814441127\" x2=\"395.19416321430407\" y2=\"226.6850241729194\" stroke-linecap=\"round\" style=\"stroke:white;stroke-width:4\"/><line x1=\"395.19416321430407\" y1=\"226.6850241729194\" x2=\"394.3359219967588\" y2=\"224.87852977422716\" stroke-linecap=\"round\" style=\"stroke:white;stroke-width:4\"/><line x1=\"394.3359219967588\" y1=\"224.87852977422716\" x2=\"393.4115142296782\" y2=\"223.10498240238704\" stroke-linecap=\"round\" style=\"stroke:white;stroke-width:4\"/><line x1=\"393.4115142296782\" y1=\"223.10498240238704\" x2=\"392.4222025428786\" y2=\"221.366804509776\" stroke-linecap=\"round\" style=\"stroke:white;stroke-width:4\"/><line x1=\"392.4222025428786\" y1=\"221.366804509776\" x2=\"391.36933821712387\" y2=\"219.66637023831677\" stroke-linecap=\"round\" style=\"stroke:white;stroke-width:4\"/><line x1=\"391.36933821712387\" y1=\"219.66637023831677\" x2=\"390.2543593384381\" y2=\"218.00600217668568\" stroke-linecap=\"round\" style=\"stroke:white;stroke-width:4\"/><line x1=\"390.2543593384381\" y1=\"218.00600217668568\" x2=\"389.0787888338532\" y2=\"216.3879681879358\" stroke-linecap=\"round\" style=\"stroke:white;stroke-width:4\"/><line x1=\"389.0787888338532\" y1=\"216.3879681879358\" x2=\"387.8442323912736\" y2=\"214.81447831186884\" stroke-linecap=\"round\" style=\"stroke:white;stroke-width:4\"/><line x1=\"387.8442323912736\" y1=\"214.81447831186884\" x2=\"386.5523762663\" y2=\"213.28768174638662\" stroke-linecap=\"round\" style=\"stroke:white;stroke-width:4\"/><line x1=\"386.5523762663\" y1=\"213.28768174638662\" x2=\"385.20498497900684\" y2=\"211.8096639119453\" stroke-linecap=\"round\" style=\"stroke:white;stroke-width:4\"/><line x1=\"385.20498497900684\" y1=\"211.8096639119453\" x2=\"383.80389890382025\" y2=\"210.3824436031218\" stroke-linecap=\"round\" style=\"stroke:white;stroke-width:4\"/><line x1=\"383.80389890382025\" y1=\"210.3824436031218\" x2=\"382.3510317557878\" y2=\"209.00797023118326\" stroke-linecap=\"round\" style=\"stroke:white;stroke-width:4\"/><line x1=\"382.3510317557878\" y1=\"209.00797023118326\" x2=\"380.84836797667407\" y2=\"207.6881211614258\" stroke-linecap=\"round\" style=\"stroke:white;stroke-width:4\"/><line x1=\"380.84836797667407\" y1=\"207.6881211614258\" x2=\"379.2979600244518\" y2=\"206.4246991489193\" stroke-linecap=\"round\" style=\"stroke:white;stroke-width:4\"/><line x1=\"379.2979600244518\" y1=\"206.4246991489193\" x2=\"377.70192556989133\" y2=\"205.2194298761608\" stroke-linecap=\"round\" style=\"stroke:white;stroke-width:4\"/><line x1=\"377.70192556989133\" y1=\"205.2194298761608\" x2=\"376.06244460407686\" y2=\"204.0739595959998\" stroke-linecap=\"round\" style=\"stroke:white;stroke-width:4\"/><line x1=\"376.06244460407686\" y1=\"204.0739595959998\" x2=\"374.38175646080106\" y2=\"202.9898528830549\" stroke-linecap=\"round\" style=\"stroke:white;stroke-width:4\"/><line x1=\"374.38175646080106\" y1=\"202.9898528830549\" x2=\"372.6621567579043\" y2=\"201.9685904966931\" stroke-linecap=\"round\" style=\"stroke:white;stroke-width:4\"/><line x1=\"372.6621567579043\" y1=\"201.9685904966931\" x2=\"370.9059942617369\" y2=\"201.01156735849054\" stroke-linecap=\"round\" style=\"stroke:white;stroke-width:4\"/><line x1=\"370.9059942617369\" y1=\"201.01156735849054\" x2=\"369.1156676790268\" y2=\"200.12009064693746\" stroke-linecap=\"round\" style=\"stroke:white;stroke-width:4\"/><line x1=\"369.1156676790268\" y1=\"200.12009064693746\" x2=\"367.2936223805346\" y2=\"199.29537801198967\" stroke-linecap=\"round\" style=\"stroke:white;stroke-width:4\"/><line x1=\"367.2936223805346\" y1=\"199.29537801198967\" x2=\"365.4423470609715\" y2=\"198.53855591190506\" stroke-linecap=\"round\" style=\"stroke:white;stroke-width:4\"/><line x1=\"365.4423470609715\" y1=\"198.53855591190506\" x2=\"363.56437033974134\" y2=\"197.8506580746372\" stroke-linecap=\"round\" style=\"stroke:white;stroke-width:4\"/><line x1=\"363.56437033974134\" y1=\"197.8506580746372\" x2=\"361.66225730715104\" y2=\"197.23262408588732\" stroke-linecap=\"round\" style=\"stroke:white;stroke-width:4\"/><line x1=\"361.66225730715104\" y1=\"197.23262408588732\" x2=\"359.7386060208054\" y2=\"196.68529810574316\" stroke-linecap=\"round\" style=\"stroke:white;stroke-width:4\"/><line x1=\"359.7386060208054\" y1=\"196.68529810574316\" x2=\"357.79604395697316\" y2=\"196.20942771565794\" stroke-linecap=\"round\" style=\"stroke:white;stroke-width:4\"/><line x1=\"357.79604395697316\" y1=\"196.20942771565794\" x2=\"355.83722442177043\" y2=\"195.80566289734392\" stroke-linecap=\"round\" style=\"stroke:white;stroke-width:4\"/><line x1=\"355.83722442177043\" y1=\"195.80566289734392\" x2=\"353.86482292706364\" y2=\"195.47455514497568\" stroke-linecap=\"round\" style=\"stroke:white;stroke-width:4\"/><line x1=\"353.86482292706364\" y1=\"195.47455514497568\" x2=\"351.8815335360421\" y2=\"195.21655671191527\" stroke-linecap=\"round\" style=\"stroke:white;stroke-width:4\"/><line x1=\"351.8815335360421\" y1=\"195.21655671191527\" x2=\"349.89006518345207\" y2=\"195.03201999298867\" stroke-linecap=\"round\" style=\"stroke:white;stroke-width:4\"/><line x1=\"349.89006518345207\" y1=\"195.03201999298867\" x2=\"347.8931379755172\" y2=\"194.92119704315672\" stroke-linecap=\"round\" style=\"stroke:white;stroke-width:4\"/><line x1=\"347.8931379755172\" y1=\"194.92119704315672\" x2=\"345.8934794746011\" y2=\"194.88423923323847\" stroke-linecap=\"round\" style=\"stroke:white;stroke-width:4\"/><line x1=\"345.8934794746011\" y1=\"194.88423923323847\" x2=\"343.893820973685\" y2=\"194.92119704315675\" stroke-linecap=\"round\" style=\"stroke:white;stroke-width:4\"/><line x1=\"343.893820973685\" y1=\"194.92119704315675\" x2=\"341.8968937657502\" y2=\"195.0320199929887\" stroke-linecap=\"round\" style=\"stroke:white;stroke-width:4\"/><line x1=\"341.8968937657502\" y1=\"195.0320199929887\" x2=\"339.9054254131601\" y2=\"195.2165567119153\" stroke-linecap=\"round\" style=\"stroke:white;stroke-width:4\"/><line x1=\"339.9054254131601\" y1=\"195.2165567119153\" x2=\"337.92213602213866\" y2=\"195.4745551449757\" stroke-linecap=\"round\" style=\"stroke:white;stroke-width:4\"/><line x1=\"337.92213602213866\" y1=\"195.4745551449757\" x2=\"335.9497345274319\" y2=\"195.80566289734398\" stroke-linecap=\"round\" style=\"stroke:white;stroke-width:4\"/><line x1=\"335.9497345274319\" y1=\"195.80566289734398\" x2=\"333.99091499222914\" y2=\"196.20942771565802\" stroke-linecap=\"round\" style=\"stroke:white;stroke-width:4\"/><line x1=\"333.99091499222914\" y1=\"196.20942771565802\" x2=\"332.0483529283969\" y2=\"196.68529810574327\" stroke-linecap=\"round\" style=\"stroke:white;stroke-width:4\"/><line x1=\"332.0483529283969\" y1=\"196.68529810574327\" x2=\"330.12470164205126\" y2=\"197.23262408588744\" stroke-linecap=\"round\" style=\"stroke:white;stroke-width:4\"/><line x1=\"330.12470164205126\" y1=\"197.23262408588744\" x2=\"328.22258860946096\" y2=\"197.85065807463735\" stroke-linecap=\"round\" style=\"stroke:white;stroke-width:4\"/><line x1=\"328.22258860946096\" y1=\"197.85065807463735\" x2=\"326.3446118882309\" y2=\"198.5385559119052\" stroke-linecap=\"round\" style=\"stroke:white;stroke-width:4\"/><line x1=\"326.3446118882309\" y1=\"198.5385559119052\" x2=\"324.49333656866776\" y2=\"199.29537801198984\" stroke-linecap=\"round\" style=\"stroke:white;stroke-width:4\"/><line x1=\"324.49333656866776\" y1=\"199.29537801198984\" x2=\"322.6712912701756\" y2=\"200.12009064693765\" stroke-linecap=\"round\" style=\"stroke:white;stroke-width:4\"/><line x1=\"322.6712912701756\" y1=\"200.12009064693765\" x2=\"320.88096468746545\" y2=\"201.01156735849074\" stroke-linecap=\"round\" style=\"stroke:white;stroke-width:4\"/><line x1=\"320.88096468746545\" y1=\"201.01156735849074\" x2=\"319.12480219129804\" y2=\"201.9685904966933\" stroke-linecap=\"round\" style=\"stroke:white;stroke-width:4\"/><line x1=\"319.12480219129804\" y1=\"201.9685904966933\" x2=\"317.4052024884013\" y2=\"202.98985288305514\" stroke-linecap=\"round\" style=\"stroke:white;stroke-width:4\"/><line x1=\"317.4052024884013\" y1=\"202.98985288305514\" x2=\"315.7245143451255\" y2=\"204.07395959600004\" stroke-linecap=\"round\" style=\"stroke:white;stroke-width:4\"/><line x1=\"315.7245143451255\" y1=\"204.07395959600004\" x2=\"314.0850333793111\" y2=\"205.21942987616106\" stroke-linecap=\"round\" style=\"stroke:white;stroke-width:4\"/><line x1=\"314.0850333793111\" y1=\"205.21942987616106\" x2=\"312.4889989247506\" y2=\"206.4246991489196\" stroke-linecap=\"round\" style=\"stroke:white;stroke-width:4\"/><line x1=\"312.4889989247506\" y1=\"206.4246991489196\" x2=\"310.93859097252835\" y2=\"207.6881211614261\" stroke-linecap=\"round\" style=\"stroke:white;stroke-width:4\"/><line x1=\"310.93859097252835\" y1=\"207.6881211614261\" x2=\"309.4359271934146\" y2=\"209.00797023118355\" stroke-linecap=\"round\" style=\"stroke:white;stroke-width:4\"/><line x1=\"309.4359271934146\" y1=\"209.00797023118355\" x2=\"307.98306004538216\" y2=\"210.38244360312208\" stroke-linecap=\"round\" style=\"stroke:white;stroke-width:4\"/><line x1=\"307.98306004538216\" y1=\"210.38244360312208\" x2=\"306.5819739701956\" y2=\"211.8096639119456\" stroke-linecap=\"round\" style=\"stroke:white;stroke-width:4\"/><line x1=\"306.5819739701956\" y1=\"211.8096639119456\" x2=\"305.2345826829025\" y2=\"213.2876817463869\" stroke-linecap=\"round\" style=\"stroke:white;stroke-width:4\"/><line x1=\"305.2345826829025\" y1=\"213.2876817463869\" x2=\"303.94272655792895\" y2=\"214.81447831186912\" stroke-linecap=\"round\" style=\"stroke:white;stroke-width:4\"/><line x1=\"303.94272655792895\" y1=\"214.81447831186912\" x2=\"302.7081701153494\" y2=\"216.3879681879361\" stroke-linecap=\"round\" style=\"stroke:white;stroke-width:4\"/><line x1=\"302.7081701153494\" y1=\"216.3879681879361\" x2=\"301.53259961076446\" y2=\"218.00600217668602\" stroke-linecap=\"round\" style=\"stroke:white;stroke-width:4\"/><line x1=\"301.53259961076446\" y1=\"218.00600217668602\" x2=\"300.4176207320787\" y2=\"219.66637023831714\" stroke-linecap=\"round\" style=\"stroke:white;stroke-width:4\"/><line x1=\"300.4176207320787\" y1=\"219.66637023831714\" x2=\"299.36475640632403\" y2=\"221.3668045097764\" stroke-linecap=\"round\" style=\"stroke:white;stroke-width:4\"/><line x1=\"299.36475640632403\" y1=\"221.3668045097764\" x2=\"298.37544471952447\" y2=\"223.10498240238746\" stroke-linecap=\"round\" style=\"stroke:white;stroke-width:4\"/><line x1=\"298.37544471952447\" y1=\"223.10498240238746\" x2=\"297.45103695244387\" y2=\"224.8785297742276\" stroke-linecap=\"round\" style=\"stroke:white;stroke-width:4\"/><line x1=\"297.45103695244387\" y1=\"224.8785297742276\" x2=\"296.5927957348987\" y2=\"226.68502417291984\" stroke-linecap=\"round\" style=\"stroke:white;stroke-width:4\"/><line x1=\"296.5927957348987\" y1=\"226.68502417291984\" x2=\"295.8018933211576\" y2=\"228.5219981444117\" stroke-linecap=\"round\" style=\"stroke:white;stroke-width:4\"/><line x1=\"295.8018933211576\" y1=\"228.5219981444117\" x2=\"295.0794099887833\" y2=\"230.3869426032204\" stroke-linecap=\"round\" style=\"stroke:white;stroke-width:4\"/><line x1=\"295.0794099887833\" y1=\"230.3869426032204\" x2=\"294.4263325631032\" y2=\"232.27731025954205\" stroke-linecap=\"round\" style=\"stroke:white;stroke-width:4\"/><line x1=\"294.4263325631032\" y1=\"232.27731025954205\" x2=\"293.84355306932457\" y2=\"234.19051909854292\" stroke-linecap=\"round\" style=\"stroke:white;stroke-width:4\"/><line x1=\"293.84355306932457\" y1=\"234.19051909854292\" x2=\"293.3318675141357\" y2=\"236.1239559070813\" stroke-linecap=\"round\" style=\"stroke:white;stroke-width:4\"/><line x1=\"293.3318675141357\" y1=\"236.1239559070813\" x2=\"292.8919747984564\" y2=\"238.07497984304217\" stroke-linecap=\"round\" style=\"stroke:white;stroke-width:4\"/><line x1=\"292.8919747984564\" y1=\"238.07497984304217\" x2=\"292.5244757628233\" y2=\"240.04092604240998\" stroke-linecap=\"round\" style=\"stroke:white;stroke-width:4\"/><line x1=\"292.5244757628233\" y1=\"240.04092604240998\" x2=\"292.229872366714\" y2=\"242.0191092591523\" stroke-linecap=\"round\" style=\"stroke:white;stroke-width:4\"/><line x1=\"292.229872366714\" y1=\"242.0191092591523\" x2=\"292.00856700293104\" y2=\"244.00682753294285\" stroke-linecap=\"round\" style=\"stroke:white;stroke-width:4\"/><line x1=\"292.00856700293104\" y1=\"244.00682753294285\" x2=\"291.86086194798133\" y2=\"246.00136587971443\" stroke-linecap=\"round\" style=\"stroke:white;stroke-width:4\"/><line x1=\"291.86086194798133\" y1=\"246.00136587971443\" x2=\"291.78695894920304\" y2=\"248.00000000000048\" stroke-linecap=\"round\" style=\"stroke:white;stroke-width:4\"/><line x1=\"291.78695894920304\" y1=\"248.00000000000048\" x2=\"291.78695894920304\" y2=\"250.00000000000048\" stroke-linecap=\"round\" style=\"stroke:white;stroke-width:4\"/><line x1=\"291.78695894920304\" y1=\"250.00000000000048\" x2=\"291.86086194798133\" y2=\"251.99863412028654\" stroke-linecap=\"round\" style=\"stroke:white;stroke-width:4\"/><line x1=\"291.86086194798133\" y1=\"251.99863412028654\" x2=\"292.0085670029311\" y2=\"253.99317246705812\" stroke-linecap=\"round\" style=\"stroke:white;stroke-width:4\"/><line x1=\"292.0085670029311\" y1=\"253.99317246705812\" x2=\"292.2298723667141\" y2=\"255.98089074084865\" stroke-linecap=\"round\" style=\"stroke:white;stroke-width:4\"/><line x1=\"292.2298723667141\" y1=\"255.98089074084865\" x2=\"292.52447576282344\" y2=\"257.95907395759093\" stroke-linecap=\"round\" style=\"stroke:white;stroke-width:4\"/><line x1=\"292.52447576282344\" y1=\"257.95907395759093\" x2=\"292.8919747984566\" y2=\"259.92502015695874\" stroke-linecap=\"round\" style=\"stroke:white;stroke-width:4\"/><line x1=\"292.8919747984566\" y1=\"259.92502015695874\" x2=\"293.331867514136\" y2=\"261.8760440929196\" stroke-linecap=\"round\" style=\"stroke:white;stroke-width:4\"/><line x1=\"293.331867514136\" y1=\"261.8760440929196\" x2=\"293.84355306932486\" y2=\"263.80948090145796\" stroke-linecap=\"round\" style=\"stroke:white;stroke-width:4\"/><line x1=\"293.84355306932486\" y1=\"263.80948090145796\" x2=\"294.42633256310353\" y2=\"265.72268974045886\" stroke-linecap=\"round\" style=\"stroke:white;stroke-width:4\"/><line x1=\"294.42633256310353\" y1=\"265.72268974045886\" x2=\"295.0794099887837\" y2=\"267.6130573967805\" stroke-linecap=\"round\" style=\"stroke:white;stroke-width:4\"/><line x1=\"295.0794099887837\" y1=\"267.6130573967805\" x2=\"295.80189332115805\" y2=\"269.4780018555892\" stroke-linecap=\"round\" style=\"stroke:white;stroke-width:4\"/><line x1=\"295.80189332115805\" y1=\"269.4780018555892\" x2=\"296.59279573489914\" y2=\"271.314975827081\" stroke-linecap=\"round\" style=\"stroke:white;stroke-width:4\"/><line x1=\"296.59279573489914\" y1=\"271.314975827081\" x2=\"297.4510369524444\" y2=\"273.12147022577324\" stroke-linecap=\"round\" style=\"stroke:white;stroke-width:4\"/><line x1=\"297.4510369524444\" y1=\"273.12147022577324\" x2=\"298.37544471952503\" y2=\"274.89501759761333\" stroke-linecap=\"round\" style=\"stroke:white;stroke-width:4\"/><line x1=\"298.37544471952503\" y1=\"274.89501759761333\" x2=\"299.3647564063246\" y2=\"276.63319549022435\" stroke-linecap=\"round\" style=\"stroke:white;stroke-width:4\"/><line x1=\"299.3647564063246\" y1=\"276.63319549022435\" x2=\"300.41762073207934\" y2=\"278.3336297616836\" stroke-linecap=\"round\" style=\"stroke:white;stroke-width:4\"/><line x1=\"300.41762073207934\" y1=\"278.3336297616836\" x2=\"301.53259961076515\" y2=\"279.99399782331466\" stroke-linecap=\"round\" style=\"stroke:white;stroke-width:4\"/><line x1=\"301.53259961076515\" y1=\"279.99399782331466\" x2=\"302.70817011535013\" y2=\"281.6120318120645\" stroke-linecap=\"round\" style=\"stroke:white;stroke-width:4\"/><line x1=\"302.70817011535013\" y1=\"281.6120318120645\" x2=\"303.94272655792975\" y2=\"283.1855216881315\" stroke-linecap=\"round\" style=\"stroke:white;stroke-width:4\"/><line x1=\"303.94272655792975\" y1=\"283.1855216881315\" x2=\"305.23458268290335\" y2=\"284.71231825361366\" stroke-linecap=\"round\" style=\"stroke:white;stroke-width:4\"/><line x1=\"305.23458268290335\" y1=\"284.71231825361366\" x2=\"306.5819739701965\" y2=\"286.19033608805495\" stroke-linecap=\"round\" style=\"stroke:white;stroke-width:4\"/><line x1=\"306.5819739701965\" y1=\"286.19033608805495\" x2=\"307.98306004538307\" y2=\"287.61755639687846\" stroke-linecap=\"round\" style=\"stroke:white;stroke-width:4\"/><line x1=\"307.98306004538307\" y1=\"287.61755639687846\" x2=\"309.4359271934155\" y2=\"288.99202976881696\" stroke-linecap=\"round\" style=\"stroke:white;stroke-width:4\"/><line x1=\"309.4359271934155\" y1=\"288.99202976881696\" x2=\"310.9385909725293\" y2=\"290.3118788385744\" stroke-linecap=\"round\" style=\"stroke:white;stroke-width:4\"/><line x1=\"310.9385909725293\" y1=\"290.3118788385744\" x2=\"312.48899892475157\" y2=\"291.5753008510809\" stroke-linecap=\"round\" style=\"stroke:white;stroke-width:4\"/><line x1=\"312.48899892475157\" y1=\"291.5753008510809\" x2=\"314.08503337931205\" y2=\"292.78057012383937\" stroke-linecap=\"round\" style=\"stroke:white;stroke-width:4\"/><line x1=\"314.08503337931205\" y1=\"292.78057012383937\" x2=\"315.7245143451265\" y2=\"293.92604040400033\" stroke-linecap=\"round\" style=\"stroke:white;stroke-width:4\"/><line x1=\"315.7245143451265\" y1=\"293.92604040400033\" x2=\"317.4052024884023\" y2=\"295.01014711694523\" stroke-linecap=\"round\" style=\"stroke:white;stroke-width:4\"/><line x1=\"317.4052024884023\" y1=\"295.01014711694523\" x2=\"319.12480219129907\" y2=\"296.03140950330703\" stroke-linecap=\"round\" style=\"stroke:white;stroke-width:4\"/><line x1=\"319.12480219129907\" y1=\"296.03140950330703\" x2=\"320.8809646874665\" y2=\"296.9884326415096\" stroke-linecap=\"round\" style=\"stroke:white;stroke-width:4\"/><line x1=\"320.8809646874665\" y1=\"296.9884326415096\" x2=\"322.6712912701766\" y2=\"297.87990935306266\" stroke-linecap=\"round\" style=\"stroke:white;stroke-width:4\"/><line x1=\"322.6712912701766\" y1=\"297.87990935306266\" x2=\"324.4933365686688\" y2=\"298.70462198801044\" stroke-linecap=\"round\" style=\"stroke:white;stroke-width:4\"/><line x1=\"324.4933365686688\" y1=\"298.70462198801044\" x2=\"326.3446118882319\" y2=\"299.46144408809505\" stroke-linecap=\"round\" style=\"stroke:white;stroke-width:4\"/><line x1=\"326.3446118882319\" y1=\"299.46144408809505\" x2=\"328.22258860946204\" y2=\"300.1493419253629\" stroke-linecap=\"round\" style=\"stroke:white;stroke-width:4\"/><line x1=\"328.22258860946204\" y1=\"300.1493419253629\" x2=\"330.12470164205234\" y2=\"300.76737591411273\" stroke-linecap=\"round\" style=\"stroke:white;stroke-width:4\"/><line x1=\"330.12470164205234\" y1=\"300.76737591411273\" x2=\"332.048352928398\" y2=\"301.31470189425687\" stroke-linecap=\"round\" style=\"stroke:white;stroke-width:4\"/><line x1=\"332.048352928398\" y1=\"301.31470189425687\" x2=\"333.9909149922302\" y2=\"301.7905722843421\" stroke-linecap=\"round\" style=\"stroke:white;stroke-width:4\"/><line x1=\"333.9909149922302\" y1=\"301.7905722843421\" x2=\"335.94973452743295\" y2=\"302.1943371026561\" stroke-linecap=\"round\" style=\"stroke:white;stroke-width:4\"/><line x1=\"335.94973452743295\" y1=\"302.1943371026561\" x2=\"337.92213602213974\" y2=\"302.5254448550243\" stroke-linecap=\"round\" style=\"stroke:white;stroke-width:4\"/><line x1=\"337.92213602213974\" y1=\"302.5254448550243\" x2=\"339.90542541316125\" y2=\"302.7834432880847\" stroke-linecap=\"round\" style=\"stroke:white;stroke-width:4\"/><line x1=\"339.90542541316125\" y1=\"302.7834432880847\" x2=\"341.8968937657513\" y2=\"302.9679800070113\" stroke-linecap=\"round\" style=\"stroke:white;stroke-width:4\"/><line x1=\"341.8968937657513\" y1=\"302.9679800070113\" x2=\"343.89382097368616\" y2=\"303.0788029568432\" stroke-linecap=\"round\" style=\"stroke:white;stroke-width:4\"/><line x1=\"343.89382097368616\" y1=\"303.0788029568432\" x2=\"345.89347947460226\" y2=\"303.11576076676147\" stroke-linecap=\"round\" style=\"stroke:white;stroke-width:4\"/><line x1=\"345.89347947460226\" y1=\"303.11576076676147\" x2=\"347.89313797551836\" y2=\"303.07880295684316\" stroke-linecap=\"round\" style=\"stroke:white;stroke-width:4\"/><line x1=\"347.89313797551836\" y1=\"303.07880295684316\" x2=\"349.8900651834532\" y2=\"302.9679800070112\" stroke-linecap=\"round\" style=\"stroke:white;stroke-width:4\"/><line x1=\"349.8900651834532\" y1=\"302.9679800070112\" x2=\"351.88153353604326\" y2=\"302.7834432880846\" stroke-linecap=\"round\" style=\"stroke:white;stroke-width:4\"/><line x1=\"351.88153353604326\" y1=\"302.7834432880846\" x2=\"353.8648229270647\" y2=\"302.52544485502415\" stroke-linecap=\"round\" style=\"stroke:white;stroke-width:4\"/><line x1=\"353.8648229270647\" y1=\"302.52544485502415\" x2=\"355.8372244217715\" y2=\"302.1943371026559\" stroke-linecap=\"round\" style=\"stroke:white;stroke-width:4\"/><line x1=\"355.8372244217715\" y1=\"302.1943371026559\" x2=\"357.79604395697424\" y2=\"301.79057228434186\" stroke-linecap=\"round\" style=\"stroke:white;stroke-width:4\"/><line x1=\"357.79604395697424\" y1=\"301.79057228434186\" x2=\"359.73860602080646\" y2=\"301.3147018942566\" stroke-linecap=\"round\" style=\"stroke:white;stroke-width:4\"/><line x1=\"359.73860602080646\" y1=\"301.3147018942566\" x2=\"361.6622573071521\" y2=\"300.7673759141124\" stroke-linecap=\"round\" style=\"stroke:white;stroke-width:4\"/><line x1=\"361.6622573071521\" y1=\"300.7673759141124\" x2=\"363.5643703397424\" y2=\"300.1493419253625\" stroke-linecap=\"round\" style=\"stroke:white;stroke-width:4\"/><line x1=\"363.5643703397424\" y1=\"300.1493419253625\" x2=\"365.4423470609725\" y2=\"299.4614440880946\" stroke-linecap=\"round\" style=\"stroke:white;stroke-width:4\"/><line x1=\"365.4423470609725\" y1=\"299.4614440880946\" x2=\"367.2936223805356\" y2=\"298.70462198800993\" stroke-linecap=\"round\" style=\"stroke:white;stroke-width:4\"/><line x1=\"367.2936223805356\" y1=\"298.70462198800993\" x2=\"369.1156676790278\" y2=\"297.8799093530621\" stroke-linecap=\"round\" style=\"stroke:white;stroke-width:4\"/><line x1=\"369.1156676790278\" y1=\"297.8799093530621\" x2=\"370.90599426173793\" y2=\"296.988432641509\" stroke-linecap=\"round\" style=\"stroke:white;stroke-width:4\"/><line x1=\"370.90599426173793\" y1=\"296.988432641509\" x2=\"372.66215675790534\" y2=\"296.0314095033064\" stroke-linecap=\"round\" style=\"stroke:white;stroke-width:4\"/><line x1=\"372.66215675790534\" y1=\"296.0314095033064\" x2=\"374.3817564608021\" y2=\"295.01014711694455\" stroke-linecap=\"round\" style=\"stroke:white;stroke-width:4\"/><line x1=\"374.3817564608021\" y1=\"295.01014711694455\" x2=\"376.0624446040778\" y2=\"293.92604040399965\" stroke-linecap=\"round\" style=\"stroke:white;stroke-width:4\"/><line x1=\"376.0624446040778\" y1=\"293.92604040399965\" x2=\"377.70192556989224\" y2=\"292.78057012383863\" stroke-linecap=\"round\" style=\"stroke:white;stroke-width:4\"/><line x1=\"377.70192556989224\" y1=\"292.78057012383863\" x2=\"379.2979600244527\" y2=\"291.5753008510801\" stroke-linecap=\"round\" style=\"stroke:white;stroke-width:4\"/><line x1=\"379.2979600244527\" y1=\"291.5753008510801\" x2=\"380.848367976675\" y2=\"290.3118788385736\" stroke-linecap=\"round\" style=\"stroke:white;stroke-width:4\"/><line x1=\"380.848367976675\" y1=\"290.3118788385736\" x2=\"382.3510317557887\" y2=\"288.9920297688161\" stroke-linecap=\"round\" style=\"stroke:white;stroke-width:4\"/><line x1=\"382.3510317557887\" y1=\"288.9920297688161\" x2=\"383.80389890382116\" y2=\"287.61755639687755\" stroke-linecap=\"round\" style=\"stroke:white;stroke-width:4\"/><line x1=\"383.80389890382116\" y1=\"287.61755639687755\" x2=\"385.20498497900775\" y2=\"286.19033608805404\" stroke-linecap=\"round\" style=\"stroke:white;stroke-width:4\"/><line x1=\"385.20498497900775\" y1=\"286.19033608805404\" x2=\"386.5523762663008\" y2=\"284.7123182536127\" stroke-linecap=\"round\" style=\"stroke:white;stroke-width:4\"/><line x1=\"386.5523762663008\" y1=\"284.7123182536127\" x2=\"387.8442323912744\" y2=\"283.18552168813045\" stroke-linecap=\"round\" style=\"stroke:white;stroke-width:4\"/><line x1=\"387.8442323912744\" y1=\"283.18552168813045\" x2=\"389.07878883385393\" y2=\"281.6120318120635\" stroke-linecap=\"round\" style=\"stroke:white;stroke-width:4\"/><line x1=\"389.07878883385393\" y1=\"281.6120318120635\" x2=\"390.25435933843886\" y2=\"279.9939978233136\" stroke-linecap=\"round\" style=\"stroke:white;stroke-width:4\"/><line x1=\"390.25435933843886\" y1=\"279.9939978233136\" x2=\"391.3693382171246\" y2=\"278.33362976168246\" stroke-linecap=\"round\" style=\"stroke:white;stroke-width:4\"/><line x1=\"391.3693382171246\" y1=\"278.33362976168246\" x2=\"392.4222025428793\" y2=\"276.6331954902232\" stroke-linecap=\"round\" style=\"stroke:white;stroke-width:4\"/><line x1=\"392.4222025428793\" y1=\"276.6331954902232\" x2=\"393.4115142296788\" y2=\"274.89501759761214\" stroke-linecap=\"round\" style=\"stroke:white;stroke-width:4\"/><line x1=\"393.4115142296788\" y1=\"274.89501759761214\" x2=\"394.3359219967594\" y2=\"273.121470225772\" stroke-linecap=\"round\" style=\"stroke:white;stroke-width:4\"/><line x1=\"394.3359219967594\" y1=\"273.121470225772\" x2=\"395.1941632143046\" y2=\"271.3149758270797\" stroke-linecap=\"round\" style=\"stroke:white;stroke-width:4\"/><line x1=\"395.1941632143046\" y1=\"271.3149758270797\" x2=\"395.9850656280456\" y2=\"269.4780018555879\" stroke-linecap=\"round\" style=\"stroke:white;stroke-width:4\"/><line x1=\"395.9850656280456\" y1=\"269.4780018555879\" x2=\"396.7075489604199\" y2=\"267.61305739677914\" stroke-linecap=\"round\" style=\"stroke:white;stroke-width:4\"/><line x1=\"396.7075489604199\" y1=\"267.61305739677914\" x2=\"397.3606263861\" y2=\"265.7226897404575\" stroke-linecap=\"round\" style=\"stroke:white;stroke-width:4\"/><line x1=\"397.3606263861\" y1=\"265.7226897404575\" x2=\"397.94340587987864\" y2=\"263.8094809014566\" stroke-linecap=\"round\" style=\"stroke:white;stroke-width:4\"/><line x1=\"397.94340587987864\" y1=\"263.8094809014566\" x2=\"398.45509143506746\" y2=\"261.8760440929182\" stroke-linecap=\"round\" style=\"stroke:white;stroke-width:4\"/><line x1=\"398.45509143506746\" y1=\"261.8760440929182\" x2=\"398.8949841507468\" y2=\"259.9250201569573\" stroke-linecap=\"round\" style=\"stroke:white;stroke-width:4\"/><line x1=\"398.8949841507468\" y1=\"259.9250201569573\" x2=\"399.2624831863799\" y2=\"257.9590739575895\" stroke-linecap=\"round\" style=\"stroke:white;stroke-width:4\"/><line x1=\"399.2624831863799\" y1=\"257.9590739575895\" x2=\"399.55708658248915\" y2=\"255.9808907408472\" stroke-linecap=\"round\" style=\"stroke:white;stroke-width:4\"/><line x1=\"399.55708658248915\" y1=\"255.9808907408472\" x2=\"399.7783919462721\" y2=\"253.99317246705664\" stroke-linecap=\"round\" style=\"stroke:white;stroke-width:4\"/><line x1=\"399.7783919462721\" y1=\"253.99317246705664\" x2=\"399.9260970012218\" y2=\"251.99863412028506\" stroke-linecap=\"round\" style=\"stroke:white;stroke-width:4\"/><line x1=\"399.9260970012218\" y1=\"251.99863412028506\" x2=\"400.00000000000006\" y2=\"249.999999999999\" stroke-linecap=\"round\" style=\"stroke:white;stroke-width:4\"/>\n",
              "        \n",
              "      <g visibility=visible transform=\"rotate(179.9999999999991,400.00000000000006,249.999999999999) translate(400.00000000000006, 249.999999999999)\">\n",
              "        <circle stroke=\"white\" stroke-width=\"3\" fill=\"transparent\" r=\"12\" cx=\"0\" cy=\"0\"/>\n",
              "        <polygon points=\"0,19 3,16 -3,16\" style=\"fill:white;stroke:white;stroke-width:2\"/>\n",
              "      </g>\n",
              "    \n",
              "      </svg>\n",
              "    "
            ],
            "text/plain": [
              "<IPython.core.display.HTML object>"
            ]
          },
          "metadata": {
            "tags": []
          }
        }
      ]
    },
    {
      "cell_type": "markdown",
      "metadata": {
        "id": "1Ik6K7X0KyZG"
      },
      "source": [
        "## Documentação da função: docstring\n",
        "\n",
        "Uma **docstring** é uma string no início de uma função que explica a interface (“doc” é a abreviação de “documentation”). Aqui está um exemplo:"
      ]
    },
    {
      "cell_type": "code",
      "metadata": {
        "id": "gv36vrIWKyZH"
      },
      "source": [
        "def polyline(t, n, length, angle):\n",
        "    \"\"\"Draws n line segments with the given length and\n",
        "    angle (in degrees) between them.  t is a turtle.\n",
        "    \"\"\"    \n",
        "    for i in range(n):\n",
        "        t.forward(int(length))\n",
        "        t.left(angle)"
      ],
      "execution_count": null,
      "outputs": []
    },
    {
      "cell_type": "markdown",
      "metadata": {
        "id": "FxOLbahYKyZJ"
      },
      "source": [
        "Por convenção, todas as docstrings são strings de aspas triplas. Elas aspas triplas permitem que a string abranja mais de uma linha.\n",
        "\n",
        "É conciso, mas contém as informações essenciais que alguém precisaria para usar essa função. Explica de forma concisa o que a função faz (sem entrar nos detalhes de como ela faz isso). Explica o efeito que cada parâmetro tem sobre o comportamento da função e qual o tipo de parâmetro deve ser (se não for óbvio).\n",
        "\n",
        "Escrever esse tipo de documentação é uma parte importante do design da interface. Uma interface bem projetada deve ser simples de explicar; \n",
        "* Se você tiver dificuldade em explicar uma de suas funções, talvez a interface possa ser melhorada.\n",
        "\n",
        "## Refatoração\n",
        "O  processo de reorganizar um programa para melhorar as interfaces e facilitar a reutilização de código é chamado de __refatoração__ (_refactoring_ em inglês).  \n",
        "A função ```polyline``` acima é uma forma de refatorizar, utilizando ela é possível reescrever por exemplo a função do ```polygon``` como:\n"
      ]
    },
    {
      "cell_type": "code",
      "metadata": {
        "id": "1iBukOn6KyZK"
      },
      "source": [
        "def polygon(t, n, length): \n",
        "    angle = 360.0 / n \n",
        "    polyline(t, n, length, angle) \n"
      ],
      "execution_count": null,
      "outputs": []
    },
    {
      "cell_type": "code",
      "metadata": {
        "id": "OZJ0fxxBgoWb",
        "outputId": "02794868-00e4-46c9-dbd7-38ee4dae4403",
        "colab": {
          "base_uri": "https://localhost:8080/",
          "height": 521
        }
      },
      "source": [
        "tarta = ColabTurtle.Turtle\n",
        "tarta.initializeTurtle()\n",
        "polygon(tarta, 5, 50)"
      ],
      "execution_count": null,
      "outputs": [
        {
          "output_type": "display_data",
          "data": {
            "text/html": [
              "\n",
              "      <svg width=\"800\" height=\"500\">\n",
              "        <rect width=\"100%\" height=\"100%\" fill=\"black\"/>\n",
              "        <line x1=\"400\" y1=\"250\" x2=\"400.0\" y2=\"200.0\" stroke-linecap=\"round\" style=\"stroke:white;stroke-width:4\"/><line x1=\"400.0\" y1=\"200.0\" x2=\"352.4471741852423\" y2=\"184.54915028125265\" stroke-linecap=\"round\" style=\"stroke:white;stroke-width:4\"/><line x1=\"352.4471741852423\" y1=\"184.54915028125265\" x2=\"323.05791157061867\" y2=\"225.00000000000003\" stroke-linecap=\"round\" style=\"stroke:white;stroke-width:4\"/><line x1=\"323.05791157061867\" y1=\"225.00000000000003\" x2=\"352.4471741852423\" y2=\"265.4508497187474\" stroke-linecap=\"round\" style=\"stroke:white;stroke-width:4\"/><line x1=\"352.4471741852423\" y1=\"265.4508497187474\" x2=\"400.0\" y2=\"250.00000000000003\" stroke-linecap=\"round\" style=\"stroke:white;stroke-width:4\"/>\n",
              "        \n",
              "      <g visibility=visible transform=\"rotate(180.0,400.0,250.00000000000003) translate(400.0, 250.00000000000003)\">\n",
              "        <circle stroke=\"white\" stroke-width=\"3\" fill=\"transparent\" r=\"12\" cx=\"0\" cy=\"0\"/>\n",
              "        <polygon points=\"0,19 3,16 -3,16\" style=\"fill:white;stroke:white;stroke-width:2\"/>\n",
              "      </g>\n",
              "    \n",
              "      </svg>\n",
              "    "
            ],
            "text/plain": [
              "<IPython.core.display.HTML object>"
            ]
          },
          "metadata": {
            "tags": []
          }
        }
      ]
    },
    {
      "cell_type": "markdown",
      "metadata": {
        "id": "fNCdkIXPKyZM"
      },
      "source": [
        "`Polyline` desenha só uma sequencia uniforme de `n` linhas e  `n` giros para um comprimento e ângulos definidos. Ela também pode ser utilizada para redefinir o arco:"
      ]
    },
    {
      "cell_type": "code",
      "metadata": {
        "id": "1Wkb-o3yKyZM"
      },
      "source": [
        "def arc(t, r, angle):\n",
        "    arc_length = 2 * math.pi * r * angle / 360\n",
        "    n = int(arc_length / 3) + 1 \n",
        "    step_length = arc_length / n \n",
        "    step_angle = float(angle) / n \n",
        "    polyline(t, n, step_length, step_angle)"
      ],
      "execution_count": null,
      "outputs": []
    },
    {
      "cell_type": "markdown",
      "metadata": {
        "id": "Gm3NyrCKKyZP"
      },
      "source": [
        "De forma que uma nova versão do círculo seria definida simplesmente:"
      ]
    },
    {
      "cell_type": "code",
      "metadata": {
        "id": "aUWpc-ysKyZP",
        "outputId": "9a92d28a-46fb-4a4d-d0bb-be11105f0f22",
        "colab": {
          "base_uri": "https://localhost:8080/",
          "height": 521
        }
      },
      "source": [
        "def circle(t, r): \n",
        "    arc(t, r, 360)\n",
        "    \n",
        "#desenhar um circulo vermelho de raio 50\n",
        "alice.initializeTurtle()\n",
        "alice.speed(10)\n",
        "alice.color(\"red\")\n",
        "circle(alice,100)"
      ],
      "execution_count": null,
      "outputs": [
        {
          "output_type": "display_data",
          "data": {
            "text/html": [
              "\n",
              "      <svg width=\"800\" height=\"500\">\n",
              "        <rect width=\"100%\" height=\"100%\" fill=\"black\"/>\n",
              "        <line x1=\"400\" y1=\"250\" x2=\"400.0\" y2=\"248.0\" stroke-linecap=\"round\" style=\"stroke:red;stroke-width:4\"/><line x1=\"400.0\" y1=\"248.0\" x2=\"399.9401690676612\" y2=\"246.00089513543298\" stroke-linecap=\"round\" style=\"stroke:red;stroke-width:4\"/><line x1=\"399.9401690676612\" y1=\"246.00089513543298\" x2=\"399.8205607597711\" y2=\"244.0044748758975\" stroke-linecap=\"round\" style=\"stroke:red;stroke-width:4\"/><line x1=\"399.8205607597711\" y1=\"244.0044748758975\" x2=\"399.64128214196427\" y2=\"242.01252628790704\" stroke-linecap=\"round\" style=\"stroke:red;stroke-width:4\"/><line x1=\"399.64128214196427\" y1=\"242.01252628790704\" x2=\"399.40249369288375\" y2=\"240.02683243522335\" stroke-linecap=\"round\" style=\"stroke:red;stroke-width:4\"/><line x1=\"399.40249369288375\" y1=\"240.02683243522335\" x2=\"399.1044091605314\" y2=\"238.0491707827731\" stroke-linecap=\"round\" style=\"stroke:red;stroke-width:4\"/><line x1=\"399.1044091605314\" y1=\"238.0491707827731\" x2=\"398.7472953709341\" y2=\"236.08131160557585\" stroke-linecap=\"round\" style=\"stroke:red;stroke-width:4\"/><line x1=\"398.7472953709341\" y1=\"236.08131160557585\" x2=\"398.3314719892986\" y2=\"234.12501640410824\" stroke-linecap=\"round\" style=\"stroke:red;stroke-width:4\"/><line x1=\"398.3314719892986\" y1=\"234.12501640410824\" x2=\"397.8573112338676\" y2=\"232.1820363275225\" stroke-linecap=\"round\" style=\"stroke:red;stroke-width:4\"/><line x1=\"397.8573112338676\" y1=\"232.1820363275225\" x2=\"397.32523754273427\" y2=\"230.25411060613078\" stroke-linecap=\"round\" style=\"stroke:red;stroke-width:4\"/><line x1=\"397.32523754273427\" y1=\"230.25411060613078\" x2=\"396.73572719391245\" y2=\"228.34296499455849\" stroke-linecap=\"round\" style=\"stroke:red;stroke-width:4\"/><line x1=\"396.73572719391245\" y1=\"228.34296499455849\" x2=\"396.0893078790035\" y2=\"226.45031022696017\" stroke-linecap=\"round\" style=\"stroke:red;stroke-width:4\"/><line x1=\"396.0893078790035\" y1=\"226.45031022696017\" x2=\"395.3865582308408\" y2=\"224.5778404856807\" stroke-linecap=\"round\" style=\"stroke:red;stroke-width:4\"/><line x1=\"395.3865582308408\" y1=\"224.5778404856807\" x2=\"394.62810730553497\" y2=\"222.7272318847327\" stroke-linecap=\"round\" style=\"stroke:red;stroke-width:4\"/><line x1=\"394.62810730553497\" y1=\"222.7272318847327\" x2=\"393.8146340193834\" y2=\"220.9001409694475\" stroke-linecap=\"round\" style=\"stroke:red;stroke-width:4\"/><line x1=\"393.8146340193834\" y1=\"220.9001409694475\" x2=\"392.94686654114827\" y2=\"219.09820323364266\" stroke-linecap=\"round\" style=\"stroke:red;stroke-width:4\"/><line x1=\"392.94686654114827\" y1=\"219.09820323364266\" x2=\"392.025581640247\" y2=\"217.32303165563357\" stroke-linecap=\"round\" style=\"stroke:red;stroke-width:4\"/><line x1=\"392.025581640247\" y1=\"217.32303165563357\" x2=\"391.0516039914383\" y2=\"215.5762152543993\" stroke-linecap=\"round\" style=\"stroke:red;stroke-width:4\"/><line x1=\"391.0516039914383\" y1=\"215.5762152543993\" x2=\"390.02580543662646\" y2=\"213.85931766719557\" stroke-linecap=\"round\" style=\"stroke:red;stroke-width:4\"/><line x1=\"390.02580543662646\" y1=\"213.85931766719557\" x2=\"388.94910420444506\" y2=\"212.1738757498875\" stroke-linecap=\"round\" style=\"stroke:red;stroke-width:4\"/><line x1=\"388.94910420444506\" y1=\"212.1738757498875\" x2=\"387.8224640883178\" y2=\"210.5213982012555\" stroke-linecap=\"round\" style=\"stroke:red;stroke-width:4\"/><line x1=\"387.8224640883178\" y1=\"210.5213982012555\" x2=\"386.6468935837329\" y2=\"208.9033642125056\" stroke-linecap=\"round\" style=\"stroke:red;stroke-width:4\"/><line x1=\"386.6468935837329\" y1=\"208.9033642125056\" x2=\"385.4234449855029\" y2=\"207.32122214319293\" stroke-linecap=\"round\" style=\"stroke:red;stroke-width:4\"/><line x1=\"385.4234449855029\" y1=\"207.32122214319293\" x2=\"384.15321344581855\" y2=\"205.77638822474373\" stroke-linecap=\"round\" style=\"stroke:red;stroke-width:4\"/><line x1=\"384.15321344581855\" y1=\"205.77638822474373\" x2=\"382.8373359939391\" y2=\"204.27024529273652\" stroke-linecap=\"round\" style=\"stroke:red;stroke-width:4\"/><line x1=\"382.8373359939391\" y1=\"204.27024529273652\" x2=\"381.47699051839726\" y2=\"202.80414154907686\" stroke-linecap=\"round\" style=\"stroke:red;stroke-width:4\"/><line x1=\"381.47699051839726\" y1=\"202.80414154907686\" x2=\"380.0733947126293\" y2=\"201.37938935517417\" stroke-linecap=\"round\" style=\"stroke:red;stroke-width:4\"/><line x1=\"380.0733947126293\" y1=\"201.37938935517417\" x2=\"378.6278049849745\" y2=\"199.99726405720045\" stroke-linecap=\"round\" style=\"stroke:red;stroke-width:4\"/><line x1=\"378.6278049849745\" y1=\"199.99726405720045\" x2=\"377.1415153340197\" y2=\"198.65900284448276\" stroke-linecap=\"round\" style=\"stroke:red;stroke-width:4\"/><line x1=\"377.1415153340197\" y1=\"198.65900284448276\" x2=\"375.6158561902952\" y2=\"197.36580364205116\" stroke-linecap=\"round\" style=\"stroke:red;stroke-width:4\"/><line x1=\"375.6158561902952\" y1=\"197.36580364205116\" x2=\"374.05219322535913\" y2=\"196.1188240383337\" stroke-linecap=\"round\" style=\"stroke:red;stroke-width:4\"/><line x1=\"374.05219322535913\" y1=\"196.1188240383337\" x2=\"372.4519261293367\" y2=\"194.9191802489579\" stroke-linecap=\"round\" style=\"stroke:red;stroke-width:4\"/><line x1=\"372.4519261293367\" y1=\"194.9191802489579\" x2=\"370.8164873580078\" y2=\"193.76794611758658\" stroke-linecap=\"round\" style=\"stroke:red;stroke-width:4\"/><line x1=\"370.8164873580078\" y1=\"193.76794611758658\" x2=\"369.1473408505652\" y2=\"192.66615215468238\" stroke-linecap=\"round\" style=\"stroke:red;stroke-width:4\"/><line x1=\"369.1473408505652\" y1=\"192.66615215468238\" x2=\"367.4459807191905\" y2=\"191.61478461506138\" stroke-linecap=\"round\" style=\"stroke:red;stroke-width:4\"/><line x1=\"367.4459807191905\" y1=\"191.61478461506138\" x2=\"365.7139299116216\" y2=\"190.61478461506138\" stroke-linecap=\"round\" style=\"stroke:red;stroke-width:4\"/><line x1=\"365.7139299116216\" y1=\"190.61478461506138\" x2=\"363.95273884790817\" y2=\"189.6670472901154\" stroke-linecap=\"round\" style=\"stroke:red;stroke-width:4\"/><line x1=\"363.95273884790817\" y1=\"189.6670472901154\" x2=\"362.1639840325755\" y2=\"188.77242099348413\" stroke-linecap=\"round\" style=\"stroke:red;stroke-width:4\"/><line x1=\"362.1639840325755\" y1=\"188.77242099348413\" x2=\"360.34926664343976\" y2=\"187.93170653686502\" stroke-linecap=\"round\" style=\"stroke:red;stroke-width:4\"/><line x1=\"360.34926664343976\" y1=\"187.93170653686502\" x2=\"358.51021109833687\" y2=\"187.14565647355718\" stroke-linecap=\"round\" style=\"stroke:red;stroke-width:4\"/><line x1=\"358.51021109833687\" y1=\"187.14565647355718\" x2=\"356.64846360104843\" y2=\"186.4149744248244\" stroke-linecap=\"round\" style=\"stroke:red;stroke-width:4\"/><line x1=\"356.64846360104843\" y1=\"186.4149744248244\" x2=\"354.76569066772663\" y2=\"185.74031445005875\" stroke-linecap=\"round\" style=\"stroke:red;stroke-width:4\"/><line x1=\"354.76569066772663\" y1=\"185.74031445005875\" x2=\"352.8635776351363\" y2=\"185.12228046130886\" stroke-linecap=\"round\" style=\"stroke:red;stroke-width:4\"/><line x1=\"352.8635776351363\" y1=\"185.12228046130886\" x2=\"350.9438271520505\" y2=\"184.56142568269686\" stroke-linecap=\"round\" style=\"stroke:red;stroke-width:4\"/><line x1=\"350.9438271520505\" y1=\"184.56142568269686\" x2=\"349.0081576551492\" y2=\"184.05825215520787\" stroke-linecap=\"round\" style=\"stroke:red;stroke-width:4\"/><line x1=\"349.0081576551492\" y1=\"184.05825215520787\" x2=\"347.0583018307856\" y2=\"183.61321028729526\" stroke-linecap=\"round\" style=\"stroke:red;stroke-width:4\"/><line x1=\"347.0583018307856\" y1=\"183.61321028729526\" x2=\"345.0960050639972\" y2=\"183.22669845170418\" stroke-linecap=\"round\" style=\"stroke:red;stroke-width:4\"/><line x1=\"345.0960050639972\" y1=\"183.22669845170418\" x2=\"343.12302387615017\" y2=\"182.8990626288739\" stroke-linecap=\"round\" style=\"stroke:red;stroke-width:4\"/><line x1=\"343.12302387615017\" y1=\"182.8990626288739\" x2=\"341.1411243526143\" y2=\"182.63059609723862\" stroke-linecap=\"round\" style=\"stroke:red;stroke-width:4\"/><line x1=\"341.1411243526143\" y1=\"182.63059609723862\" x2=\"339.15208056187777\" y2=\"182.42153917070334\" stroke-linecap=\"round\" style=\"stroke:red;stroke-width:4\"/><line x1=\"339.15208056187777\" y1=\"182.42153917070334\" x2=\"337.1576729675154\" y2=\"182.27207898353052\" stroke-linecap=\"round\" style=\"stroke:red;stroke-width:4\"/><line x1=\"337.1576729675154\" y1=\"182.27207898353052\" x2=\"335.15968683443276\" y2=\"182.1823493228295\" stroke-linecap=\"round\" style=\"stroke:red;stroke-width:4\"/><line x1=\"335.15968683443276\" y1=\"182.1823493228295\" x2=\"333.1599106308122\" y2=\"182.152430508799\" stroke-linecap=\"round\" style=\"stroke:red;stroke-width:4\"/><line x1=\"333.1599106308122\" y1=\"182.152430508799\" x2=\"331.1601344271916\" y2=\"182.18234932282954\" stroke-linecap=\"round\" style=\"stroke:red;stroke-width:4\"/><line x1=\"331.1601344271916\" y1=\"182.18234932282954\" x2=\"329.162148294109\" y2=\"182.27207898353058\" stroke-linecap=\"round\" style=\"stroke:red;stroke-width:4\"/><line x1=\"329.162148294109\" y1=\"182.27207898353058\" x2=\"327.1677406997466\" y2=\"182.42153917070345\" stroke-linecap=\"round\" style=\"stroke:red;stroke-width:4\"/><line x1=\"327.1677406997466\" y1=\"182.42153917070345\" x2=\"325.17869690901006\" y2=\"182.63059609723877\" stroke-linecap=\"round\" style=\"stroke:red;stroke-width:4\"/><line x1=\"325.17869690901006\" y1=\"182.63059609723877\" x2=\"323.1967973854742\" y2=\"182.8990626288741\" stroke-linecap=\"round\" style=\"stroke:red;stroke-width:4\"/><line x1=\"323.1967973854742\" y1=\"182.8990626288741\" x2=\"321.2238161976272\" y2=\"183.2266984517044\" stroke-linecap=\"round\" style=\"stroke:red;stroke-width:4\"/><line x1=\"321.2238161976272\" y1=\"183.2266984517044\" x2=\"319.2615194308388\" y2=\"183.61321028729554\" stroke-linecap=\"round\" style=\"stroke:red;stroke-width:4\"/><line x1=\"319.2615194308388\" y1=\"183.61321028729554\" x2=\"317.3116636064752\" y2=\"184.05825215520818\" stroke-linecap=\"round\" style=\"stroke:red;stroke-width:4\"/><line x1=\"317.3116636064752\" y1=\"184.05825215520818\" x2=\"315.37599410957387\" y2=\"184.5614256826972\" stroke-linecap=\"round\" style=\"stroke:red;stroke-width:4\"/><line x1=\"315.37599410957387\" y1=\"184.5614256826972\" x2=\"313.4562436264881\" y2=\"185.12228046130923\" stroke-linecap=\"round\" style=\"stroke:red;stroke-width:4\"/><line x1=\"313.4562436264881\" y1=\"185.12228046130923\" x2=\"311.5541305938978\" y2=\"185.74031445005915\" stroke-linecap=\"round\" style=\"stroke:red;stroke-width:4\"/><line x1=\"311.5541305938978\" y1=\"185.74031445005915\" x2=\"309.671357660576\" y2=\"186.41497442482483\" stroke-linecap=\"round\" style=\"stroke:red;stroke-width:4\"/><line x1=\"309.671357660576\" y1=\"186.41497442482483\" x2=\"307.80961016328763\" y2=\"187.14565647355764\" stroke-linecap=\"round\" style=\"stroke:red;stroke-width:4\"/><line x1=\"307.80961016328763\" y1=\"187.14565647355764\" x2=\"305.97055461818474\" y2=\"187.9317065368655\" stroke-linecap=\"round\" style=\"stroke:red;stroke-width:4\"/><line x1=\"305.97055461818474\" y1=\"187.9317065368655\" x2=\"304.15583722904904\" y2=\"188.77242099348464\" stroke-linecap=\"round\" style=\"stroke:red;stroke-width:4\"/><line x1=\"304.15583722904904\" y1=\"188.77242099348464\" x2=\"302.3670824137164\" y2=\"189.66704729011593\" stroke-linecap=\"round\" style=\"stroke:red;stroke-width:4\"/><line x1=\"302.3670824137164\" y1=\"189.66704729011593\" x2=\"300.60589135000293\" y2=\"190.61478461506195\" stroke-linecap=\"round\" style=\"stroke:red;stroke-width:4\"/><line x1=\"300.60589135000293\" y1=\"190.61478461506195\" x2=\"298.8738405424341\" y2=\"191.61478461506198\" stroke-linecap=\"round\" style=\"stroke:red;stroke-width:4\"/><line x1=\"298.8738405424341\" y1=\"191.61478461506198\" x2=\"297.17248041105944\" y2=\"192.666152154683\" stroke-linecap=\"round\" style=\"stroke:red;stroke-width:4\"/><line x1=\"297.17248041105944\" y1=\"192.666152154683\" x2=\"295.50333390361686\" y2=\"193.76794611758723\" stroke-linecap=\"round\" style=\"stroke:red;stroke-width:4\"/><line x1=\"295.50333390361686\" y1=\"193.76794611758723\" x2=\"293.867895132288\" y2=\"194.91918024895858\" stroke-linecap=\"round\" style=\"stroke:red;stroke-width:4\"/><line x1=\"293.867895132288\" y1=\"194.91918024895858\" x2=\"292.26762803626565\" y2=\"196.11882403833442\" stroke-linecap=\"round\" style=\"stroke:red;stroke-width:4\"/><line x1=\"292.26762803626565\" y1=\"196.11882403833442\" x2=\"290.7039650713296\" y2=\"197.3658036420519\" stroke-linecap=\"round\" style=\"stroke:red;stroke-width:4\"/><line x1=\"290.7039650713296\" y1=\"197.3658036420519\" x2=\"289.1783059276051\" y2=\"198.65900284448352\" stroke-linecap=\"round\" style=\"stroke:red;stroke-width:4\"/><line x1=\"289.1783059276051\" y1=\"198.65900284448352\" x2=\"287.6920162766503\" y2=\"199.99726405720125\" stroke-linecap=\"round\" style=\"stroke:red;stroke-width:4\"/><line x1=\"287.6920162766503\" y1=\"199.99726405720125\" x2=\"286.24642654899554\" y2=\"201.379389355175\" stroke-linecap=\"round\" style=\"stroke:red;stroke-width:4\"/><line x1=\"286.24642654899554\" y1=\"201.379389355175\" x2=\"284.8428307432276\" y2=\"202.80414154907768\" stroke-linecap=\"round\" style=\"stroke:red;stroke-width:4\"/><line x1=\"284.8428307432276\" y1=\"202.80414154907768\" x2=\"283.4824852676858\" y2=\"204.27024529273734\" stroke-linecap=\"round\" style=\"stroke:red;stroke-width:4\"/><line x1=\"283.4824852676858\" y1=\"204.27024529273734\" x2=\"282.16660781580634\" y2=\"205.77638822474458\" stroke-linecap=\"round\" style=\"stroke:red;stroke-width:4\"/><line x1=\"282.16660781580634\" y1=\"205.77638822474458\" x2=\"280.896376276122\" y2=\"207.32122214319378\" stroke-linecap=\"round\" style=\"stroke:red;stroke-width:4\"/><line x1=\"280.896376276122\" y1=\"207.32122214319378\" x2=\"279.672927677892\" y2=\"208.9033642125065\" stroke-linecap=\"round\" style=\"stroke:red;stroke-width:4\"/><line x1=\"279.672927677892\" y1=\"208.9033642125065\" x2=\"278.4973571733071\" y2=\"210.5213982012564\" stroke-linecap=\"round\" style=\"stroke:red;stroke-width:4\"/><line x1=\"278.4973571733071\" y1=\"210.5213982012564\" x2=\"277.37071705717983\" y2=\"212.1738757498884\" stroke-linecap=\"round\" style=\"stroke:red;stroke-width:4\"/><line x1=\"277.37071705717983\" y1=\"212.1738757498884\" x2=\"276.2940158249985\" y2=\"213.85931766719648\" stroke-linecap=\"round\" style=\"stroke:red;stroke-width:4\"/><line x1=\"276.2940158249985\" y1=\"213.85931766719648\" x2=\"275.2682172701867\" y2=\"215.5762152544002\" stroke-linecap=\"round\" style=\"stroke:red;stroke-width:4\"/><line x1=\"275.2682172701867\" y1=\"215.5762152544002\" x2=\"274.294239621378\" y2=\"217.32303165563448\" stroke-linecap=\"round\" style=\"stroke:red;stroke-width:4\"/><line x1=\"274.294239621378\" y1=\"217.32303165563448\" x2=\"273.37295472047674\" y2=\"219.0982032336436\" stroke-linecap=\"round\" style=\"stroke:red;stroke-width:4\"/><line x1=\"273.37295472047674\" y1=\"219.0982032336436\" x2=\"272.5051872422416\" y2=\"220.90014096944844\" stroke-linecap=\"round\" style=\"stroke:red;stroke-width:4\"/><line x1=\"272.5051872422416\" y1=\"220.90014096944844\" x2=\"271.69171395609004\" y2=\"222.72723188473364\" stroke-linecap=\"round\" style=\"stroke:red;stroke-width:4\"/><line x1=\"271.69171395609004\" y1=\"222.72723188473364\" x2=\"270.9332630307842\" y2=\"224.57784048568163\" stroke-linecap=\"round\" style=\"stroke:red;stroke-width:4\"/><line x1=\"270.9332630307842\" y1=\"224.57784048568163\" x2=\"270.2305133826215\" y2=\"226.4503102269611\" stroke-linecap=\"round\" style=\"stroke:red;stroke-width:4\"/><line x1=\"270.2305133826215\" y1=\"226.4503102269611\" x2=\"269.5840940677126\" y2=\"228.34296499455945\" stroke-linecap=\"round\" style=\"stroke:red;stroke-width:4\"/><line x1=\"269.5840940677126\" y1=\"228.34296499455945\" x2=\"268.99458371889085\" y2=\"230.25411060613175\" stroke-linecap=\"round\" style=\"stroke:red;stroke-width:4\"/><line x1=\"268.99458371889085\" y1=\"230.25411060613175\" x2=\"268.4625100277575\" y2=\"232.18203632752346\" stroke-linecap=\"round\" style=\"stroke:red;stroke-width:4\"/><line x1=\"268.4625100277575\" y1=\"232.18203632752346\" x2=\"267.9883492723265\" y2=\"234.1250164041092\" stroke-linecap=\"round\" style=\"stroke:red;stroke-width:4\"/><line x1=\"267.9883492723265\" y1=\"234.1250164041092\" x2=\"267.572525890691\" y2=\"236.08131160557681\" stroke-linecap=\"round\" style=\"stroke:red;stroke-width:4\"/><line x1=\"267.572525890691\" y1=\"236.08131160557681\" x2=\"267.21541210109376\" y2=\"238.04917078277407\" stroke-linecap=\"round\" style=\"stroke:red;stroke-width:4\"/><line x1=\"267.21541210109376\" y1=\"238.04917078277407\" x2=\"266.9173275687414\" y2=\"240.02683243522432\" stroke-linecap=\"round\" style=\"stroke:red;stroke-width:4\"/><line x1=\"266.9173275687414\" y1=\"240.02683243522432\" x2=\"266.67853911966097\" y2=\"242.012526287908\" stroke-linecap=\"round\" style=\"stroke:red;stroke-width:4\"/><line x1=\"266.67853911966097\" y1=\"242.012526287908\" x2=\"266.4992605018541\" y2=\"244.0044748758985\" stroke-linecap=\"round\" style=\"stroke:red;stroke-width:4\"/><line x1=\"266.4992605018541\" y1=\"244.0044748758985\" x2=\"266.37965219396403\" y2=\"246.00089513543398\" stroke-linecap=\"round\" style=\"stroke:red;stroke-width:4\"/><line x1=\"266.37965219396403\" y1=\"246.00089513543398\" x2=\"266.31982126162524\" y2=\"248.000000000001\" stroke-linecap=\"round\" style=\"stroke:red;stroke-width:4\"/><line x1=\"266.31982126162524\" y1=\"248.000000000001\" x2=\"266.31982126162524\" y2=\"250.000000000001\" stroke-linecap=\"round\" style=\"stroke:red;stroke-width:4\"/><line x1=\"266.31982126162524\" y1=\"250.000000000001\" x2=\"266.37965219396403\" y2=\"251.999104864568\" stroke-linecap=\"round\" style=\"stroke:red;stroke-width:4\"/><line x1=\"266.37965219396403\" y1=\"251.999104864568\" x2=\"266.4992605018541\" y2=\"253.9955251241035\" stroke-linecap=\"round\" style=\"stroke:red;stroke-width:4\"/><line x1=\"266.4992605018541\" y1=\"253.9955251241035\" x2=\"266.67853911966097\" y2=\"255.98747371209396\" stroke-linecap=\"round\" style=\"stroke:red;stroke-width:4\"/><line x1=\"266.67853911966097\" y1=\"255.98747371209396\" x2=\"266.9173275687415\" y2=\"257.9731675647776\" stroke-linecap=\"round\" style=\"stroke:red;stroke-width:4\"/><line x1=\"266.9173275687415\" y1=\"257.9731675647776\" x2=\"267.2154121010939\" y2=\"259.95082921722786\" stroke-linecap=\"round\" style=\"stroke:red;stroke-width:4\"/><line x1=\"267.2154121010939\" y1=\"259.95082921722786\" x2=\"267.57252589069117\" y2=\"261.91868839442515\" stroke-linecap=\"round\" style=\"stroke:red;stroke-width:4\"/><line x1=\"267.57252589069117\" y1=\"261.91868839442515\" x2=\"267.98834927232673\" y2=\"263.87498359589273\" stroke-linecap=\"round\" style=\"stroke:red;stroke-width:4\"/><line x1=\"267.98834927232673\" y1=\"263.87498359589273\" x2=\"268.46251002775773\" y2=\"265.81796367247847\" stroke-linecap=\"round\" style=\"stroke:red;stroke-width:4\"/><line x1=\"268.46251002775773\" y1=\"265.81796367247847\" x2=\"268.9945837188911\" y2=\"267.7458893938702\" stroke-linecap=\"round\" style=\"stroke:red;stroke-width:4\"/><line x1=\"268.9945837188911\" y1=\"267.7458893938702\" x2=\"269.5840940677129\" y2=\"269.6570350054425\" stroke-linecap=\"round\" style=\"stroke:red;stroke-width:4\"/><line x1=\"269.5840940677129\" y1=\"269.6570350054425\" x2=\"270.23051338262184\" y2=\"271.5496897730408\" stroke-linecap=\"round\" style=\"stroke:red;stroke-width:4\"/><line x1=\"270.23051338262184\" y1=\"271.5496897730408\" x2=\"270.93326303078453\" y2=\"273.4221595143203\" stroke-linecap=\"round\" style=\"stroke:red;stroke-width:4\"/><line x1=\"270.93326303078453\" y1=\"273.4221595143203\" x2=\"271.6917139560904\" y2=\"275.27276811526826\" stroke-linecap=\"round\" style=\"stroke:red;stroke-width:4\"/><line x1=\"271.6917139560904\" y1=\"275.27276811526826\" x2=\"272.505187242242\" y2=\"277.09985903055343\" stroke-linecap=\"round\" style=\"stroke:red;stroke-width:4\"/><line x1=\"272.505187242242\" y1=\"277.09985903055343\" x2=\"273.37295472047714\" y2=\"278.90179676635825\" stroke-linecap=\"round\" style=\"stroke:red;stroke-width:4\"/><line x1=\"273.37295472047714\" y1=\"278.90179676635825\" x2=\"274.29423962137844\" y2=\"280.67696834436737\" stroke-linecap=\"round\" style=\"stroke:red;stroke-width:4\"/><line x1=\"274.29423962137844\" y1=\"280.67696834436737\" x2=\"275.26821727018717\" y2=\"282.4237847456016\" stroke-linecap=\"round\" style=\"stroke:red;stroke-width:4\"/><line x1=\"275.26821727018717\" y1=\"282.4237847456016\" x2=\"276.294015824999\" y2=\"284.14068233280534\" stroke-linecap=\"round\" style=\"stroke:red;stroke-width:4\"/><line x1=\"276.294015824999\" y1=\"284.14068233280534\" x2=\"277.3707170571804\" y2=\"285.8261242501134\" stroke-linecap=\"round\" style=\"stroke:red;stroke-width:4\"/><line x1=\"277.3707170571804\" y1=\"285.8261242501134\" x2=\"278.49735717330765\" y2=\"287.4786017987454\" stroke-linecap=\"round\" style=\"stroke:red;stroke-width:4\"/><line x1=\"278.49735717330765\" y1=\"287.4786017987454\" x2=\"279.67292767789263\" y2=\"289.09663578749525\" stroke-linecap=\"round\" style=\"stroke:red;stroke-width:4\"/><line x1=\"279.67292767789263\" y1=\"289.09663578749525\" x2=\"280.8963762761227\" y2=\"290.6787778568079\" stroke-linecap=\"round\" style=\"stroke:red;stroke-width:4\"/><line x1=\"280.8963762761227\" y1=\"290.6787778568079\" x2=\"282.166607815807\" y2=\"292.2236117752571\" stroke-linecap=\"round\" style=\"stroke:red;stroke-width:4\"/><line x1=\"282.166607815807\" y1=\"292.2236117752571\" x2=\"283.48248526768646\" y2=\"293.7297547072643\" stroke-linecap=\"round\" style=\"stroke:red;stroke-width:4\"/><line x1=\"283.48248526768646\" y1=\"293.7297547072643\" x2=\"284.8428307432283\" y2=\"295.19585845092394\" stroke-linecap=\"round\" style=\"stroke:red;stroke-width:4\"/><line x1=\"284.8428307432283\" y1=\"295.19585845092394\" x2=\"286.24642654899634\" y2=\"296.6206106448266\" stroke-linecap=\"round\" style=\"stroke:red;stroke-width:4\"/><line x1=\"286.24642654899634\" y1=\"296.6206106448266\" x2=\"287.69201627665115\" y2=\"298.00273594280037\" stroke-linecap=\"round\" style=\"stroke:red;stroke-width:4\"/><line x1=\"287.69201627665115\" y1=\"298.00273594280037\" x2=\"289.17830592760595\" y2=\"299.3409971555181\" stroke-linecap=\"round\" style=\"stroke:red;stroke-width:4\"/><line x1=\"289.17830592760595\" y1=\"299.3409971555181\" x2=\"290.7039650713305\" y2=\"300.6341963579497\" stroke-linecap=\"round\" style=\"stroke:red;stroke-width:4\"/><line x1=\"290.7039650713305\" y1=\"300.6341963579497\" x2=\"292.26762803626656\" y2=\"301.88117596166717\" stroke-linecap=\"round\" style=\"stroke:red;stroke-width:4\"/><line x1=\"292.26762803626656\" y1=\"301.88117596166717\" x2=\"293.867895132289\" y2=\"303.080819751043\" stroke-linecap=\"round\" style=\"stroke:red;stroke-width:4\"/><line x1=\"293.867895132289\" y1=\"303.080819751043\" x2=\"295.5033339036179\" y2=\"304.23205388241433\" stroke-linecap=\"round\" style=\"stroke:red;stroke-width:4\"/><line x1=\"295.5033339036179\" y1=\"304.23205388241433\" x2=\"297.1724804110605\" y2=\"305.33384784531853\" stroke-linecap=\"round\" style=\"stroke:red;stroke-width:4\"/><line x1=\"297.1724804110605\" y1=\"305.33384784531853\" x2=\"298.87384054243523\" y2=\"306.3852153849395\" stroke-linecap=\"round\" style=\"stroke:red;stroke-width:4\"/><line x1=\"298.87384054243523\" y1=\"306.3852153849395\" x2=\"300.60589135000413\" y2=\"307.3852153849395\" stroke-linecap=\"round\" style=\"stroke:red;stroke-width:4\"/><line x1=\"300.60589135000413\" y1=\"307.3852153849395\" x2=\"302.36708241371764\" y2=\"308.3329527098855\" stroke-linecap=\"round\" style=\"stroke:red;stroke-width:4\"/><line x1=\"302.36708241371764\" y1=\"308.3329527098855\" x2=\"304.15583722905035\" y2=\"309.22757900651675\" stroke-linecap=\"round\" style=\"stroke:red;stroke-width:4\"/><line x1=\"304.15583722905035\" y1=\"309.22757900651675\" x2=\"305.9705546181861\" y2=\"310.0682934631359\" stroke-linecap=\"round\" style=\"stroke:red;stroke-width:4\"/><line x1=\"305.9705546181861\" y1=\"310.0682934631359\" x2=\"307.809610163289\" y2=\"310.8543435264437\" stroke-linecap=\"round\" style=\"stroke:red;stroke-width:4\"/><line x1=\"307.809610163289\" y1=\"310.8543435264437\" x2=\"309.6713576605774\" y2=\"311.5850255751765\" stroke-linecap=\"round\" style=\"stroke:red;stroke-width:4\"/><line x1=\"309.6713576605774\" y1=\"311.5850255751765\" x2=\"311.55413059389923\" y2=\"312.2596855499421\" stroke-linecap=\"round\" style=\"stroke:red;stroke-width:4\"/><line x1=\"311.55413059389923\" y1=\"312.2596855499421\" x2=\"313.45624362648954\" y2=\"312.87771953869196\" stroke-linecap=\"round\" style=\"stroke:red;stroke-width:4\"/><line x1=\"313.45624362648954\" y1=\"312.87771953869196\" x2=\"315.37599410957534\" y2=\"313.43857431730396\" stroke-linecap=\"round\" style=\"stroke:red;stroke-width:4\"/><line x1=\"315.37599410957534\" y1=\"313.43857431730396\" x2=\"317.31166360647666\" y2=\"313.941747844793\" stroke-linecap=\"round\" style=\"stroke:red;stroke-width:4\"/><line x1=\"317.31166360647666\" y1=\"313.941747844793\" x2=\"319.2615194308403\" y2=\"314.3867897127056\" stroke-linecap=\"round\" style=\"stroke:red;stroke-width:4\"/><line x1=\"319.2615194308403\" y1=\"314.3867897127056\" x2=\"321.22381619762865\" y2=\"314.7733015482967\" stroke-linecap=\"round\" style=\"stroke:red;stroke-width:4\"/><line x1=\"321.22381619762865\" y1=\"314.7733015482967\" x2=\"323.1967973854757\" y2=\"315.1009373711269\" stroke-linecap=\"round\" style=\"stroke:red;stroke-width:4\"/><line x1=\"323.1967973854757\" y1=\"315.1009373711269\" x2=\"325.17869690901153\" y2=\"315.3694039027622\" stroke-linecap=\"round\" style=\"stroke:red;stroke-width:4\"/><line x1=\"325.17869690901153\" y1=\"315.3694039027622\" x2=\"327.1677406997481\" y2=\"315.5784608292975\" stroke-linecap=\"round\" style=\"stroke:red;stroke-width:4\"/><line x1=\"327.1677406997481\" y1=\"315.5784608292975\" x2=\"329.16214829411047\" y2=\"315.72792101647036\" stroke-linecap=\"round\" style=\"stroke:red;stroke-width:4\"/><line x1=\"329.16214829411047\" y1=\"315.72792101647036\" x2=\"331.1601344271931\" y2=\"315.8176506771714\" stroke-linecap=\"round\" style=\"stroke:red;stroke-width:4\"/><line x1=\"331.1601344271931\" y1=\"315.8176506771714\" x2=\"333.15991063081367\" y2=\"315.8475694912019\" stroke-linecap=\"round\" style=\"stroke:red;stroke-width:4\"/><line x1=\"333.15991063081367\" y1=\"315.8475694912019\" x2=\"335.15968683443424\" y2=\"315.81765067717134\" stroke-linecap=\"round\" style=\"stroke:red;stroke-width:4\"/><line x1=\"335.15968683443424\" y1=\"315.81765067717134\" x2=\"337.1576729675169\" y2=\"315.7279210164703\" stroke-linecap=\"round\" style=\"stroke:red;stroke-width:4\"/><line x1=\"337.1576729675169\" y1=\"315.7279210164703\" x2=\"339.15208056187925\" y2=\"315.57846082929746\" stroke-linecap=\"round\" style=\"stroke:red;stroke-width:4\"/><line x1=\"339.15208056187925\" y1=\"315.57846082929746\" x2=\"341.1411243526158\" y2=\"315.36940390276214\" stroke-linecap=\"round\" style=\"stroke:red;stroke-width:4\"/><line x1=\"341.1411243526158\" y1=\"315.36940390276214\" x2=\"343.12302387615165\" y2=\"315.1009373711268\" stroke-linecap=\"round\" style=\"stroke:red;stroke-width:4\"/><line x1=\"343.12302387615165\" y1=\"315.1009373711268\" x2=\"345.0960050639987\" y2=\"314.7733015482965\" stroke-linecap=\"round\" style=\"stroke:red;stroke-width:4\"/><line x1=\"345.0960050639987\" y1=\"314.7733015482965\" x2=\"347.05830183078706\" y2=\"314.38678971270537\" stroke-linecap=\"round\" style=\"stroke:red;stroke-width:4\"/><line x1=\"347.05830183078706\" y1=\"314.38678971270537\" x2=\"349.0081576551507\" y2=\"313.9417478447927\" stroke-linecap=\"round\" style=\"stroke:red;stroke-width:4\"/><line x1=\"349.0081576551507\" y1=\"313.9417478447927\" x2=\"350.943827152052\" y2=\"313.4385743173037\" stroke-linecap=\"round\" style=\"stroke:red;stroke-width:4\"/><line x1=\"350.943827152052\" y1=\"313.4385743173037\" x2=\"352.86357763513774\" y2=\"312.8777195386917\" stroke-linecap=\"round\" style=\"stroke:red;stroke-width:4\"/><line x1=\"352.86357763513774\" y1=\"312.8777195386917\" x2=\"354.76569066772805\" y2=\"312.25968554994176\" stroke-linecap=\"round\" style=\"stroke:red;stroke-width:4\"/><line x1=\"354.76569066772805\" y1=\"312.25968554994176\" x2=\"356.64846360104985\" y2=\"311.5850255751761\" stroke-linecap=\"round\" style=\"stroke:red;stroke-width:4\"/><line x1=\"356.64846360104985\" y1=\"311.5850255751761\" x2=\"358.51021109833823\" y2=\"310.85434352644324\" stroke-linecap=\"round\" style=\"stroke:red;stroke-width:4\"/><line x1=\"358.51021109833823\" y1=\"310.85434352644324\" x2=\"360.3492666434411\" y2=\"310.0682934631354\" stroke-linecap=\"round\" style=\"stroke:red;stroke-width:4\"/><line x1=\"360.3492666434411\" y1=\"310.0682934631354\" x2=\"362.1639840325768\" y2=\"309.22757900651624\" stroke-linecap=\"round\" style=\"stroke:red;stroke-width:4\"/><line x1=\"362.1639840325768\" y1=\"309.22757900651624\" x2=\"363.9527388479095\" y2=\"308.332952709885\" stroke-linecap=\"round\" style=\"stroke:red;stroke-width:4\"/><line x1=\"363.9527388479095\" y1=\"308.332952709885\" x2=\"365.7139299116229\" y2=\"307.385215384939\" stroke-linecap=\"round\" style=\"stroke:red;stroke-width:4\"/><line x1=\"365.7139299116229\" y1=\"307.385215384939\" x2=\"367.44598071919177\" y2=\"306.385215384939\" stroke-linecap=\"round\" style=\"stroke:red;stroke-width:4\"/><line x1=\"367.44598071919177\" y1=\"306.385215384939\" x2=\"369.1473408505664\" y2=\"305.33384784531796\" stroke-linecap=\"round\" style=\"stroke:red;stroke-width:4\"/><line x1=\"369.1473408505664\" y1=\"305.33384784531796\" x2=\"370.816487358009\" y2=\"304.23205388241377\" stroke-linecap=\"round\" style=\"stroke:red;stroke-width:4\"/><line x1=\"370.816487358009\" y1=\"304.23205388241377\" x2=\"372.45192612933783\" y2=\"303.0808197510424\" stroke-linecap=\"round\" style=\"stroke:red;stroke-width:4\"/><line x1=\"372.45192612933783\" y1=\"303.0808197510424\" x2=\"374.0521932253602\" y2=\"301.88117596166654\" stroke-linecap=\"round\" style=\"stroke:red;stroke-width:4\"/><line x1=\"374.0521932253602\" y1=\"301.88117596166654\" x2=\"375.61585619029626\" y2=\"300.63419635794907\" stroke-linecap=\"round\" style=\"stroke:red;stroke-width:4\"/><line x1=\"375.61585619029626\" y1=\"300.63419635794907\" x2=\"377.14151533402077\" y2=\"299.34099715551747\" stroke-linecap=\"round\" style=\"stroke:red;stroke-width:4\"/><line x1=\"377.14151533402077\" y1=\"299.34099715551747\" x2=\"378.6278049849755\" y2=\"298.00273594279975\" stroke-linecap=\"round\" style=\"stroke:red;stroke-width:4\"/><line x1=\"378.6278049849755\" y1=\"298.00273594279975\" x2=\"380.07339471263026\" y2=\"296.620610644826\" stroke-linecap=\"round\" style=\"stroke:red;stroke-width:4\"/><line x1=\"380.07339471263026\" y1=\"296.620610644826\" x2=\"381.4769905183982\" y2=\"295.1958584509233\" stroke-linecap=\"round\" style=\"stroke:red;stroke-width:4\"/><line x1=\"381.4769905183982\" y1=\"295.1958584509233\" x2=\"382.83733599394003\" y2=\"293.7297547072636\" stroke-linecap=\"round\" style=\"stroke:red;stroke-width:4\"/><line x1=\"382.83733599394003\" y1=\"293.7297547072636\" x2=\"384.15321344581946\" y2=\"292.22361177525636\" stroke-linecap=\"round\" style=\"stroke:red;stroke-width:4\"/><line x1=\"384.15321344581946\" y1=\"292.22361177525636\" x2=\"385.4234449855038\" y2=\"290.67877785680713\" stroke-linecap=\"round\" style=\"stroke:red;stroke-width:4\"/><line x1=\"385.4234449855038\" y1=\"290.67877785680713\" x2=\"386.6468935837338\" y2=\"289.09663578749445\" stroke-linecap=\"round\" style=\"stroke:red;stroke-width:4\"/><line x1=\"386.6468935837338\" y1=\"289.09663578749445\" x2=\"387.8224640883187\" y2=\"287.47860179874453\" stroke-linecap=\"round\" style=\"stroke:red;stroke-width:4\"/><line x1=\"387.8224640883187\" y1=\"287.47860179874453\" x2=\"388.949104204446\" y2=\"285.8261242501125\" stroke-linecap=\"round\" style=\"stroke:red;stroke-width:4\"/><line x1=\"388.949104204446\" y1=\"285.8261242501125\" x2=\"390.0258054366273\" y2=\"284.14068233280443\" stroke-linecap=\"round\" style=\"stroke:red;stroke-width:4\"/><line x1=\"390.0258054366273\" y1=\"284.14068233280443\" x2=\"391.0516039914391\" y2=\"282.4237847456007\" stroke-linecap=\"round\" style=\"stroke:red;stroke-width:4\"/><line x1=\"391.0516039914391\" y1=\"282.4237847456007\" x2=\"392.0255816402478\" y2=\"280.6769683443664\" stroke-linecap=\"round\" style=\"stroke:red;stroke-width:4\"/><line x1=\"392.0255816402478\" y1=\"280.6769683443664\" x2=\"392.94686654114906\" y2=\"278.9017967663573\" stroke-linecap=\"round\" style=\"stroke:red;stroke-width:4\"/><line x1=\"392.94686654114906\" y1=\"278.9017967663573\" x2=\"393.81463401938413\" y2=\"277.0998590305524\" stroke-linecap=\"round\" style=\"stroke:red;stroke-width:4\"/><line x1=\"393.81463401938413\" y1=\"277.0998590305524\" x2=\"394.6281073055357\" y2=\"275.2727681152672\" stroke-linecap=\"round\" style=\"stroke:red;stroke-width:4\"/><line x1=\"394.6281073055357\" y1=\"275.2727681152672\" x2=\"395.38655823084156\" y2=\"273.42215951431916\" stroke-linecap=\"round\" style=\"stroke:red;stroke-width:4\"/><line x1=\"395.38655823084156\" y1=\"273.42215951431916\" x2=\"396.0893078790042\" y2=\"271.5496897730397\" stroke-linecap=\"round\" style=\"stroke:red;stroke-width:4\"/><line x1=\"396.0893078790042\" y1=\"271.5496897730397\" x2=\"396.7357271939131\" y2=\"269.65703500544134\" stroke-linecap=\"round\" style=\"stroke:red;stroke-width:4\"/><line x1=\"396.7357271939131\" y1=\"269.65703500544134\" x2=\"397.32523754273484\" y2=\"267.74588939386905\" stroke-linecap=\"round\" style=\"stroke:red;stroke-width:4\"/><line x1=\"397.32523754273484\" y1=\"267.74588939386905\" x2=\"397.8573112338682\" y2=\"265.81796367247733\" stroke-linecap=\"round\" style=\"stroke:red;stroke-width:4\"/><line x1=\"397.8573112338682\" y1=\"265.81796367247733\" x2=\"398.33147198929913\" y2=\"263.8749835958916\" stroke-linecap=\"round\" style=\"stroke:red;stroke-width:4\"/><line x1=\"398.33147198929913\" y1=\"263.8749835958916\" x2=\"398.74729537093464\" y2=\"261.91868839442395\" stroke-linecap=\"round\" style=\"stroke:red;stroke-width:4\"/><line x1=\"398.74729537093464\" y1=\"261.91868839442395\" x2=\"399.1044091605319\" y2=\"259.95082921722667\" stroke-linecap=\"round\" style=\"stroke:red;stroke-width:4\"/><line x1=\"399.1044091605319\" y1=\"259.95082921722667\" x2=\"399.4024936928842\" y2=\"257.9731675647764\" stroke-linecap=\"round\" style=\"stroke:red;stroke-width:4\"/><line x1=\"399.4024936928842\" y1=\"257.9731675647764\" x2=\"399.64128214196467\" y2=\"255.98747371209274\" stroke-linecap=\"round\" style=\"stroke:red;stroke-width:4\"/><line x1=\"399.64128214196467\" y1=\"255.98747371209274\" x2=\"399.8205607597715\" y2=\"253.99552512410224\" stroke-linecap=\"round\" style=\"stroke:red;stroke-width:4\"/><line x1=\"399.8205607597715\" y1=\"253.99552512410224\" x2=\"399.94016906766154\" y2=\"251.99910486456676\" stroke-linecap=\"round\" style=\"stroke:red;stroke-width:4\"/><line x1=\"399.94016906766154\" y1=\"251.99910486456676\" x2=\"400.0000000000003\" y2=\"249.99999999999974\" stroke-linecap=\"round\" style=\"stroke:red;stroke-width:4\"/>\n",
              "        \n",
              "      <g visibility=visible transform=\"rotate(179.9999999999991,400.0000000000003,249.99999999999974) translate(400.0000000000003, 249.99999999999974)\">\n",
              "        <circle stroke=\"red\" stroke-width=\"3\" fill=\"transparent\" r=\"12\" cx=\"0\" cy=\"0\"/>\n",
              "        <polygon points=\"0,19 3,16 -3,16\" style=\"fill:red;stroke:red;stroke-width:2\"/>\n",
              "      </g>\n",
              "    \n",
              "      </svg>\n",
              "    "
            ],
            "text/plain": [
              "<IPython.core.display.HTML object>"
            ]
          },
          "metadata": {
            "tags": []
          }
        }
      ]
    },
    {
      "cell_type": "markdown",
      "metadata": {
        "id": "NsJ6R0HDgBGh"
      },
      "source": [
        "## Exercícios - Parte 1:\n",
        "1. [**Não é possível fazer no Google Colab. Pule para o exercício 2**] Modifique o programa da tartaruga (primeiro exemplo) para que, antes de criar a janela, ele solicite que o usuário insira a cor de fundo desejada. Ele deve armazenar as respostas do usuário em uma variável e modificar a cor da janela de acordo com os desejos do usuário. \n",
        "   * ***Dicas***: faça uso da função ***input***, built-in do python\n",
        "   * você pode encontrar uma lista de nomes de cores permitidos em http://www.tcl.tk/man/tcl8.4/TkCmd/colors.htm. Inclui alguns bem incomuns, como “peach puff” e “HotPink” ”***\n",
        "   \n",
        "1. Faça modificações similares para permitir que o usuário mude a cor da tartaruga durante a execução do programa.\n",
        "   1. Faça o mesmo para a largura da caneta da tartaruga. *Dica: seu diálogo com o usuário retornará uma string, mas o método ```pensize``` ( ```width``` no Google Colab) espera que seu argumento seja um **int**. Então, você precisará converter a **string** em um **int** antes de passá-la para **pensize**.*   \n",
        "   \n",
        "1. Investiguem os métodos e atributos do módulo ```turtle```  (```ColabTurtle``` no Google Colab);\n",
        "\n",
        "1. Desenhe um quadrado, usando a forma de tartaruga, ao invés da flecha, para desenhar (***caso esteja no Google Colab, não precisa mudar a forma***).\n",
        "   1. mude a velocidade com que a tartaruga faz o desenho.\n",
        "   \n",
        "1. Sabendo que o ângulo interno da ponta de uma estrela de 5 pontas é de 36 graus, desenhe uma estrela.\n",
        "![title](https://github.com/malbouis/Python_intro/blob/master/aulas_2019/pics/estrela.png?raw=1)\n",
        "\n",
        "1. Sabendo o ângulo interno da ponta de uma estrela, desenhe quatro estrelas em uma janela, com uma certa distância entre elas. Dica: use a função penup() e pendown() do módulo ```turtle```."
      ]
    },
    {
      "cell_type": "markdown",
      "metadata": {
        "id": "Nrky4VThKyZS"
      },
      "source": [
        "## Exercícios - Parte 2:\n",
        "  \n",
        "1. Escreva um conjunto apropriadamente geral de funções que possam desenhar flores como na Figura abaixo:\n",
        "![flowers](https://github.com/malbouis/Python_intro/blob/master/aulas_2019/pics/flowers.png?raw=1)\n",
        "1. Escreva um conjunto apropriadamente geral de funções que podem desenhar formas como na figura:\n",
        "![shapes](https://github.com/malbouis/Python_intro/blob/master/aulas_2019/pics/shapes_turtle.png?raw=1)\n",
        "Veja mais exercícios em: http://greenteapress.com/thinkpython2/html/thinkpython2005.html#sec42\n",
        "e: http://dfnae.fis.uerj.br/twiki/bin/view/DFNAE/IntroPython#Aula_6\n",
        "\n",
        "1. Adicione instruções para desenhar o talo e folha da flor. Faça a refatoração apropriada para a interface da flor completa ficar \"limpa\".\n",
        "1. As letras do alfabeto podem ser construídas a partir de um número moderado de elementos básicos, como linhas verticais e horizontais e algumas curvas. Projete um alfabeto que possa ser desenhado com um número mínimo de elementos básicos e depois escreva funções que desenhem as letras.\n",
        "   1. Você deve escrever uma função para cada letra, com os nomes ```draw_a_```, ```_draw_b_```, etc., e colocar suas funções em um arquivo chamado ```letters.py```. Você pode baixar uma “turtle typewriter” de http://thinkpython2.com/code/typewriter.py para ajudá-lo a testar seu código.\n",
        "   1. Você pode obter uma solução em http://thinkpython2.com/code/letters.py; também requer http://thinkpython2.com/code/polygon.py.\n",
        "1. Leia sobre espirais em http://en.wikipedia.org/wiki/Spiral; em seguida, escreva um programa que desenhe uma espiral arquimediana (ou um dos outros tipos). Solução: http://thinkpython2.com/code/spiral.py."
      ]
    }
  ]
}